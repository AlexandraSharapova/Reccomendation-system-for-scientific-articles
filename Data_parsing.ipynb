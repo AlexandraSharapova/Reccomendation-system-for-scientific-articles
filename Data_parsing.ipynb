{
  "cells": [
    {
      "cell_type": "markdown",
      "metadata": {
        "id": "FOj5wJh6oivA"
      },
      "source": [
        "#Loading main data from Crossref"
      ]
    },
    {
      "cell_type": "code",
      "execution_count": null,
      "metadata": {
        "id": "w6QkNdO9lDbY"
      },
      "outputs": [],
      "source": [
        "import pandas as pd\n",
        "import requests\n",
        "from tqdm import tqdm_notebook\n",
        "\n",
        "def get_doi_from_issn_2(issn, rows=1000):\n",
        "    '''\n",
        "    input: ISSN of journal\n",
        "    return: list of all DOI\n",
        "    '''\n",
        "    all_dois = {}\n",
        "    cursor = '*'\n",
        "    d = requests.get(f'https://api.crossref.org/v1/journals/{issn}/works?sort=published&rows={str(rows)}&cursor={cursor}').json()\n",
        "    for i in tqdm_notebook(d['message']['items']):\n",
        "        if ('title' not in i):\n",
        "            continue\n",
        "        if ('abstract' in i):\n",
        "            paper = {i['DOI']:{'title': i['title'][0], \n",
        "                               'year': i['published']['date-parts'][0][0], \n",
        "                               'num_citiations': i['is-referenced-by-count'],\n",
        "                               'ISSN': issn,\n",
        "                               'abstract': i['abstract'],\n",
        "                               }}\n",
        "        else:\n",
        "            paper = {i['DOI']:{'title': i['title'][0], \n",
        "                               'year': i['published']['date-parts'][0][0], \n",
        "                               'num_citiations': i['is-referenced-by-count'],\n",
        "                               'ISSN': issn,\n",
        "                               'abstract': ''}}     \n",
        "              \n",
        "        all_dois.update(paper)\n",
        "    \n",
        "    total_results = d['message']['total-results']\n",
        "    next_cursor = d['message']['next-cursor']\n",
        "\n",
        "    for i in tqdm_notebook(range(int(total_results/rows))):\n",
        "        d = requests.get(f'https://api.crossref.org/v1/journals/{issn}/works?sort=published&rows=1000&cursor={next_cursor}').json()\n",
        "        next_cursor = d['message']['next-cursor']\n",
        "        try:\n",
        "            for i in d['message']['items']:\n",
        "                if ('title' not in i):\n",
        "                    continue\n",
        "                if ('abstract' in i):\n",
        "                    paper = {i['DOI']:{'title': i['title'][0], \n",
        "                                       'year': i['published']['date-parts'][0][0], \n",
        "                                       'num_citiations': i['is-referenced-by-count'],\n",
        "                                       'ISSN': issn,\n",
        "                                       'abstract': i['abstract']}}\n",
        "                else:\n",
        "                    paper = {i['DOI']:{'title': i['title'][0], \n",
        "                                       'year': i['published']['date-parts'][0][0], \n",
        "                                       'num_citiations': i['is-referenced-by-count'],\n",
        "                                       'ISSN': issn,\n",
        "                                       'abstract': ''}} \n",
        "                    \n",
        "                    \n",
        "                all_dois.update(paper)\n",
        "        except:\n",
        "            pass\n",
        "    return all_dois\n"
      ]
    },
    {
      "cell_type": "markdown",
      "metadata": {
        "id": "iLqa4cy8unek"
      },
      "source": [
        "# Choosing all the Organic chemistry Journals"
      ]
    },
    {
      "cell_type": "code",
      "execution_count": null,
      "metadata": {
        "colab": {
          "base_uri": "https://localhost:8080/"
        },
        "id": "IswdUdSptHge",
        "outputId": "d2f7bf01-56ec-4552-b4b8-941da58cccba"
      },
      "outputs": [
        {
          "name": "stdout",
          "output_type": "stream",
          "text": [
            "Mounted at /content/drive\n"
          ]
        }
      ],
      "source": [
        "from google.colab import drive\n",
        "drive.mount('/content/drive')"
      ]
    },
    {
      "cell_type": "code",
      "execution_count": null,
      "metadata": {
        "colab": {
          "base_uri": "https://localhost:8080/"
        },
        "id": "AxYlqzeiuqxu",
        "outputId": "3fdd74a2-de12-4666-ea2f-ddcf79373441"
      },
      "outputs": [
        {
          "name": "stdout",
          "output_type": "stream",
          "text": [
            "/content/drive/My Drive\n"
          ]
        }
      ],
      "source": [
        "%cd /content/drive/My Drive"
      ]
    },
    {
      "cell_type": "code",
      "execution_count": null,
      "metadata": {
        "id": "jngWN5Q1uvT4"
      },
      "outputs": [],
      "source": [
        "import numpy as np\n",
        "import pandas as pd\n",
        "import matplotlib.pyplot as plt\n",
        "import tensorflow as tf"
      ]
    },
    {
      "cell_type": "code",
      "execution_count": null,
      "metadata": {
        "colab": {
          "base_uri": "https://localhost:8080/",
          "height": 1000
        },
        "id": "-H2YaDTauyN2",
        "outputId": "f9d591cf-36dc-4269-b177-27177800e45d"
      },
      "outputs": [
        {
          "name": "stderr",
          "output_type": "stream",
          "text": [
            "/usr/local/lib/python3.7/dist-packages/IPython/core/interactiveshell.py:3326: DtypeWarning: Columns (5) have mixed types.Specify dtype option on import or set low_memory=False.\n",
            "  exec(code_obj, self.user_global_ns, self.user_ns)\n"
          ]
        },
        {
          "data": {
            "text/html": [
              "\n",
              "  <div id=\"df-3b73fb3f-6fbe-449b-8b60-25e7737dc90d\">\n",
              "    <div class=\"colab-df-container\">\n",
              "      <div>\n",
              "<style scoped>\n",
              "    .dataframe tbody tr th:only-of-type {\n",
              "        vertical-align: middle;\n",
              "    }\n",
              "\n",
              "    .dataframe tbody tr th {\n",
              "        vertical-align: top;\n",
              "    }\n",
              "\n",
              "    .dataframe thead th {\n",
              "        text-align: right;\n",
              "    }\n",
              "</style>\n",
              "<table border=\"1\" class=\"dataframe\">\n",
              "  <thead>\n",
              "    <tr style=\"text-align: right;\">\n",
              "      <th></th>\n",
              "      <th>Rank</th>\n",
              "      <th>Sourceid</th>\n",
              "      <th>Title</th>\n",
              "      <th>Type</th>\n",
              "      <th>Issn</th>\n",
              "      <th>SJR</th>\n",
              "      <th>SJR Best Quartile</th>\n",
              "      <th>H index</th>\n",
              "      <th>Total Docs. (2020)</th>\n",
              "      <th>Total Docs. (3years)</th>\n",
              "      <th>...</th>\n",
              "      <th>Total Cites (3years)</th>\n",
              "      <th>Citable Docs. (3years)</th>\n",
              "      <th>Cites / Doc. (2years)</th>\n",
              "      <th>Ref. / Doc.</th>\n",
              "      <th>Country</th>\n",
              "      <th>Region</th>\n",
              "      <th>Publisher</th>\n",
              "      <th>Coverage</th>\n",
              "      <th>Categories</th>\n",
              "      <th>row_num</th>\n",
              "    </tr>\n",
              "  </thead>\n",
              "  <tbody>\n",
              "    <tr>\n",
              "      <th>0</th>\n",
              "      <td>1</td>\n",
              "      <td>28773</td>\n",
              "      <td>Ca-A Cancer Journal for Clinicians</td>\n",
              "      <td>journal</td>\n",
              "      <td>15424863, 00079235</td>\n",
              "      <td>62,937</td>\n",
              "      <td>Q1</td>\n",
              "      <td>168</td>\n",
              "      <td>47</td>\n",
              "      <td>119</td>\n",
              "      <td>...</td>\n",
              "      <td>15499</td>\n",
              "      <td>80</td>\n",
              "      <td>126,34</td>\n",
              "      <td>73,45</td>\n",
              "      <td>United States</td>\n",
              "      <td>Northern America</td>\n",
              "      <td>Wiley-Blackwell</td>\n",
              "      <td>1950-2020</td>\n",
              "      <td>Hematology (Q1); Oncology (Q1)</td>\n",
              "      <td>0</td>\n",
              "    </tr>\n",
              "    <tr>\n",
              "      <th>1</th>\n",
              "      <td>2</td>\n",
              "      <td>19434</td>\n",
              "      <td>MMWR Recommendations and Reports</td>\n",
              "      <td>journal</td>\n",
              "      <td>10575987, 15458601</td>\n",
              "      <td>40,949</td>\n",
              "      <td>Q1</td>\n",
              "      <td>143</td>\n",
              "      <td>10</td>\n",
              "      <td>9</td>\n",
              "      <td>...</td>\n",
              "      <td>492</td>\n",
              "      <td>9</td>\n",
              "      <td>50,00</td>\n",
              "      <td>129,20</td>\n",
              "      <td>United States</td>\n",
              "      <td>Northern America</td>\n",
              "      <td>Centers for Disease Control and Prevention (CDC)</td>\n",
              "      <td>1990-2020</td>\n",
              "      <td>Epidemiology (Q1); Health Information Manageme...</td>\n",
              "      <td>1</td>\n",
              "    </tr>\n",
              "    <tr>\n",
              "      <th>2</th>\n",
              "      <td>3</td>\n",
              "      <td>20315</td>\n",
              "      <td>Nature Reviews Molecular Cell Biology</td>\n",
              "      <td>journal</td>\n",
              "      <td>14710072, 14710080</td>\n",
              "      <td>37,461</td>\n",
              "      <td>Q1</td>\n",
              "      <td>431</td>\n",
              "      <td>115</td>\n",
              "      <td>338</td>\n",
              "      <td>...</td>\n",
              "      <td>10844</td>\n",
              "      <td>167</td>\n",
              "      <td>32,83</td>\n",
              "      <td>73,38</td>\n",
              "      <td>United Kingdom</td>\n",
              "      <td>Western Europe</td>\n",
              "      <td>Nature Publishing Group</td>\n",
              "      <td>2000-2020</td>\n",
              "      <td>Cell Biology (Q1); Molecular Biology (Q1)</td>\n",
              "      <td>2</td>\n",
              "    </tr>\n",
              "    <tr>\n",
              "      <th>3</th>\n",
              "      <td>4</td>\n",
              "      <td>29431</td>\n",
              "      <td>Quarterly Journal of Economics</td>\n",
              "      <td>journal</td>\n",
              "      <td>00335533, 15314650</td>\n",
              "      <td>34,573</td>\n",
              "      <td>Q1</td>\n",
              "      <td>259</td>\n",
              "      <td>40</td>\n",
              "      <td>110</td>\n",
              "      <td>...</td>\n",
              "      <td>1945</td>\n",
              "      <td>109</td>\n",
              "      <td>16,00</td>\n",
              "      <td>68,33</td>\n",
              "      <td>United Kingdom</td>\n",
              "      <td>Western Europe</td>\n",
              "      <td>Oxford University Press</td>\n",
              "      <td>1886-2020</td>\n",
              "      <td>Economics and Econometrics (Q1)</td>\n",
              "      <td>3</td>\n",
              "    </tr>\n",
              "    <tr>\n",
              "      <th>4</th>\n",
              "      <td>5</td>\n",
              "      <td>21100812243</td>\n",
              "      <td>Nature Reviews Materials</td>\n",
              "      <td>journal</td>\n",
              "      <td>20588437</td>\n",
              "      <td>32,011</td>\n",
              "      <td>Q1</td>\n",
              "      <td>108</td>\n",
              "      <td>92</td>\n",
              "      <td>264</td>\n",
              "      <td>...</td>\n",
              "      <td>11188</td>\n",
              "      <td>138</td>\n",
              "      <td>32,15</td>\n",
              "      <td>115,57</td>\n",
              "      <td>United Kingdom</td>\n",
              "      <td>Western Europe</td>\n",
              "      <td>Nature Publishing Group</td>\n",
              "      <td>2016-2020</td>\n",
              "      <td>Biomaterials (Q1); Electronic, Optical and Mag...</td>\n",
              "      <td>4</td>\n",
              "    </tr>\n",
              "    <tr>\n",
              "      <th>...</th>\n",
              "      <td>...</td>\n",
              "      <td>...</td>\n",
              "      <td>...</td>\n",
              "      <td>...</td>\n",
              "      <td>...</td>\n",
              "      <td>...</td>\n",
              "      <td>...</td>\n",
              "      <td>...</td>\n",
              "      <td>...</td>\n",
              "      <td>...</td>\n",
              "      <td>...</td>\n",
              "      <td>...</td>\n",
              "      <td>...</td>\n",
              "      <td>...</td>\n",
              "      <td>...</td>\n",
              "      <td>...</td>\n",
              "      <td>...</td>\n",
              "      <td>...</td>\n",
              "      <td>...</td>\n",
              "      <td>...</td>\n",
              "      <td>...</td>\n",
              "    </tr>\n",
              "    <tr>\n",
              "      <th>32947</th>\n",
              "      <td>32948</td>\n",
              "      <td>25412</td>\n",
              "      <td>Zhonghua kou qiang yi xue za zhi = Zhonghua ko...</td>\n",
              "      <td>journal</td>\n",
              "      <td>10020098</td>\n",
              "      <td>NaN</td>\n",
              "      <td>-</td>\n",
              "      <td>14</td>\n",
              "      <td>150</td>\n",
              "      <td>0</td>\n",
              "      <td>...</td>\n",
              "      <td>0</td>\n",
              "      <td>0</td>\n",
              "      <td>0,00</td>\n",
              "      <td>0,00</td>\n",
              "      <td>China</td>\n",
              "      <td>Asiatic Region</td>\n",
              "      <td>Zhonghua Yixuehui Zazhishe</td>\n",
              "      <td>1987-2016, 2020</td>\n",
              "      <td>Medicine (miscellaneous)</td>\n",
              "      <td>32947</td>\n",
              "    </tr>\n",
              "    <tr>\n",
              "      <th>32948</th>\n",
              "      <td>32949</td>\n",
              "      <td>21485</td>\n",
              "      <td>Zhonghua liu xing bing xue za zhi = Zhonghua l...</td>\n",
              "      <td>journal</td>\n",
              "      <td>02546450</td>\n",
              "      <td>NaN</td>\n",
              "      <td>-</td>\n",
              "      <td>31</td>\n",
              "      <td>292</td>\n",
              "      <td>0</td>\n",
              "      <td>...</td>\n",
              "      <td>0</td>\n",
              "      <td>0</td>\n",
              "      <td>0,00</td>\n",
              "      <td>0,00</td>\n",
              "      <td>China</td>\n",
              "      <td>Asiatic Region</td>\n",
              "      <td>Zhonghua Yixuehui Zazhishe</td>\n",
              "      <td>1982-2016, 2020</td>\n",
              "      <td>Medicine (miscellaneous)</td>\n",
              "      <td>32948</td>\n",
              "    </tr>\n",
              "    <tr>\n",
              "      <th>32949</th>\n",
              "      <td>32950</td>\n",
              "      <td>26726</td>\n",
              "      <td>Zhonghua nei ke za zhi [Chinese journal of int...</td>\n",
              "      <td>journal</td>\n",
              "      <td>05781426</td>\n",
              "      <td>NaN</td>\n",
              "      <td>-</td>\n",
              "      <td>18</td>\n",
              "      <td>5</td>\n",
              "      <td>0</td>\n",
              "      <td>...</td>\n",
              "      <td>0</td>\n",
              "      <td>0</td>\n",
              "      <td>0,00</td>\n",
              "      <td>0,00</td>\n",
              "      <td>China</td>\n",
              "      <td>Asiatic Region</td>\n",
              "      <td>Zhonghua Yixuehui Zazhishe</td>\n",
              "      <td>1957-1959, 1979-1997, 1999-2016, 2020</td>\n",
              "      <td>Medicine (miscellaneous)</td>\n",
              "      <td>32949</td>\n",
              "    </tr>\n",
              "    <tr>\n",
              "      <th>32950</th>\n",
              "      <td>32951</td>\n",
              "      <td>19324</td>\n",
              "      <td>Zhonghua wai ke za zhi [Chinese journal of sur...</td>\n",
              "      <td>journal</td>\n",
              "      <td>05295815</td>\n",
              "      <td>NaN</td>\n",
              "      <td>-</td>\n",
              "      <td>16</td>\n",
              "      <td>5</td>\n",
              "      <td>0</td>\n",
              "      <td>...</td>\n",
              "      <td>0</td>\n",
              "      <td>0</td>\n",
              "      <td>0,00</td>\n",
              "      <td>0,00</td>\n",
              "      <td>China</td>\n",
              "      <td>Asiatic Region</td>\n",
              "      <td>Zhonghua Yixuehui Zazhishe</td>\n",
              "      <td>1957, 1959-1964, 1979-2016, 2020</td>\n",
              "      <td>Medicine (miscellaneous)</td>\n",
              "      <td>32950</td>\n",
              "    </tr>\n",
              "    <tr>\n",
              "      <th>32951</th>\n",
              "      <td>32952</td>\n",
              "      <td>20906</td>\n",
              "      <td>Zhurnal Mikrobiologii Epidemiologii i Immunobi...</td>\n",
              "      <td>journal</td>\n",
              "      <td>03729311</td>\n",
              "      <td>NaN</td>\n",
              "      <td>-</td>\n",
              "      <td>12</td>\n",
              "      <td>53</td>\n",
              "      <td>0</td>\n",
              "      <td>...</td>\n",
              "      <td>0</td>\n",
              "      <td>0</td>\n",
              "      <td>0,00</td>\n",
              "      <td>23,85</td>\n",
              "      <td>Russian Federation</td>\n",
              "      <td>Eastern Europe</td>\n",
              "      <td>Izdatel'stvo S-Info</td>\n",
              "      <td>1945-1947, 1954-2016</td>\n",
              "      <td>Immunology; Medicine (miscellaneous); Microbio...</td>\n",
              "      <td>32951</td>\n",
              "    </tr>\n",
              "  </tbody>\n",
              "</table>\n",
              "<p>32952 rows × 21 columns</p>\n",
              "</div>\n",
              "      <button class=\"colab-df-convert\" onclick=\"convertToInteractive('df-3b73fb3f-6fbe-449b-8b60-25e7737dc90d')\"\n",
              "              title=\"Convert this dataframe to an interactive table.\"\n",
              "              style=\"display:none;\">\n",
              "        \n",
              "  <svg xmlns=\"http://www.w3.org/2000/svg\" height=\"24px\"viewBox=\"0 0 24 24\"\n",
              "       width=\"24px\">\n",
              "    <path d=\"M0 0h24v24H0V0z\" fill=\"none\"/>\n",
              "    <path d=\"M18.56 5.44l.94 2.06.94-2.06 2.06-.94-2.06-.94-.94-2.06-.94 2.06-2.06.94zm-11 1L8.5 8.5l.94-2.06 2.06-.94-2.06-.94L8.5 2.5l-.94 2.06-2.06.94zm10 10l.94 2.06.94-2.06 2.06-.94-2.06-.94-.94-2.06-.94 2.06-2.06.94z\"/><path d=\"M17.41 7.96l-1.37-1.37c-.4-.4-.92-.59-1.43-.59-.52 0-1.04.2-1.43.59L10.3 9.45l-7.72 7.72c-.78.78-.78 2.05 0 2.83L4 21.41c.39.39.9.59 1.41.59.51 0 1.02-.2 1.41-.59l7.78-7.78 2.81-2.81c.8-.78.8-2.07 0-2.86zM5.41 20L4 18.59l7.72-7.72 1.47 1.35L5.41 20z\"/>\n",
              "  </svg>\n",
              "      </button>\n",
              "      \n",
              "  <style>\n",
              "    .colab-df-container {\n",
              "      display:flex;\n",
              "      flex-wrap:wrap;\n",
              "      gap: 12px;\n",
              "    }\n",
              "\n",
              "    .colab-df-convert {\n",
              "      background-color: #E8F0FE;\n",
              "      border: none;\n",
              "      border-radius: 50%;\n",
              "      cursor: pointer;\n",
              "      display: none;\n",
              "      fill: #1967D2;\n",
              "      height: 32px;\n",
              "      padding: 0 0 0 0;\n",
              "      width: 32px;\n",
              "    }\n",
              "\n",
              "    .colab-df-convert:hover {\n",
              "      background-color: #E2EBFA;\n",
              "      box-shadow: 0px 1px 2px rgba(60, 64, 67, 0.3), 0px 1px 3px 1px rgba(60, 64, 67, 0.15);\n",
              "      fill: #174EA6;\n",
              "    }\n",
              "\n",
              "    [theme=dark] .colab-df-convert {\n",
              "      background-color: #3B4455;\n",
              "      fill: #D2E3FC;\n",
              "    }\n",
              "\n",
              "    [theme=dark] .colab-df-convert:hover {\n",
              "      background-color: #434B5C;\n",
              "      box-shadow: 0px 1px 3px 1px rgba(0, 0, 0, 0.15);\n",
              "      filter: drop-shadow(0px 1px 2px rgba(0, 0, 0, 0.3));\n",
              "      fill: #FFFFFF;\n",
              "    }\n",
              "  </style>\n",
              "\n",
              "      <script>\n",
              "        const buttonEl =\n",
              "          document.querySelector('#df-3b73fb3f-6fbe-449b-8b60-25e7737dc90d button.colab-df-convert');\n",
              "        buttonEl.style.display =\n",
              "          google.colab.kernel.accessAllowed ? 'block' : 'none';\n",
              "\n",
              "        async function convertToInteractive(key) {\n",
              "          const element = document.querySelector('#df-3b73fb3f-6fbe-449b-8b60-25e7737dc90d');\n",
              "          const dataTable =\n",
              "            await google.colab.kernel.invokeFunction('convertToInteractive',\n",
              "                                                     [key], {});\n",
              "          if (!dataTable) return;\n",
              "\n",
              "          const docLinkHtml = 'Like what you see? Visit the ' +\n",
              "            '<a target=\"_blank\" href=https://colab.research.google.com/notebooks/data_table.ipynb>data table notebook</a>'\n",
              "            + ' to learn more about interactive tables.';\n",
              "          element.innerHTML = '';\n",
              "          dataTable['output_type'] = 'display_data';\n",
              "          await google.colab.output.renderOutput(dataTable, element);\n",
              "          const docLink = document.createElement('div');\n",
              "          docLink.innerHTML = docLinkHtml;\n",
              "          element.appendChild(docLink);\n",
              "        }\n",
              "      </script>\n",
              "    </div>\n",
              "  </div>\n",
              "  "
            ],
            "text/plain": [
              "        Rank     Sourceid                                              Title  \\\n",
              "0          1        28773                 Ca-A Cancer Journal for Clinicians   \n",
              "1          2        19434                   MMWR Recommendations and Reports   \n",
              "2          3        20315              Nature Reviews Molecular Cell Biology   \n",
              "3          4        29431                     Quarterly Journal of Economics   \n",
              "4          5  21100812243                           Nature Reviews Materials   \n",
              "...      ...          ...                                                ...   \n",
              "32947  32948        25412  Zhonghua kou qiang yi xue za zhi = Zhonghua ko...   \n",
              "32948  32949        21485  Zhonghua liu xing bing xue za zhi = Zhonghua l...   \n",
              "32949  32950        26726  Zhonghua nei ke za zhi [Chinese journal of int...   \n",
              "32950  32951        19324  Zhonghua wai ke za zhi [Chinese journal of sur...   \n",
              "32951  32952        20906  Zhurnal Mikrobiologii Epidemiologii i Immunobi...   \n",
              "\n",
              "          Type                Issn     SJR SJR Best Quartile  H index  \\\n",
              "0      journal  15424863, 00079235  62,937                Q1      168   \n",
              "1      journal  10575987, 15458601  40,949                Q1      143   \n",
              "2      journal  14710072, 14710080  37,461                Q1      431   \n",
              "3      journal  00335533, 15314650  34,573                Q1      259   \n",
              "4      journal            20588437  32,011                Q1      108   \n",
              "...        ...                 ...     ...               ...      ...   \n",
              "32947  journal            10020098     NaN                 -       14   \n",
              "32948  journal            02546450     NaN                 -       31   \n",
              "32949  journal            05781426     NaN                 -       18   \n",
              "32950  journal            05295815     NaN                 -       16   \n",
              "32951  journal            03729311     NaN                 -       12   \n",
              "\n",
              "       Total Docs. (2020)  Total Docs. (3years)  ...  Total Cites (3years)  \\\n",
              "0                      47                   119  ...                 15499   \n",
              "1                      10                     9  ...                   492   \n",
              "2                     115                   338  ...                 10844   \n",
              "3                      40                   110  ...                  1945   \n",
              "4                      92                   264  ...                 11188   \n",
              "...                   ...                   ...  ...                   ...   \n",
              "32947                 150                     0  ...                     0   \n",
              "32948                 292                     0  ...                     0   \n",
              "32949                   5                     0  ...                     0   \n",
              "32950                   5                     0  ...                     0   \n",
              "32951                  53                     0  ...                     0   \n",
              "\n",
              "       Citable Docs. (3years)  Cites / Doc. (2years) Ref. / Doc.  \\\n",
              "0                          80                 126,34       73,45   \n",
              "1                           9                  50,00      129,20   \n",
              "2                         167                  32,83       73,38   \n",
              "3                         109                  16,00       68,33   \n",
              "4                         138                  32,15      115,57   \n",
              "...                       ...                    ...         ...   \n",
              "32947                       0                   0,00        0,00   \n",
              "32948                       0                   0,00        0,00   \n",
              "32949                       0                   0,00        0,00   \n",
              "32950                       0                   0,00        0,00   \n",
              "32951                       0                   0,00       23,85   \n",
              "\n",
              "                  Country            Region  \\\n",
              "0           United States  Northern America   \n",
              "1           United States  Northern America   \n",
              "2          United Kingdom    Western Europe   \n",
              "3          United Kingdom    Western Europe   \n",
              "4          United Kingdom    Western Europe   \n",
              "...                   ...               ...   \n",
              "32947               China    Asiatic Region   \n",
              "32948               China    Asiatic Region   \n",
              "32949               China    Asiatic Region   \n",
              "32950               China    Asiatic Region   \n",
              "32951  Russian Federation    Eastern Europe   \n",
              "\n",
              "                                              Publisher  \\\n",
              "0                                       Wiley-Blackwell   \n",
              "1      Centers for Disease Control and Prevention (CDC)   \n",
              "2                               Nature Publishing Group   \n",
              "3                               Oxford University Press   \n",
              "4                               Nature Publishing Group   \n",
              "...                                                 ...   \n",
              "32947                        Zhonghua Yixuehui Zazhishe   \n",
              "32948                        Zhonghua Yixuehui Zazhishe   \n",
              "32949                        Zhonghua Yixuehui Zazhishe   \n",
              "32950                        Zhonghua Yixuehui Zazhishe   \n",
              "32951                               Izdatel'stvo S-Info   \n",
              "\n",
              "                                    Coverage  \\\n",
              "0                                  1950-2020   \n",
              "1                                  1990-2020   \n",
              "2                                  2000-2020   \n",
              "3                                  1886-2020   \n",
              "4                                  2016-2020   \n",
              "...                                      ...   \n",
              "32947                        1987-2016, 2020   \n",
              "32948                        1982-2016, 2020   \n",
              "32949  1957-1959, 1979-1997, 1999-2016, 2020   \n",
              "32950       1957, 1959-1964, 1979-2016, 2020   \n",
              "32951                   1945-1947, 1954-2016   \n",
              "\n",
              "                                              Categories row_num  \n",
              "0                         Hematology (Q1); Oncology (Q1)       0  \n",
              "1      Epidemiology (Q1); Health Information Manageme...       1  \n",
              "2              Cell Biology (Q1); Molecular Biology (Q1)       2  \n",
              "3                        Economics and Econometrics (Q1)       3  \n",
              "4      Biomaterials (Q1); Electronic, Optical and Mag...       4  \n",
              "...                                                  ...     ...  \n",
              "32947                           Medicine (miscellaneous)   32947  \n",
              "32948                           Medicine (miscellaneous)   32948  \n",
              "32949                           Medicine (miscellaneous)   32949  \n",
              "32950                           Medicine (miscellaneous)   32950  \n",
              "32951  Immunology; Medicine (miscellaneous); Microbio...   32951  \n",
              "\n",
              "[32952 rows x 21 columns]"
            ]
          },
          "execution_count": 5,
          "metadata": {},
          "output_type": "execute_result"
        }
      ],
      "source": [
        "jouranls_chemistry = pd.read_csv('scimagojr 2020 (1).csv', sep=';',header=0)\n",
        "jouranls_chemistry['row_num'] = np.arange(len(jouranls_chemistry))\n",
        "jouranls_chemistry"
      ]
    },
    {
      "cell_type": "code",
      "execution_count": null,
      "metadata": {
        "colab": {
          "base_uri": "https://localhost:8080/",
          "height": 1000
        },
        "id": "ugT4Qh2Lu00k",
        "outputId": "f392c809-bd9a-4e3e-a142-d0f2b2b3ad49"
      },
      "outputs": [
        {
          "data": {
            "text/html": [
              "\n",
              "  <div id=\"df-89724e6f-9ed8-4873-9a78-897c2f53f922\">\n",
              "    <div class=\"colab-df-container\">\n",
              "      <div>\n",
              "<style scoped>\n",
              "    .dataframe tbody tr th:only-of-type {\n",
              "        vertical-align: middle;\n",
              "    }\n",
              "\n",
              "    .dataframe tbody tr th {\n",
              "        vertical-align: top;\n",
              "    }\n",
              "\n",
              "    .dataframe thead th {\n",
              "        text-align: right;\n",
              "    }\n",
              "</style>\n",
              "<table border=\"1\" class=\"dataframe\">\n",
              "  <thead>\n",
              "    <tr style=\"text-align: right;\">\n",
              "      <th></th>\n",
              "      <th>Rank</th>\n",
              "      <th>Sourceid</th>\n",
              "      <th>Title</th>\n",
              "      <th>Type</th>\n",
              "      <th>Issn</th>\n",
              "      <th>SJR</th>\n",
              "      <th>SJR Best Quartile</th>\n",
              "      <th>H index</th>\n",
              "      <th>Total Docs. (2020)</th>\n",
              "      <th>Total Docs. (3years)</th>\n",
              "      <th>...</th>\n",
              "      <th>Total Cites (3years)</th>\n",
              "      <th>Citable Docs. (3years)</th>\n",
              "      <th>Cites / Doc. (2years)</th>\n",
              "      <th>Ref. / Doc.</th>\n",
              "      <th>Country</th>\n",
              "      <th>Region</th>\n",
              "      <th>Publisher</th>\n",
              "      <th>Coverage</th>\n",
              "      <th>Categories</th>\n",
              "      <th>row_num</th>\n",
              "    </tr>\n",
              "  </thead>\n",
              "  <tbody>\n",
              "    <tr>\n",
              "      <th>211</th>\n",
              "      <td>212</td>\n",
              "      <td>26465</td>\n",
              "      <td>Progress in Polymer Science</td>\n",
              "      <td>journal</td>\n",
              "      <td>00796700</td>\n",
              "      <td>5,952</td>\n",
              "      <td>Q1</td>\n",
              "      <td>279</td>\n",
              "      <td>55</td>\n",
              "      <td>169</td>\n",
              "      <td>...</td>\n",
              "      <td>4645</td>\n",
              "      <td>169</td>\n",
              "      <td>27,57</td>\n",
              "      <td>217,56</td>\n",
              "      <td>United Kingdom</td>\n",
              "      <td>Western Europe</td>\n",
              "      <td>Elsevier Ltd.</td>\n",
              "      <td>1967, 1970-1971, 1975, 1977-1978, 1980-1986, 1...</td>\n",
              "      <td>Ceramics and Composites (Q1); Materials Chemis...</td>\n",
              "      <td>211</td>\n",
              "    </tr>\n",
              "    <tr>\n",
              "      <th>648</th>\n",
              "      <td>649</td>\n",
              "      <td>26968</td>\n",
              "      <td>Journal of Photochemistry and Photobiology C: ...</td>\n",
              "      <td>journal</td>\n",
              "      <td>13895567</td>\n",
              "      <td>2,987</td>\n",
              "      <td>Q1</td>\n",
              "      <td>92</td>\n",
              "      <td>12</td>\n",
              "      <td>68</td>\n",
              "      <td>...</td>\n",
              "      <td>848</td>\n",
              "      <td>67</td>\n",
              "      <td>11,72</td>\n",
              "      <td>223,50</td>\n",
              "      <td>Netherlands</td>\n",
              "      <td>Western Europe</td>\n",
              "      <td>Elsevier</td>\n",
              "      <td>2000-2020</td>\n",
              "      <td>Catalysis (Q1); Organic Chemistry (Q1); Physic...</td>\n",
              "      <td>648</td>\n",
              "    </tr>\n",
              "    <tr>\n",
              "      <th>772</th>\n",
              "      <td>773</td>\n",
              "      <td>26371</td>\n",
              "      <td>Natural Product Reports</td>\n",
              "      <td>journal</td>\n",
              "      <td>02650568, 14604752</td>\n",
              "      <td>2,703</td>\n",
              "      <td>Q1</td>\n",
              "      <td>177</td>\n",
              "      <td>92</td>\n",
              "      <td>246</td>\n",
              "      <td>...</td>\n",
              "      <td>2233</td>\n",
              "      <td>239</td>\n",
              "      <td>8,45</td>\n",
              "      <td>138,00</td>\n",
              "      <td>United Kingdom</td>\n",
              "      <td>Western Europe</td>\n",
              "      <td>Royal Society of Chemistry</td>\n",
              "      <td>1984-2020</td>\n",
              "      <td>Biochemistry (Q1); Drug Discovery (Q1); Organi...</td>\n",
              "      <td>772</td>\n",
              "    </tr>\n",
              "    <tr>\n",
              "      <th>1246</th>\n",
              "      <td>1247</td>\n",
              "      <td>21100242403</td>\n",
              "      <td>Redox Biology</td>\n",
              "      <td>journal</td>\n",
              "      <td>22132317</td>\n",
              "      <td>2,059</td>\n",
              "      <td>Q1</td>\n",
              "      <td>88</td>\n",
              "      <td>434</td>\n",
              "      <td>783</td>\n",
              "      <td>...</td>\n",
              "      <td>8400</td>\n",
              "      <td>770</td>\n",
              "      <td>10,47</td>\n",
              "      <td>78,28</td>\n",
              "      <td>Netherlands</td>\n",
              "      <td>Western Europe</td>\n",
              "      <td>Elsevier BV</td>\n",
              "      <td>2013-2020</td>\n",
              "      <td>Biochemistry (Q1); Clinical Biochemistry (Q1);...</td>\n",
              "      <td>1246</td>\n",
              "    </tr>\n",
              "    <tr>\n",
              "      <th>1316</th>\n",
              "      <td>1317</td>\n",
              "      <td>21100779404</td>\n",
              "      <td>Macromolecules</td>\n",
              "      <td>journal</td>\n",
              "      <td>00249297, 15205835</td>\n",
              "      <td>1,994</td>\n",
              "      <td>Q1</td>\n",
              "      <td>313</td>\n",
              "      <td>1070</td>\n",
              "      <td>2971</td>\n",
              "      <td>...</td>\n",
              "      <td>17662</td>\n",
              "      <td>2956</td>\n",
              "      <td>5,48</td>\n",
              "      <td>57,47</td>\n",
              "      <td>United States</td>\n",
              "      <td>Northern America</td>\n",
              "      <td>American Chemical Society</td>\n",
              "      <td>1968-2020</td>\n",
              "      <td>Inorganic Chemistry (Q1); Materials Chemistry ...</td>\n",
              "      <td>1316</td>\n",
              "    </tr>\n",
              "    <tr>\n",
              "      <th>...</th>\n",
              "      <td>...</td>\n",
              "      <td>...</td>\n",
              "      <td>...</td>\n",
              "      <td>...</td>\n",
              "      <td>...</td>\n",
              "      <td>...</td>\n",
              "      <td>...</td>\n",
              "      <td>...</td>\n",
              "      <td>...</td>\n",
              "      <td>...</td>\n",
              "      <td>...</td>\n",
              "      <td>...</td>\n",
              "      <td>...</td>\n",
              "      <td>...</td>\n",
              "      <td>...</td>\n",
              "      <td>...</td>\n",
              "      <td>...</td>\n",
              "      <td>...</td>\n",
              "      <td>...</td>\n",
              "      <td>...</td>\n",
              "      <td>...</td>\n",
              "    </tr>\n",
              "    <tr>\n",
              "      <th>24266</th>\n",
              "      <td>24267</td>\n",
              "      <td>21100202726</td>\n",
              "      <td>Trends in Carbohydrate Research</td>\n",
              "      <td>journal</td>\n",
              "      <td>09750304</td>\n",
              "      <td>0,140</td>\n",
              "      <td>Q4</td>\n",
              "      <td>7</td>\n",
              "      <td>24</td>\n",
              "      <td>70</td>\n",
              "      <td>...</td>\n",
              "      <td>22</td>\n",
              "      <td>70</td>\n",
              "      <td>0,28</td>\n",
              "      <td>41,71</td>\n",
              "      <td>India</td>\n",
              "      <td>Asiatic Region</td>\n",
              "      <td>Association of Carbohydrate Chemists and Techn...</td>\n",
              "      <td>2009-2020</td>\n",
              "      <td>Organic Chemistry (Q4)</td>\n",
              "      <td>24266</td>\n",
              "    </tr>\n",
              "    <tr>\n",
              "      <th>24804</th>\n",
              "      <td>24805</td>\n",
              "      <td>21100201730</td>\n",
              "      <td>Organophosphorus Chemistry</td>\n",
              "      <td>book series</td>\n",
              "      <td>14651904, 03060713</td>\n",
              "      <td>0,135</td>\n",
              "      <td>Q4</td>\n",
              "      <td>7</td>\n",
              "      <td>9</td>\n",
              "      <td>19</td>\n",
              "      <td>...</td>\n",
              "      <td>11</td>\n",
              "      <td>17</td>\n",
              "      <td>0,56</td>\n",
              "      <td>165,56</td>\n",
              "      <td>United Kingdom</td>\n",
              "      <td>Western Europe</td>\n",
              "      <td>Chemical Society</td>\n",
              "      <td>2008, 2012, 2014-2018, 2020</td>\n",
              "      <td>Biochemistry (Q4); Organic Chemistry (Q4)</td>\n",
              "      <td>24804</td>\n",
              "    </tr>\n",
              "    <tr>\n",
              "      <th>25663</th>\n",
              "      <td>25664</td>\n",
              "      <td>19800188074</td>\n",
              "      <td>Medicinal Plants - International Journal of Ph...</td>\n",
              "      <td>journal</td>\n",
              "      <td>09754261, 09756892</td>\n",
              "      <td>0,128</td>\n",
              "      <td>Q4</td>\n",
              "      <td>10</td>\n",
              "      <td>74</td>\n",
              "      <td>163</td>\n",
              "      <td>...</td>\n",
              "      <td>37</td>\n",
              "      <td>162</td>\n",
              "      <td>0,27</td>\n",
              "      <td>36,09</td>\n",
              "      <td>Netherlands</td>\n",
              "      <td>Western Europe</td>\n",
              "      <td>IOS Press</td>\n",
              "      <td>2010-2020</td>\n",
              "      <td>Drug Discovery (Q4); Organic Chemistry (Q4); P...</td>\n",
              "      <td>25663</td>\n",
              "    </tr>\n",
              "    <tr>\n",
              "      <th>26755</th>\n",
              "      <td>26756</td>\n",
              "      <td>24112</td>\n",
              "      <td>Indian Journal of Heterocyclic Chemistry</td>\n",
              "      <td>journal</td>\n",
              "      <td>09711627</td>\n",
              "      <td>0,122</td>\n",
              "      <td>Q4</td>\n",
              "      <td>30</td>\n",
              "      <td>81</td>\n",
              "      <td>90</td>\n",
              "      <td>...</td>\n",
              "      <td>23</td>\n",
              "      <td>90</td>\n",
              "      <td>0,32</td>\n",
              "      <td>28,20</td>\n",
              "      <td>India</td>\n",
              "      <td>Asiatic Region</td>\n",
              "      <td>Connect Journals</td>\n",
              "      <td>1996-2020</td>\n",
              "      <td>Biochemistry (Q4); Organic Chemistry (Q4)</td>\n",
              "      <td>26755</td>\n",
              "    </tr>\n",
              "    <tr>\n",
              "      <th>31136</th>\n",
              "      <td>31137</td>\n",
              "      <td>68395</td>\n",
              "      <td>Celulosa Y Papel</td>\n",
              "      <td>trade journal</td>\n",
              "      <td>07162308</td>\n",
              "      <td>0,101</td>\n",
              "      <td>Q4</td>\n",
              "      <td>2</td>\n",
              "      <td>0</td>\n",
              "      <td>34</td>\n",
              "      <td>...</td>\n",
              "      <td>0</td>\n",
              "      <td>34</td>\n",
              "      <td>0,00</td>\n",
              "      <td>0,00</td>\n",
              "      <td>Chile</td>\n",
              "      <td>Latin America</td>\n",
              "      <td>ATCP Asociacion Tecnica de la Celulosa y el Papel</td>\n",
              "      <td>1999-2019</td>\n",
              "      <td>Materials Chemistry (Q4); Organic Chemistry (Q4)</td>\n",
              "      <td>31136</td>\n",
              "    </tr>\n",
              "  </tbody>\n",
              "</table>\n",
              "<p>175 rows × 21 columns</p>\n",
              "</div>\n",
              "      <button class=\"colab-df-convert\" onclick=\"convertToInteractive('df-89724e6f-9ed8-4873-9a78-897c2f53f922')\"\n",
              "              title=\"Convert this dataframe to an interactive table.\"\n",
              "              style=\"display:none;\">\n",
              "        \n",
              "  <svg xmlns=\"http://www.w3.org/2000/svg\" height=\"24px\"viewBox=\"0 0 24 24\"\n",
              "       width=\"24px\">\n",
              "    <path d=\"M0 0h24v24H0V0z\" fill=\"none\"/>\n",
              "    <path d=\"M18.56 5.44l.94 2.06.94-2.06 2.06-.94-2.06-.94-.94-2.06-.94 2.06-2.06.94zm-11 1L8.5 8.5l.94-2.06 2.06-.94-2.06-.94L8.5 2.5l-.94 2.06-2.06.94zm10 10l.94 2.06.94-2.06 2.06-.94-2.06-.94-.94-2.06-.94 2.06-2.06.94z\"/><path d=\"M17.41 7.96l-1.37-1.37c-.4-.4-.92-.59-1.43-.59-.52 0-1.04.2-1.43.59L10.3 9.45l-7.72 7.72c-.78.78-.78 2.05 0 2.83L4 21.41c.39.39.9.59 1.41.59.51 0 1.02-.2 1.41-.59l7.78-7.78 2.81-2.81c.8-.78.8-2.07 0-2.86zM5.41 20L4 18.59l7.72-7.72 1.47 1.35L5.41 20z\"/>\n",
              "  </svg>\n",
              "      </button>\n",
              "      \n",
              "  <style>\n",
              "    .colab-df-container {\n",
              "      display:flex;\n",
              "      flex-wrap:wrap;\n",
              "      gap: 12px;\n",
              "    }\n",
              "\n",
              "    .colab-df-convert {\n",
              "      background-color: #E8F0FE;\n",
              "      border: none;\n",
              "      border-radius: 50%;\n",
              "      cursor: pointer;\n",
              "      display: none;\n",
              "      fill: #1967D2;\n",
              "      height: 32px;\n",
              "      padding: 0 0 0 0;\n",
              "      width: 32px;\n",
              "    }\n",
              "\n",
              "    .colab-df-convert:hover {\n",
              "      background-color: #E2EBFA;\n",
              "      box-shadow: 0px 1px 2px rgba(60, 64, 67, 0.3), 0px 1px 3px 1px rgba(60, 64, 67, 0.15);\n",
              "      fill: #174EA6;\n",
              "    }\n",
              "\n",
              "    [theme=dark] .colab-df-convert {\n",
              "      background-color: #3B4455;\n",
              "      fill: #D2E3FC;\n",
              "    }\n",
              "\n",
              "    [theme=dark] .colab-df-convert:hover {\n",
              "      background-color: #434B5C;\n",
              "      box-shadow: 0px 1px 3px 1px rgba(0, 0, 0, 0.15);\n",
              "      filter: drop-shadow(0px 1px 2px rgba(0, 0, 0, 0.3));\n",
              "      fill: #FFFFFF;\n",
              "    }\n",
              "  </style>\n",
              "\n",
              "      <script>\n",
              "        const buttonEl =\n",
              "          document.querySelector('#df-89724e6f-9ed8-4873-9a78-897c2f53f922 button.colab-df-convert');\n",
              "        buttonEl.style.display =\n",
              "          google.colab.kernel.accessAllowed ? 'block' : 'none';\n",
              "\n",
              "        async function convertToInteractive(key) {\n",
              "          const element = document.querySelector('#df-89724e6f-9ed8-4873-9a78-897c2f53f922');\n",
              "          const dataTable =\n",
              "            await google.colab.kernel.invokeFunction('convertToInteractive',\n",
              "                                                     [key], {});\n",
              "          if (!dataTable) return;\n",
              "\n",
              "          const docLinkHtml = 'Like what you see? Visit the ' +\n",
              "            '<a target=\"_blank\" href=https://colab.research.google.com/notebooks/data_table.ipynb>data table notebook</a>'\n",
              "            + ' to learn more about interactive tables.';\n",
              "          element.innerHTML = '';\n",
              "          dataTable['output_type'] = 'display_data';\n",
              "          await google.colab.output.renderOutput(dataTable, element);\n",
              "          const docLink = document.createElement('div');\n",
              "          docLink.innerHTML = docLinkHtml;\n",
              "          element.appendChild(docLink);\n",
              "        }\n",
              "      </script>\n",
              "    </div>\n",
              "  </div>\n",
              "  "
            ],
            "text/plain": [
              "        Rank     Sourceid                                              Title  \\\n",
              "211      212        26465                        Progress in Polymer Science   \n",
              "648      649        26968  Journal of Photochemistry and Photobiology C: ...   \n",
              "772      773        26371                            Natural Product Reports   \n",
              "1246    1247  21100242403                                      Redox Biology   \n",
              "1316    1317  21100779404                                     Macromolecules   \n",
              "...      ...          ...                                                ...   \n",
              "24266  24267  21100202726                    Trends in Carbohydrate Research   \n",
              "24804  24805  21100201730                         Organophosphorus Chemistry   \n",
              "25663  25664  19800188074  Medicinal Plants - International Journal of Ph...   \n",
              "26755  26756        24112           Indian Journal of Heterocyclic Chemistry   \n",
              "31136  31137        68395                                   Celulosa Y Papel   \n",
              "\n",
              "                Type                Issn    SJR SJR Best Quartile  H index  \\\n",
              "211          journal            00796700  5,952                Q1      279   \n",
              "648          journal            13895567  2,987                Q1       92   \n",
              "772          journal  02650568, 14604752  2,703                Q1      177   \n",
              "1246         journal            22132317  2,059                Q1       88   \n",
              "1316         journal  00249297, 15205835  1,994                Q1      313   \n",
              "...              ...                 ...    ...               ...      ...   \n",
              "24266        journal            09750304  0,140                Q4        7   \n",
              "24804    book series  14651904, 03060713  0,135                Q4        7   \n",
              "25663        journal  09754261, 09756892  0,128                Q4       10   \n",
              "26755        journal            09711627  0,122                Q4       30   \n",
              "31136  trade journal            07162308  0,101                Q4        2   \n",
              "\n",
              "       Total Docs. (2020)  Total Docs. (3years)  ...  Total Cites (3years)  \\\n",
              "211                    55                   169  ...                  4645   \n",
              "648                    12                    68  ...                   848   \n",
              "772                    92                   246  ...                  2233   \n",
              "1246                  434                   783  ...                  8400   \n",
              "1316                 1070                  2971  ...                 17662   \n",
              "...                   ...                   ...  ...                   ...   \n",
              "24266                  24                    70  ...                    22   \n",
              "24804                   9                    19  ...                    11   \n",
              "25663                  74                   163  ...                    37   \n",
              "26755                  81                    90  ...                    23   \n",
              "31136                   0                    34  ...                     0   \n",
              "\n",
              "       Citable Docs. (3years)  Cites / Doc. (2years) Ref. / Doc.  \\\n",
              "211                       169                  27,57      217,56   \n",
              "648                        67                  11,72      223,50   \n",
              "772                       239                   8,45      138,00   \n",
              "1246                      770                  10,47       78,28   \n",
              "1316                     2956                   5,48       57,47   \n",
              "...                       ...                    ...         ...   \n",
              "24266                      70                   0,28       41,71   \n",
              "24804                      17                   0,56      165,56   \n",
              "25663                     162                   0,27       36,09   \n",
              "26755                      90                   0,32       28,20   \n",
              "31136                      34                   0,00        0,00   \n",
              "\n",
              "              Country            Region  \\\n",
              "211    United Kingdom    Western Europe   \n",
              "648       Netherlands    Western Europe   \n",
              "772    United Kingdom    Western Europe   \n",
              "1246      Netherlands    Western Europe   \n",
              "1316    United States  Northern America   \n",
              "...               ...               ...   \n",
              "24266           India    Asiatic Region   \n",
              "24804  United Kingdom    Western Europe   \n",
              "25663     Netherlands    Western Europe   \n",
              "26755           India    Asiatic Region   \n",
              "31136           Chile     Latin America   \n",
              "\n",
              "                                               Publisher  \\\n",
              "211                                        Elsevier Ltd.   \n",
              "648                                             Elsevier   \n",
              "772                           Royal Society of Chemistry   \n",
              "1246                                         Elsevier BV   \n",
              "1316                           American Chemical Society   \n",
              "...                                                  ...   \n",
              "24266  Association of Carbohydrate Chemists and Techn...   \n",
              "24804                                   Chemical Society   \n",
              "25663                                          IOS Press   \n",
              "26755                                   Connect Journals   \n",
              "31136  ATCP Asociacion Tecnica de la Celulosa y el Papel   \n",
              "\n",
              "                                                Coverage  \\\n",
              "211    1967, 1970-1971, 1975, 1977-1978, 1980-1986, 1...   \n",
              "648                                            2000-2020   \n",
              "772                                            1984-2020   \n",
              "1246                                           2013-2020   \n",
              "1316                                           1968-2020   \n",
              "...                                                  ...   \n",
              "24266                                          2009-2020   \n",
              "24804                        2008, 2012, 2014-2018, 2020   \n",
              "25663                                          2010-2020   \n",
              "26755                                          1996-2020   \n",
              "31136                                          1999-2019   \n",
              "\n",
              "                                              Categories row_num  \n",
              "211    Ceramics and Composites (Q1); Materials Chemis...     211  \n",
              "648    Catalysis (Q1); Organic Chemistry (Q1); Physic...     648  \n",
              "772    Biochemistry (Q1); Drug Discovery (Q1); Organi...     772  \n",
              "1246   Biochemistry (Q1); Clinical Biochemistry (Q1);...    1246  \n",
              "1316   Inorganic Chemistry (Q1); Materials Chemistry ...    1316  \n",
              "...                                                  ...     ...  \n",
              "24266                             Organic Chemistry (Q4)   24266  \n",
              "24804          Biochemistry (Q4); Organic Chemistry (Q4)   24804  \n",
              "25663  Drug Discovery (Q4); Organic Chemistry (Q4); P...   25663  \n",
              "26755          Biochemistry (Q4); Organic Chemistry (Q4)   26755  \n",
              "31136   Materials Chemistry (Q4); Organic Chemistry (Q4)   31136  \n",
              "\n",
              "[175 rows x 21 columns]"
            ]
          },
          "execution_count": 6,
          "metadata": {},
          "output_type": "execute_result"
        }
      ],
      "source": [
        "journ_chem_org = jouranls_chemistry[jouranls_chemistry['Categories'].str.contains(\"Organic Chemistry\")] #add your field here\n",
        "journ_chem_org[journ_chem_org['Issn'] != '-']"
      ]
    },
    {
      "cell_type": "code",
      "execution_count": null,
      "metadata": {
        "colab": {
          "base_uri": "https://localhost:8080/"
        },
        "id": "IYTe0uzNu5FZ",
        "outputId": "9f764efe-733b-4e3f-896e-e7d4afdbd424"
      },
      "outputs": [
        {
          "data": {
            "text/plain": [
              "array(['00796700', '13895567', '02650568, 14604752', '22132317',\n",
              "       '00249297, 15205835', '21611653', '15237052, 15237060',\n",
              "       '15213765, 09476539', '18791344, 01448617', '13504177, 18732828',\n",
              "       '00162361, 18737153', '16154169, 16154150', '00025100',\n",
              "       '18673880, 18673899', '14220067, 16616596', '17599954, 17599962',\n",
              "       '20524110, 20524129', '10221336, 15213927', '15204812, 10431802',\n",
              "       '11782013, 11769114', '15206041, 02767333', '15206904, 00223263',\n",
              "       '18614728, 1861471X', '02235234, 17683254', '23670932', '19485875',\n",
              "       '14394227, 14397633', '00219673, 18733778', '01633864, 15206025',\n",
              "       '11100621, 20902468', '09298673, 1875533X', '14770520, 14770539',\n",
              "       '00330655, 03009440', '20630212, 2062249X', '14387492, 14392054',\n",
              "       '00323861', '1520586X, 10836160', '09394451, 14382199', '00143057',\n",
              "       '00652725', '1437210X, 00397881', '20901283, 20901291',\n",
              "       '15653633, 1687479X', '19763786, 02536269', '21935807',\n",
              "       '10990690, 1434193X', '18607187, 18607179', '07248741, 1573904X',\n",
              "       '01429418', '00452068, 10902120', '00786179', '14203049',\n",
              "       '10990518, 0887624X', '18605397', '26328682', '0018019X, 15222675',\n",
              "       '25901478', '14643391, 09680896', '15723887', '22126198',\n",
              "       '09365214, 14372096', '1788618X', '02567679, 14396203', '00653195',\n",
              "       '18732941, 00093084', '02682575, 10974660', '21922209, 21922195',\n",
              "       '03639045, 15205762', '00389056, 1521379X', '14643405, 0960894X',\n",
              "       '15589307, 00244201', '09253467', '10970126, 09598103', '17470277',\n",
              "       '03010074', '14645416, 00404020', '10221352, 15213935', '23102861',\n",
              "       '03014622, 18734200', '19433638, 00090352', '00063525, 10970282',\n",
              "       '00404039, 18733581', '24758817', '09514198, 10970231',\n",
              "       '07306679, 10982329', '02652048, 14645246', '17337178',\n",
              "       '15589331, 0003021X', '13403443, 18610293', '09168451, 13476947',\n",
              "       '00221139', '15728935, 10229760', '15985032', '0022328X',\n",
              "       '18681751, 18681743', '14786427, 14786419', '10752617, 10991387',\n",
              "       '00222860', '0039128X, 18785867', '00086215, 1873426X',\n",
              "       '03624803, 10991344', '1520636X, 08990042', '13076167',\n",
              "       '00095893, 16121112', '14390221, 00320943', '24680842, 24680834',\n",
              "       '14769271', '09540083, 13616412', '1362511X, 09574166',\n",
              "       '1573501X, 13811991', '00173495, 19884214', '22334998, 19764251',\n",
              "       '15213919, 10221344', '13852728, 18755348', '16102940, 09485023',\n",
              "       '14651939, 05848555', '0972060X', '10286020, 14772213',\n",
              "       '14782421, 02624893', '1536383X, 15364046', '15607267, 15607259',\n",
              "       '10542523, 15548120', '15322327, 07328303', '10974601, 05388066',\n",
              "       '2041353X, 14651963', '2070206X, 20702051', '17249449',\n",
              "       '10991395, 08943230', '00084042, 14803291', '12263907', '0022152X',\n",
              "       '01041428', '02532786', '23454865, 22520236', '00397911, 15322432',\n",
              "       '19349270, 19349289', '05769787', '00093122, 15738353',\n",
              "       '13862073, 18755402', '15701794', '1570193X', '00304948, 19455453',\n",
              "       '23333553, 00786209', '09149244', '07930283, 21910197',\n",
              "       '10221360, 15213900', '19989539', '03855414', '17451167, 10241221',\n",
              "       '15635333, 10406638', '14777606, 14782413', '13076175',\n",
              "       '10426507, 15635325', '19760442', '10681620, 1608330X',\n",
              "       '09157352, 18832113', '22133372, 22133380', '10704280, 16083393',\n",
              "       '15517004, 15517012', '10295143, 10295151', '25667297, 25105469',\n",
              "       '18965644', '15701786', '2212408X, 15740870', '18722059, 10008713',\n",
              "       '00356808', '18836526, 00379980', '03764699, 09750983', '00194522',\n",
              "       '14228599', '09750304', '14651904, 03060713', '09754261, 09756892',\n",
              "       '09711627', '07162308'], dtype=object)"
            ]
          },
          "execution_count": 7,
          "metadata": {},
          "output_type": "execute_result"
        }
      ],
      "source": [
        "journ_chem_org = journ_chem_org[journ_chem_org['Issn'] != '-']\n",
        "journ_chem_org['Issn'].unique()"
      ]
    },
    {
      "cell_type": "markdown",
      "metadata": {
        "id": "LVaun69MwP_d"
      },
      "source": [
        "#Preprocess those ISSN which contains 2 in one row"
      ]
    },
    {
      "cell_type": "code",
      "execution_count": null,
      "metadata": {
        "id": "yRoVS3rju-_-"
      },
      "outputs": [],
      "source": [
        "comma = \",\"\n",
        "for i in journ_chem_org['row_num']:\n",
        "  for comma in  journ_chem_org['Issn'][i]:\n",
        "     journ_chem_org['Issn'][i] = journ_chem_org['Issn'][i].split(',')[0]\n",
        "     \n",
        "journ_chem_org['Issn'].unique()"
      ]
    },
    {
      "cell_type": "markdown",
      "metadata": {
        "id": "HLwStMs1waDI"
      },
      "source": [
        "**From resulting list of ISSN lets choose the most appropriate ones without errors after download attempt**"
      ]
    },
    {
      "cell_type": "code",
      "execution_count": null,
      "metadata": {
        "id": "HpKSDbVtwUJu"
      },
      "outputs": [],
      "source": [
        "ISSN_list_chem = journ_chem_org['Issn'][journ_chem_org['Issn']!= '-'].unique()\n",
        "ISSN_list_chem"
      ]
    },
    {
      "cell_type": "markdown",
      "metadata": {
        "id": "B35SZpevwopB"
      },
      "source": [
        "##Add your issn in the list below and remove previous"
      ]
    },
    {
      "cell_type": "code",
      "execution_count": null,
      "metadata": {
        "id": "3pNYlfHpwe_A"
      },
      "outputs": [],
      "source": [
        "issnlistoflists = [ '13895567', '02650568', '22132317', '00249297',\n",
        "       '21611653', '15237052','13504177',\n",
        "      '16154169', '18673880', '14220067',\n",
        "       '17599954', '20524110', '10221336', '15204812', '11782013',\n",
        "       '15206041', '15206904', '18614728', '02235234', \n",
        "       '19485875', '14394227', '00219673', '01633864', '11100621',\n",
        "       '09298673', '14770520', '00330655', '20630212', '14387492',\n",
        "       '00323861', '1520586X', '09394451', '00143057', '1437210X',\n",
        "       '19763786', '21935807', '10990690',\n",
        "       '18607187', '07248741', '01429418', '00452068',  '14203049', '10990518', '18605397', '0018019X',\n",
        "       '25901478',  '15723887', '22126198', '09365214',\n",
        "       '1788618X', '02567679', '02682575',\n",
        "       '03639045', '00389056',  '15589307',\n",
        "       '09253467', '10970126', '17470277',        \n",
        "       '10221352', '23102861', '03014622', '19433638', '00063525',\n",
        "       '00404039', '09514198', '07306679', '02652048',\n",
        "       '17337178', '15589331', '13403443', '09168451', '00221139',\n",
        "       '15728935', '15985032', '0022328X','10752617', '00222860', '0039128X', '00086215', '03624803',\n",
        "       '1520636X', '00095893', '14390221', '24680842',\n",
        "       '14769271', '09540083',  '1573501X', '00173495',\n",
        "       '22334998', '15213919', '13852728', '16102940', \n",
        "       '0972060X', '10286020', '14782421', '1536383X', \n",
        "       '10542523', '15322327', '10974601',  '2070206X',\n",
        "        '10991395', '00084042', '12263907', '0022152X',\n",
        "       '01041428', '02532786',  '00397911', \n",
        "        '00093122', '13862073', '15701794', \n",
        "       '00304948', '23333553', '09149244', '07930283', '10221360',\n",
        "       '19989539', '03855414', '17451167', '15635333',  \n",
        "       '10426507', '19760442', '10681620', '09157352',\n",
        "        '10704280',  '10295143',\n",
        "   '15701786', '18722059', \n",
        "       '18836526', '00194522', '14228599']"
      ]
    },
    {
      "cell_type": "markdown",
      "metadata": {
        "id": "H78KIh9Zo6DW"
      },
      "source": [
        "00928674', '15487091',\n",
        " '15454509',\n",
        " \n",
        " \n",
        " '17444292',\n",
        " '02614189',\n",
        " '17542189',\n",
        " '15205126',\n",
        " '24519294',\n",
        " '00034967',\n",
        " '22111247',\n",
        " '1616301X',\n",
        " '1545326X',\n",
        " '19430264',\n",
        " '2050084X',\n",
        " '15296466',\n",
        " '20411723',\n",
        " '15280020',\n",
        " '15345807',\n",
        " '17577012',  '1469185X',\n",
        " '15491277',\n",
        " '10409238',\n",
        " '14693178',\n",
        " '15449173',\n",
        " '17417007',\n",
        " '21571422', '19450877',\n",
        "\n",
        " '13674811',\n",
        " '15681637',\n",
        " '00982997','1469896X',\n",
        " '00711365',\n",
        " '22136711',\n",
        " '16720229',\n",
        " '20462441',\n",
        " '13675931',\n",
        " '00796565',\n",
        " '16748018',\n",
        " '23795077',\n",
        " '0012821X',\n",
        " '23993642',\n",
        " '15359476',\n",
        " '09628436',\n",
        " '16729072',\n",
        " '12263613',\n",
        " '16000854',\n",
        " '2410339X',\n",
        " '14602415',\n",
        " '15251314',\n",
        " '23523964',\n",
        " '25751077',\n",
        " '14708752',"
      ]
    },
    {
      "cell_type": "code",
      "execution_count": null,
      "metadata": {
        "id": "H2QoYRXdYn0I"
      },
      "outputs": [],
      "source": [
        "issnlistoflists =[\n",
        "\n",
        "\n",
        " '19343396',\n",
        " '23522895',\n",
        " '10441549',\n",
        " '02787407',\n",
        " '11786469',\n",
        " '22147535',\n",
        " '00219258',\n",
        " '15687864',\n",
        " '03019268',\n",
        " '09628452',\n",
        " '00167037',\n",
        " '17585082',\n",
        " '17548403',\n",
        " '0006341X',\n",
        " '2311553X',\n",
        " '15230864',\n",
        " '21593345',\n",
        " '18790305',\n",
        " '0021972X',\n",
        " '10217770',\n",
        " '19315244',\n",
        " '02659247',\n",
        " '21615063',\n",
        " '2296889X',\n",
        " '1939005X',\n",
        " '10462023',\n",
        " '00107999',\n",
        " '14730197',\n",
        " '10982787',\n",
        " '03060225',\n",
        " '15397262',\n",
        " '15730956',\n",
        " '21699356',\n",
        " '1742464X',\n",
        " '24519103',\n",
        " '23993669',\n",
        " '14728222',\n",
        " '20954956',\n",
        " '0022202X',\n",
        " '20527276',\n",
        " '17427061',\n",
        " '03767388',\n",
        " '15252027',\n",
        " '08915849',\n",
        " '20010370',\n",
        " '21688370',\n",
        " '15548937',\n",
        " '00244937',\n",
        " '21541256',\n",
        " '19376448',\n",
        " '17471028',\n",
        " '21541272',\n",
        " '25740962']"
      ]
    },
    {
      "cell_type": "markdown",
      "metadata": {
        "id": "P3gqi8nwxZyb"
      },
      "source": [
        "#Let's call the function and load info about all the articles from journals with issn from a list"
      ]
    },
    {
      "cell_type": "code",
      "execution_count": null,
      "metadata": {
        "colab": {
          "background_save": true,
          "base_uri": "https://localhost:8080/",
          "height": 669,
          "referenced_widgets": [
            "d8a56c5495364bb68e77a846c4330da4",
            "7d8436cbbcca4365a04c807158c4ccb3",
            "582b891fa1914f0f9ec9d8eec05896d4",
            "bfb5868a8f9143f79c7d1c9e07111418",
            "f5bb156c95934be1bc23d86f01b66b15",
            "fed9d7ea8e3a4d4d9dc70213130392cc",
            "2f1e1da66fa9429d95aefcf13eeba466",
            "56286be7c9bc4851b3eb96bc696aa285",
            "7a2d2c82dfd5458c9bcae1509065e44c",
            "0ed4f52bab434081993ac0ad4e6d1ea4",
            "277debfcf2e7490a9de60ad1f6c34f80",
            "067b80162e8a45939572ebb91876ae7c",
            "187f1250359c4c03ab724ea99492d745",
            "3b78652b44ac40978fd1ed767dfc6c2d",
            "36e1619a884040b9bc1821338f7ab757",
            "8b8835ddec404243b3a06ac8961ea2c6",
            "bb68e9d4a99b45149d929bdd49ab9840",
            "79385d6663ff4f85bca9acdbaad59031",
            "9630664eab234a298882ae9366d74faa",
            "f6881dc211d94942a6d81741f1985602",
            "41c32cf046944513a93ce43450c6dedb",
            "18bc1c72368f4862b2d4ae4149d57113",
            "dd68692902b44a649dbcdc96accae2c3",
            "310526bb81264b7b83f32092c611881a",
            "fe8f726612c247eb936348efe40f1521",
            "72f66fb27d304fce971e3561084c5bd5",
            "611b48236a4d49b79b3f315f56506f05",
            "2e6b8af4e0a34fa7a6ea4343c8eb2ace",
            "489ef173a3e34247972bc3355ea5883d",
            "abf973c74f384182a587f4e3c2d28dfa",
            "7e64ebfd3f7046f1a6b47fcb01f2f858",
            "3f59f03180314a3aacfd647301a0869e",
            "519a03886f2e4697855ddb6831c96097",
            "f0377cd044984f57ac78423c48417041",
            "c638bb4c714d4077a4c0f764974c79ab",
            "967c6805efab435fab687119da92394e",
            "0af6ab5e4bca4592b5d49482a359af02",
            "a0450ae716d844fbb669e821bd55551c",
            "e1cb5f46e92f4cefb224f2db67eb8393",
            "245925574fd94cb688546e6fbb5f0390",
            "46d5b1d03aea48a3a169b0a616772dd1",
            "a4eb84091c5b4791b832d510a6604666",
            "db907e0593724dbfa885a5d8f6423549",
            "ebf0d6d891c54bbc98fd33992aa15fd4",
            "96004d630cf34e8794724ae789886ccb",
            "a54a954603ea40fc83f69d1eb701e4ec",
            "4e53d1e2871a48949929f0fe0193fb39",
            "89c7736591b44f26afa8916ed459e2fb",
            "ecd6f7f901874f3a9baf2dc6cfcd4bab",
            "ac171c2a657543449159b46ca3460115",
            "b2c18a9e58c541d6b681aac5b5b67969",
            "ceae52000cd14dab84feea8acd5862eb",
            "689d1b551782446ead0cc74ee26edf0e",
            "ded5c1674f484fd9b30d793c27c47ccf",
            "798ba5e20d1747bebbe25f47ca4de0e9",
            "b9f5e245d1724927bcbb4e6ca9ab829c",
            "b51fd67bcb4145b1b2660b47b01b22d9",
            "bcb0eddb92364e569fe56f1c69074325",
            "615c8686ac0d412f9ff450eea900055e",
            "103b5bc2c5234b98a39bbab07509ea15",
            "2ed3610fce024a70aaf9b5e3530dbf01",
            "c0a831e17f9943ea8e95d187bb3aa6e8",
            "76e780b5a32f4eb0a0871db25ba8d031",
            "0f6e4db831f742dea5d4a3dd17d64505",
            "df0717e6ad0a4fa6a98bcb1b48e485d7",
            "a7b1f29b5c6b4ad595932f1638f12a9c",
            "b46d94b320e747efb458cd94a0dab851",
            "a55bef8df2cd4d8485d02b68f0311cec",
            "5599fe3a33ba4d63a750b77fbbcd91e3",
            "f35b46f1c7144baaaa57263a37045b7f",
            "b7786b9fa6684752b33a9f99309d8c1f",
            "0232a98d499d456baff7a5adce1db4cf",
            "14df0903af7842e2924e0b44b155b85b",
            "10431912feba4ab2939c41d3de49095f",
            "8ee98d2d4c634569b04e9db25724f5e8",
            "ccb80397c0254b16adec419e81deb2e1",
            "8691084a92c245b891c0be156cb3a67c",
            "437787f0f6414844b6be17c7e13123cd",
            "73c439c7b3b84500bf1aefe71c144687",
            "5f04484ccd90464b808dce03588d8b6a",
            "6a8a1d722160407f873698f748a87f10",
            "e42c9a2e8311450ea5136dcf5be348e1",
            "5e35a44caac24143b05d3c75981f2579",
            "8e734de72c7b4f5d864867e0de451326",
            "7c0b2cd43b9f4778b27e6699093a663b",
            "399dd7d20b6d443190c3ff8441cc6710",
            "d196368904314f23b5dabb902c5f2719",
            "f35ad29d1f644f7fa3fe5dc1657ec527",
            "ccc6ee66bf88460882259a5bebd8b9e2",
            "c63e48d4bbce44a582ef8a323a037384",
            "4211618c05bb443290908570ca5a72fa",
            "1705add44de0481ca1063f7fb7311599",
            "d3e56a717ed14cbcafd6398fd623015c",
            "ee562f6026bb47bbb7f4e54ea02b00fd",
            "47d5e1c309d14dadaca85ff3d198c69b",
            "4644a6fb18344dc9bc972865b88536d1",
            "debcdb76096a46d0bf2270d7cc23252c",
            "f69590d95622423889e953fb4c522cd2",
            "23c9fe03b65540f8b82cd6f3160bcb58",
            "fce157e82fb749898732e74c8cfa26c5",
            "d213f22c370a476fa46b8b2371d0ed5c",
            "e8bbf5668e63445ea34875d2839932b0",
            "8206a8d602cc4e1393d64c8407bccf01",
            "13852f209bb64f98928d53673e73f675"
          ]
        },
        "id": "XDJBiP7lwhON",
        "outputId": "28b0dac2-7386-415e-8540-9f5022070700"
      },
      "outputs": [
        {
          "name": "stdout",
          "output_type": "stream",
          "text": [
            "00928674\n"
          ]
        },
        {
          "name": "stderr",
          "output_type": "stream",
          "text": [
            "/usr/local/lib/python3.7/dist-packages/ipykernel_launcher.py:13: TqdmDeprecationWarning: This function will be removed in tqdm==5.0.0\n",
            "Please use `tqdm.notebook.tqdm` instead of `tqdm.tqdm_notebook`\n",
            "  del sys.path[0]\n"
          ]
        },
        {
          "data": {
            "application/vnd.jupyter.widget-view+json": {
              "model_id": "d8a56c5495364bb68e77a846c4330da4",
              "version_major": 2,
              "version_minor": 0
            },
            "text/plain": [
              "  0%|          | 0/1000 [00:00<?, ?it/s]"
            ]
          },
          "metadata": {},
          "output_type": "display_data"
        },
        {
          "name": "stderr",
          "output_type": "stream",
          "text": [
            "/usr/local/lib/python3.7/dist-packages/ipykernel_launcher.py:35: TqdmDeprecationWarning: This function will be removed in tqdm==5.0.0\n",
            "Please use `tqdm.notebook.tqdm` instead of `tqdm.tqdm_notebook`\n"
          ]
        },
        {
          "data": {
            "application/vnd.jupyter.widget-view+json": {
              "model_id": "7d8436cbbcca4365a04c807158c4ccb3",
              "version_major": 2,
              "version_minor": 0
            },
            "text/plain": [
              "  0%|          | 0/24 [00:00<?, ?it/s]"
            ]
          },
          "metadata": {},
          "output_type": "display_data"
        },
        {
          "name": "stdout",
          "output_type": "stream",
          "text": [
            "15487091\n"
          ]
        },
        {
          "data": {
            "application/vnd.jupyter.widget-view+json": {
              "model_id": "582b891fa1914f0f9ec9d8eec05896d4",
              "version_major": 2,
              "version_minor": 0
            },
            "text/plain": [
              "  0%|          | 0/1000 [00:00<?, ?it/s]"
            ]
          },
          "metadata": {},
          "output_type": "display_data"
        },
        {
          "data": {
            "application/vnd.jupyter.widget-view+json": {
              "model_id": "bfb5868a8f9143f79c7d1c9e07111418",
              "version_major": 2,
              "version_minor": 0
            },
            "text/plain": [
              "  0%|          | 0/6 [00:00<?, ?it/s]"
            ]
          },
          "metadata": {},
          "output_type": "display_data"
        },
        {
          "name": "stdout",
          "output_type": "stream",
          "text": [
            "15454509\n"
          ]
        },
        {
          "data": {
            "application/vnd.jupyter.widget-view+json": {
              "model_id": "f5bb156c95934be1bc23d86f01b66b15",
              "version_major": 2,
              "version_minor": 0
            },
            "text/plain": [
              "  0%|          | 0/1000 [00:00<?, ?it/s]"
            ]
          },
          "metadata": {},
          "output_type": "display_data"
        },
        {
          "data": {
            "application/vnd.jupyter.widget-view+json": {
              "model_id": "fed9d7ea8e3a4d4d9dc70213130392cc",
              "version_major": 2,
              "version_minor": 0
            },
            "text/plain": [
              "  0%|          | 0/2 [00:00<?, ?it/s]"
            ]
          },
          "metadata": {},
          "output_type": "display_data"
        },
        {
          "name": "stdout",
          "output_type": "stream",
          "text": [
            "17444292\n"
          ]
        },
        {
          "data": {
            "application/vnd.jupyter.widget-view+json": {
              "model_id": "2f1e1da66fa9429d95aefcf13eeba466",
              "version_major": 2,
              "version_minor": 0
            },
            "text/plain": [
              "  0%|          | 0/1000 [00:00<?, ?it/s]"
            ]
          },
          "metadata": {},
          "output_type": "display_data"
        },
        {
          "data": {
            "application/vnd.jupyter.widget-view+json": {
              "model_id": "56286be7c9bc4851b3eb96bc696aa285",
              "version_major": 2,
              "version_minor": 0
            },
            "text/plain": [
              "  0%|          | 0/1 [00:00<?, ?it/s]"
            ]
          },
          "metadata": {},
          "output_type": "display_data"
        },
        {
          "name": "stdout",
          "output_type": "stream",
          "text": [
            "02614189\n"
          ]
        },
        {
          "data": {
            "application/vnd.jupyter.widget-view+json": {
              "model_id": "7a2d2c82dfd5458c9bcae1509065e44c",
              "version_major": 2,
              "version_minor": 0
            },
            "text/plain": [
              "  0%|          | 0/1000 [00:00<?, ?it/s]"
            ]
          },
          "metadata": {},
          "output_type": "display_data"
        },
        {
          "data": {
            "application/vnd.jupyter.widget-view+json": {
              "model_id": "0ed4f52bab434081993ac0ad4e6d1ea4",
              "version_major": 2,
              "version_minor": 0
            },
            "text/plain": [
              "  0%|          | 0/16 [00:00<?, ?it/s]"
            ]
          },
          "metadata": {},
          "output_type": "display_data"
        },
        {
          "name": "stdout",
          "output_type": "stream",
          "text": [
            "17542189\n"
          ]
        },
        {
          "data": {
            "application/vnd.jupyter.widget-view+json": {
              "model_id": "277debfcf2e7490a9de60ad1f6c34f80",
              "version_major": 2,
              "version_minor": 0
            },
            "text/plain": [
              "  0%|          | 0/1000 [00:00<?, ?it/s]"
            ]
          },
          "metadata": {},
          "output_type": "display_data"
        },
        {
          "data": {
            "application/vnd.jupyter.widget-view+json": {
              "model_id": "067b80162e8a45939572ebb91876ae7c",
              "version_major": 2,
              "version_minor": 0
            },
            "text/plain": [
              "  0%|          | 0/3 [00:00<?, ?it/s]"
            ]
          },
          "metadata": {},
          "output_type": "display_data"
        },
        {
          "name": "stdout",
          "output_type": "stream",
          "text": [
            "15205126\n"
          ]
        },
        {
          "data": {
            "application/vnd.jupyter.widget-view+json": {
              "model_id": "187f1250359c4c03ab724ea99492d745",
              "version_major": 2,
              "version_minor": 0
            },
            "text/plain": [
              "  0%|          | 0/1000 [00:00<?, ?it/s]"
            ]
          },
          "metadata": {},
          "output_type": "display_data"
        },
        {
          "data": {
            "application/vnd.jupyter.widget-view+json": {
              "model_id": "3b78652b44ac40978fd1ed767dfc6c2d",
              "version_major": 2,
              "version_minor": 0
            },
            "text/plain": [
              "  0%|          | 0/204 [00:00<?, ?it/s]"
            ]
          },
          "metadata": {},
          "output_type": "display_data"
        },
        {
          "name": "stdout",
          "output_type": "stream",
          "text": [
            "24519294\n"
          ]
        },
        {
          "data": {
            "application/vnd.jupyter.widget-view+json": {
              "model_id": "36e1619a884040b9bc1821338f7ab757",
              "version_major": 2,
              "version_minor": 0
            },
            "text/plain": [
              "  0%|          | 0/1000 [00:00<?, ?it/s]"
            ]
          },
          "metadata": {},
          "output_type": "display_data"
        },
        {
          "data": {
            "application/vnd.jupyter.widget-view+json": {
              "model_id": "8b8835ddec404243b3a06ac8961ea2c6",
              "version_major": 2,
              "version_minor": 0
            },
            "text/plain": [
              "  0%|          | 0/1 [00:00<?, ?it/s]"
            ]
          },
          "metadata": {},
          "output_type": "display_data"
        },
        {
          "name": "stdout",
          "output_type": "stream",
          "text": [
            "00034967\n"
          ]
        },
        {
          "data": {
            "application/vnd.jupyter.widget-view+json": {
              "model_id": "bb68e9d4a99b45149d929bdd49ab9840",
              "version_major": 2,
              "version_minor": 0
            },
            "text/plain": [
              "  0%|          | 0/1000 [00:00<?, ?it/s]"
            ]
          },
          "metadata": {},
          "output_type": "display_data"
        },
        {
          "data": {
            "application/vnd.jupyter.widget-view+json": {
              "model_id": "79385d6663ff4f85bca9acdbaad59031",
              "version_major": 2,
              "version_minor": 0
            },
            "text/plain": [
              "  0%|          | 0/46 [00:00<?, ?it/s]"
            ]
          },
          "metadata": {},
          "output_type": "display_data"
        },
        {
          "name": "stdout",
          "output_type": "stream",
          "text": [
            "22111247\n"
          ]
        },
        {
          "data": {
            "application/vnd.jupyter.widget-view+json": {
              "model_id": "9630664eab234a298882ae9366d74faa",
              "version_major": 2,
              "version_minor": 0
            },
            "text/plain": [
              "  0%|          | 0/1000 [00:00<?, ?it/s]"
            ]
          },
          "metadata": {},
          "output_type": "display_data"
        },
        {
          "data": {
            "application/vnd.jupyter.widget-view+json": {
              "model_id": "f6881dc211d94942a6d81741f1985602",
              "version_major": 2,
              "version_minor": 0
            },
            "text/plain": [
              "  0%|          | 0/10 [00:00<?, ?it/s]"
            ]
          },
          "metadata": {},
          "output_type": "display_data"
        },
        {
          "name": "stdout",
          "output_type": "stream",
          "text": [
            "1616301X\n"
          ]
        },
        {
          "data": {
            "application/vnd.jupyter.widget-view+json": {
              "model_id": "41c32cf046944513a93ce43450c6dedb",
              "version_major": 2,
              "version_minor": 0
            },
            "text/plain": [
              "  0%|          | 0/1000 [00:00<?, ?it/s]"
            ]
          },
          "metadata": {},
          "output_type": "display_data"
        },
        {
          "data": {
            "application/vnd.jupyter.widget-view+json": {
              "model_id": "18bc1c72368f4862b2d4ae4149d57113",
              "version_major": 2,
              "version_minor": 0
            },
            "text/plain": [
              "  0%|          | 0/21 [00:00<?, ?it/s]"
            ]
          },
          "metadata": {},
          "output_type": "display_data"
        },
        {
          "name": "stdout",
          "output_type": "stream",
          "text": [
            "1545326X\n"
          ]
        },
        {
          "data": {
            "application/vnd.jupyter.widget-view+json": {
              "model_id": "dd68692902b44a649dbcdc96accae2c3",
              "version_major": 2,
              "version_minor": 0
            },
            "text/plain": [
              "  0%|          | 0/1000 [00:00<?, ?it/s]"
            ]
          },
          "metadata": {},
          "output_type": "display_data"
        },
        {
          "data": {
            "application/vnd.jupyter.widget-view+json": {
              "model_id": "310526bb81264b7b83f32092c611881a",
              "version_major": 2,
              "version_minor": 0
            },
            "text/plain": [
              "  0%|          | 0/2 [00:00<?, ?it/s]"
            ]
          },
          "metadata": {},
          "output_type": "display_data"
        },
        {
          "name": "stdout",
          "output_type": "stream",
          "text": [
            "19430264\n"
          ]
        },
        {
          "data": {
            "application/vnd.jupyter.widget-view+json": {
              "model_id": "fe8f726612c247eb936348efe40f1521",
              "version_major": 2,
              "version_minor": 0
            },
            "text/plain": [
              "  0%|          | 0/1000 [00:00<?, ?it/s]"
            ]
          },
          "metadata": {},
          "output_type": "display_data"
        },
        {
          "data": {
            "application/vnd.jupyter.widget-view+json": {
              "model_id": "72f66fb27d304fce971e3561084c5bd5",
              "version_major": 2,
              "version_minor": 0
            },
            "text/plain": [
              "  0%|          | 0/1 [00:00<?, ?it/s]"
            ]
          },
          "metadata": {},
          "output_type": "display_data"
        },
        {
          "name": "stdout",
          "output_type": "stream",
          "text": [
            "2050084X\n"
          ]
        },
        {
          "data": {
            "application/vnd.jupyter.widget-view+json": {
              "model_id": "611b48236a4d49b79b3f315f56506f05",
              "version_major": 2,
              "version_minor": 0
            },
            "text/plain": [
              "  0%|          | 0/1000 [00:00<?, ?it/s]"
            ]
          },
          "metadata": {},
          "output_type": "display_data"
        },
        {
          "data": {
            "application/vnd.jupyter.widget-view+json": {
              "model_id": "2e6b8af4e0a34fa7a6ea4343c8eb2ace",
              "version_major": 2,
              "version_minor": 0
            },
            "text/plain": [
              "  0%|          | 0/13 [00:00<?, ?it/s]"
            ]
          },
          "metadata": {},
          "output_type": "display_data"
        },
        {
          "name": "stdout",
          "output_type": "stream",
          "text": [
            "15296466\n"
          ]
        },
        {
          "data": {
            "application/vnd.jupyter.widget-view+json": {
              "model_id": "489ef173a3e34247972bc3355ea5883d",
              "version_major": 2,
              "version_minor": 0
            },
            "text/plain": [
              "  0%|          | 0/797 [00:00<?, ?it/s]"
            ]
          },
          "metadata": {},
          "output_type": "display_data"
        },
        {
          "data": {
            "application/vnd.jupyter.widget-view+json": {
              "model_id": "abf973c74f384182a587f4e3c2d28dfa",
              "version_major": 2,
              "version_minor": 0
            },
            "text/plain": [
              "0it [00:00, ?it/s]"
            ]
          },
          "metadata": {},
          "output_type": "display_data"
        },
        {
          "name": "stdout",
          "output_type": "stream",
          "text": [
            "20411723\n"
          ]
        },
        {
          "data": {
            "application/vnd.jupyter.widget-view+json": {
              "model_id": "7e64ebfd3f7046f1a6b47fcb01f2f858",
              "version_major": 2,
              "version_minor": 0
            },
            "text/plain": [
              "  0%|          | 0/1000 [00:00<?, ?it/s]"
            ]
          },
          "metadata": {},
          "output_type": "display_data"
        },
        {
          "data": {
            "application/vnd.jupyter.widget-view+json": {
              "model_id": "3f59f03180314a3aacfd647301a0869e",
              "version_major": 2,
              "version_minor": 0
            },
            "text/plain": [
              "  0%|          | 0/48 [00:00<?, ?it/s]"
            ]
          },
          "metadata": {},
          "output_type": "display_data"
        },
        {
          "name": "stdout",
          "output_type": "stream",
          "text": [
            "15280020\n"
          ]
        },
        {
          "data": {
            "application/vnd.jupyter.widget-view+json": {
              "model_id": "519a03886f2e4697855ddb6831c96097",
              "version_major": 2,
              "version_minor": 0
            },
            "text/plain": [
              "  0%|          | 0/1000 [00:00<?, ?it/s]"
            ]
          },
          "metadata": {},
          "output_type": "display_data"
        },
        {
          "data": {
            "application/vnd.jupyter.widget-view+json": {
              "model_id": "f0377cd044984f57ac78423c48417041",
              "version_major": 2,
              "version_minor": 0
            },
            "text/plain": [
              "  0%|          | 0/159 [00:00<?, ?it/s]"
            ]
          },
          "metadata": {},
          "output_type": "display_data"
        },
        {
          "name": "stdout",
          "output_type": "stream",
          "text": [
            "15345807\n"
          ]
        },
        {
          "data": {
            "application/vnd.jupyter.widget-view+json": {
              "model_id": "c638bb4c714d4077a4c0f764974c79ab",
              "version_major": 2,
              "version_minor": 0
            },
            "text/plain": [
              "  0%|          | 0/1000 [00:00<?, ?it/s]"
            ]
          },
          "metadata": {},
          "output_type": "display_data"
        },
        {
          "data": {
            "application/vnd.jupyter.widget-view+json": {
              "model_id": "967c6805efab435fab687119da92394e",
              "version_major": 2,
              "version_minor": 0
            },
            "text/plain": [
              "  0%|          | 0/5 [00:00<?, ?it/s]"
            ]
          },
          "metadata": {},
          "output_type": "display_data"
        },
        {
          "name": "stdout",
          "output_type": "stream",
          "text": [
            "17577012\n"
          ]
        },
        {
          "data": {
            "application/vnd.jupyter.widget-view+json": {
              "model_id": "0af6ab5e4bca4592b5d49482a359af02",
              "version_major": 2,
              "version_minor": 0
            },
            "text/plain": [
              "  0%|          | 0/503 [00:00<?, ?it/s]"
            ]
          },
          "metadata": {},
          "output_type": "display_data"
        },
        {
          "data": {
            "application/vnd.jupyter.widget-view+json": {
              "model_id": "a0450ae716d844fbb669e821bd55551c",
              "version_major": 2,
              "version_minor": 0
            },
            "text/plain": [
              "0it [00:00, ?it/s]"
            ]
          },
          "metadata": {},
          "output_type": "display_data"
        },
        {
          "name": "stdout",
          "output_type": "stream",
          "text": [
            "1469185X\n"
          ]
        },
        {
          "data": {
            "application/vnd.jupyter.widget-view+json": {
              "model_id": "e1cb5f46e92f4cefb224f2db67eb8393",
              "version_major": 2,
              "version_minor": 0
            },
            "text/plain": [
              "  0%|          | 0/1000 [00:00<?, ?it/s]"
            ]
          },
          "metadata": {},
          "output_type": "display_data"
        },
        {
          "data": {
            "application/vnd.jupyter.widget-view+json": {
              "model_id": "245925574fd94cb688546e6fbb5f0390",
              "version_major": 2,
              "version_minor": 0
            },
            "text/plain": [
              "  0%|          | 0/2 [00:00<?, ?it/s]"
            ]
          },
          "metadata": {},
          "output_type": "display_data"
        },
        {
          "name": "stdout",
          "output_type": "stream",
          "text": [
            "15491277\n"
          ]
        },
        {
          "data": {
            "application/vnd.jupyter.widget-view+json": {
              "model_id": "46d5b1d03aea48a3a169b0a616772dd1",
              "version_major": 2,
              "version_minor": 0
            },
            "text/plain": [
              "0it [00:00, ?it/s]"
            ]
          },
          "metadata": {},
          "output_type": "display_data"
        },
        {
          "data": {
            "application/vnd.jupyter.widget-view+json": {
              "model_id": "a4eb84091c5b4791b832d510a6604666",
              "version_major": 2,
              "version_minor": 0
            },
            "text/plain": [
              "0it [00:00, ?it/s]"
            ]
          },
          "metadata": {},
          "output_type": "display_data"
        },
        {
          "name": "stdout",
          "output_type": "stream",
          "text": [
            "10409238\n"
          ]
        },
        {
          "data": {
            "application/vnd.jupyter.widget-view+json": {
              "model_id": "db907e0593724dbfa885a5d8f6423549",
              "version_major": 2,
              "version_minor": 0
            },
            "text/plain": [
              "  0%|          | 0/722 [00:00<?, ?it/s]"
            ]
          },
          "metadata": {},
          "output_type": "display_data"
        },
        {
          "data": {
            "application/vnd.jupyter.widget-view+json": {
              "model_id": "ebf0d6d891c54bbc98fd33992aa15fd4",
              "version_major": 2,
              "version_minor": 0
            },
            "text/plain": [
              "0it [00:00, ?it/s]"
            ]
          },
          "metadata": {},
          "output_type": "display_data"
        },
        {
          "name": "stdout",
          "output_type": "stream",
          "text": [
            "14693178\n"
          ]
        },
        {
          "data": {
            "application/vnd.jupyter.widget-view+json": {
              "model_id": "96004d630cf34e8794724ae789886ccb",
              "version_major": 2,
              "version_minor": 0
            },
            "text/plain": [
              "  0%|          | 0/1000 [00:00<?, ?it/s]"
            ]
          },
          "metadata": {},
          "output_type": "display_data"
        },
        {
          "data": {
            "application/vnd.jupyter.widget-view+json": {
              "model_id": "a54a954603ea40fc83f69d1eb701e4ec",
              "version_major": 2,
              "version_minor": 0
            },
            "text/plain": [
              "  0%|          | 0/5 [00:00<?, ?it/s]"
            ]
          },
          "metadata": {},
          "output_type": "display_data"
        },
        {
          "name": "stdout",
          "output_type": "stream",
          "text": [
            "15449173\n"
          ]
        },
        {
          "data": {
            "application/vnd.jupyter.widget-view+json": {
              "model_id": "4e53d1e2871a48949929f0fe0193fb39",
              "version_major": 2,
              "version_minor": 0
            },
            "text/plain": [
              "  0%|          | 0/4 [00:00<?, ?it/s]"
            ]
          },
          "metadata": {},
          "output_type": "display_data"
        },
        {
          "data": {
            "application/vnd.jupyter.widget-view+json": {
              "model_id": "89c7736591b44f26afa8916ed459e2fb",
              "version_major": 2,
              "version_minor": 0
            },
            "text/plain": [
              "0it [00:00, ?it/s]"
            ]
          },
          "metadata": {},
          "output_type": "display_data"
        },
        {
          "name": "stdout",
          "output_type": "stream",
          "text": [
            "17417007\n"
          ]
        },
        {
          "data": {
            "application/vnd.jupyter.widget-view+json": {
              "model_id": "ecd6f7f901874f3a9baf2dc6cfcd4bab",
              "version_major": 2,
              "version_minor": 0
            },
            "text/plain": [
              "  0%|          | 0/1000 [00:00<?, ?it/s]"
            ]
          },
          "metadata": {},
          "output_type": "display_data"
        },
        {
          "data": {
            "application/vnd.jupyter.widget-view+json": {
              "model_id": "ac171c2a657543449159b46ca3460115",
              "version_major": 2,
              "version_minor": 0
            },
            "text/plain": [
              "  0%|          | 0/2 [00:00<?, ?it/s]"
            ]
          },
          "metadata": {},
          "output_type": "display_data"
        },
        {
          "name": "stdout",
          "output_type": "stream",
          "text": [
            "21571422\n"
          ]
        },
        {
          "data": {
            "application/vnd.jupyter.widget-view+json": {
              "model_id": "b2c18a9e58c541d6b681aac5b5b67969",
              "version_major": 2,
              "version_minor": 0
            },
            "text/plain": [
              "  0%|          | 0/1000 [00:00<?, ?it/s]"
            ]
          },
          "metadata": {},
          "output_type": "display_data"
        },
        {
          "data": {
            "application/vnd.jupyter.widget-view+json": {
              "model_id": "ceae52000cd14dab84feea8acd5862eb",
              "version_major": 2,
              "version_minor": 0
            },
            "text/plain": [
              "  0%|          | 0/1 [00:00<?, ?it/s]"
            ]
          },
          "metadata": {},
          "output_type": "display_data"
        },
        {
          "name": "stdout",
          "output_type": "stream",
          "text": [
            "19450877\n"
          ]
        },
        {
          "data": {
            "application/vnd.jupyter.widget-view+json": {
              "model_id": "689d1b551782446ead0cc74ee26edf0e",
              "version_major": 2,
              "version_minor": 0
            },
            "text/plain": [
              "  0%|          | 0/1000 [00:00<?, ?it/s]"
            ]
          },
          "metadata": {},
          "output_type": "display_data"
        },
        {
          "data": {
            "application/vnd.jupyter.widget-view+json": {
              "model_id": "ded5c1674f484fd9b30d793c27c47ccf",
              "version_major": 2,
              "version_minor": 0
            },
            "text/plain": [
              "  0%|          | 0/6 [00:00<?, ?it/s]"
            ]
          },
          "metadata": {},
          "output_type": "display_data"
        },
        {
          "name": "stdout",
          "output_type": "stream",
          "text": [
            "13674811\n"
          ]
        },
        {
          "data": {
            "application/vnd.jupyter.widget-view+json": {
              "model_id": "798ba5e20d1747bebbe25f47ca4de0e9",
              "version_major": 2,
              "version_minor": 0
            },
            "text/plain": [
              "  0%|          | 0/61 [00:00<?, ?it/s]"
            ]
          },
          "metadata": {},
          "output_type": "display_data"
        },
        {
          "data": {
            "application/vnd.jupyter.widget-view+json": {
              "model_id": "b9f5e245d1724927bcbb4e6ca9ab829c",
              "version_major": 2,
              "version_minor": 0
            },
            "text/plain": [
              "0it [00:00, ?it/s]"
            ]
          },
          "metadata": {},
          "output_type": "display_data"
        },
        {
          "name": "stdout",
          "output_type": "stream",
          "text": [
            "15681637\n"
          ]
        },
        {
          "data": {
            "application/vnd.jupyter.widget-view+json": {
              "model_id": "b51fd67bcb4145b1b2660b47b01b22d9",
              "version_major": 2,
              "version_minor": 0
            },
            "text/plain": [
              "  0%|          | 0/1000 [00:00<?, ?it/s]"
            ]
          },
          "metadata": {},
          "output_type": "display_data"
        },
        {
          "data": {
            "application/vnd.jupyter.widget-view+json": {
              "model_id": "bcb0eddb92364e569fe56f1c69074325",
              "version_major": 2,
              "version_minor": 0
            },
            "text/plain": [
              "  0%|          | 0/1 [00:00<?, ?it/s]"
            ]
          },
          "metadata": {},
          "output_type": "display_data"
        },
        {
          "name": "stdout",
          "output_type": "stream",
          "text": [
            "00982997\n"
          ]
        },
        {
          "data": {
            "application/vnd.jupyter.widget-view+json": {
              "model_id": "615c8686ac0d412f9ff450eea900055e",
              "version_major": 2,
              "version_minor": 0
            },
            "text/plain": [
              "  0%|          | 0/1000 [00:00<?, ?it/s]"
            ]
          },
          "metadata": {},
          "output_type": "display_data"
        },
        {
          "data": {
            "application/vnd.jupyter.widget-view+json": {
              "model_id": "103b5bc2c5234b98a39bbab07509ea15",
              "version_major": 2,
              "version_minor": 0
            },
            "text/plain": [
              "  0%|          | 0/1 [00:00<?, ?it/s]"
            ]
          },
          "metadata": {},
          "output_type": "display_data"
        },
        {
          "name": "stdout",
          "output_type": "stream",
          "text": [
            "1469896X\n"
          ]
        },
        {
          "data": {
            "application/vnd.jupyter.widget-view+json": {
              "model_id": "2ed3610fce024a70aaf9b5e3530dbf01",
              "version_major": 2,
              "version_minor": 0
            },
            "text/plain": [
              "  0%|          | 0/1000 [00:00<?, ?it/s]"
            ]
          },
          "metadata": {},
          "output_type": "display_data"
        },
        {
          "data": {
            "application/vnd.jupyter.widget-view+json": {
              "model_id": "c0a831e17f9943ea8e95d187bb3aa6e8",
              "version_major": 2,
              "version_minor": 0
            },
            "text/plain": [
              "  0%|          | 0/4 [00:00<?, ?it/s]"
            ]
          },
          "metadata": {},
          "output_type": "display_data"
        },
        {
          "name": "stdout",
          "output_type": "stream",
          "text": [
            "00711365\n"
          ]
        },
        {
          "data": {
            "application/vnd.jupyter.widget-view+json": {
              "model_id": "76e780b5a32f4eb0a0871db25ba8d031",
              "version_major": 2,
              "version_minor": 0
            },
            "text/plain": [
              "  0%|          | 0/796 [00:00<?, ?it/s]"
            ]
          },
          "metadata": {},
          "output_type": "display_data"
        },
        {
          "data": {
            "application/vnd.jupyter.widget-view+json": {
              "model_id": "0f6e4db831f742dea5d4a3dd17d64505",
              "version_major": 2,
              "version_minor": 0
            },
            "text/plain": [
              "0it [00:00, ?it/s]"
            ]
          },
          "metadata": {},
          "output_type": "display_data"
        },
        {
          "name": "stdout",
          "output_type": "stream",
          "text": [
            "22136711\n"
          ]
        },
        {
          "data": {
            "application/vnd.jupyter.widget-view+json": {
              "model_id": "df0717e6ad0a4fa6a98bcb1b48e485d7",
              "version_major": 2,
              "version_minor": 0
            },
            "text/plain": [
              "  0%|          | 0/1000 [00:00<?, ?it/s]"
            ]
          },
          "metadata": {},
          "output_type": "display_data"
        },
        {
          "data": {
            "application/vnd.jupyter.widget-view+json": {
              "model_id": "a7b1f29b5c6b4ad595932f1638f12a9c",
              "version_major": 2,
              "version_minor": 0
            },
            "text/plain": [
              "  0%|          | 0/2 [00:00<?, ?it/s]"
            ]
          },
          "metadata": {},
          "output_type": "display_data"
        },
        {
          "name": "stdout",
          "output_type": "stream",
          "text": [
            "16720229\n"
          ]
        },
        {
          "data": {
            "application/vnd.jupyter.widget-view+json": {
              "model_id": "b46d94b320e747efb458cd94a0dab851",
              "version_major": 2,
              "version_minor": 0
            },
            "text/plain": [
              "  0%|          | 0/947 [00:00<?, ?it/s]"
            ]
          },
          "metadata": {},
          "output_type": "display_data"
        },
        {
          "data": {
            "application/vnd.jupyter.widget-view+json": {
              "model_id": "a55bef8df2cd4d8485d02b68f0311cec",
              "version_major": 2,
              "version_minor": 0
            },
            "text/plain": [
              "0it [00:00, ?it/s]"
            ]
          },
          "metadata": {},
          "output_type": "display_data"
        },
        {
          "name": "stdout",
          "output_type": "stream",
          "text": [
            "20462441\n"
          ]
        },
        {
          "data": {
            "application/vnd.jupyter.widget-view+json": {
              "model_id": "5599fe3a33ba4d63a750b77fbbcd91e3",
              "version_major": 2,
              "version_minor": 0
            },
            "text/plain": [
              "  0%|          | 0/1000 [00:00<?, ?it/s]"
            ]
          },
          "metadata": {},
          "output_type": "display_data"
        },
        {
          "data": {
            "application/vnd.jupyter.widget-view+json": {
              "model_id": "f35b46f1c7144baaaa57263a37045b7f",
              "version_major": 2,
              "version_minor": 0
            },
            "text/plain": [
              "  0%|          | 0/1 [00:00<?, ?it/s]"
            ]
          },
          "metadata": {},
          "output_type": "display_data"
        },
        {
          "name": "stdout",
          "output_type": "stream",
          "text": [
            "13675931\n"
          ]
        },
        {
          "data": {
            "application/vnd.jupyter.widget-view+json": {
              "model_id": "b7786b9fa6684752b33a9f99309d8c1f",
              "version_major": 2,
              "version_minor": 0
            },
            "text/plain": [
              "  0%|          | 0/1000 [00:00<?, ?it/s]"
            ]
          },
          "metadata": {},
          "output_type": "display_data"
        },
        {
          "data": {
            "application/vnd.jupyter.widget-view+json": {
              "model_id": "0232a98d499d456baff7a5adce1db4cf",
              "version_major": 2,
              "version_minor": 0
            },
            "text/plain": [
              "  0%|          | 0/3 [00:00<?, ?it/s]"
            ]
          },
          "metadata": {},
          "output_type": "display_data"
        },
        {
          "name": "stdout",
          "output_type": "stream",
          "text": [
            "00796565\n"
          ]
        },
        {
          "data": {
            "application/vnd.jupyter.widget-view+json": {
              "model_id": "14df0903af7842e2924e0b44b155b85b",
              "version_major": 2,
              "version_minor": 0
            },
            "text/plain": [
              "  0%|          | 0/894 [00:00<?, ?it/s]"
            ]
          },
          "metadata": {},
          "output_type": "display_data"
        },
        {
          "data": {
            "application/vnd.jupyter.widget-view+json": {
              "model_id": "10431912feba4ab2939c41d3de49095f",
              "version_major": 2,
              "version_minor": 0
            },
            "text/plain": [
              "0it [00:00, ?it/s]"
            ]
          },
          "metadata": {},
          "output_type": "display_data"
        },
        {
          "name": "stdout",
          "output_type": "stream",
          "text": [
            "16748018\n"
          ]
        },
        {
          "data": {
            "application/vnd.jupyter.widget-view+json": {
              "model_id": "8ee98d2d4c634569b04e9db25724f5e8",
              "version_major": 2,
              "version_minor": 0
            },
            "text/plain": [
              "  0%|          | 0/1000 [00:00<?, ?it/s]"
            ]
          },
          "metadata": {},
          "output_type": "display_data"
        },
        {
          "data": {
            "application/vnd.jupyter.widget-view+json": {
              "model_id": "ccb80397c0254b16adec419e81deb2e1",
              "version_major": 2,
              "version_minor": 0
            },
            "text/plain": [
              "  0%|          | 0/1 [00:00<?, ?it/s]"
            ]
          },
          "metadata": {},
          "output_type": "display_data"
        },
        {
          "name": "stdout",
          "output_type": "stream",
          "text": [
            "23795077\n"
          ]
        },
        {
          "data": {
            "application/vnd.jupyter.widget-view+json": {
              "model_id": "8691084a92c245b891c0be156cb3a67c",
              "version_major": 2,
              "version_minor": 0
            },
            "text/plain": [
              "  0%|          | 0/1000 [00:00<?, ?it/s]"
            ]
          },
          "metadata": {},
          "output_type": "display_data"
        },
        {
          "data": {
            "application/vnd.jupyter.widget-view+json": {
              "model_id": "437787f0f6414844b6be17c7e13123cd",
              "version_major": 2,
              "version_minor": 0
            },
            "text/plain": [
              "  0%|          | 0/1 [00:00<?, ?it/s]"
            ]
          },
          "metadata": {},
          "output_type": "display_data"
        },
        {
          "name": "stdout",
          "output_type": "stream",
          "text": [
            "0012821X\n"
          ]
        },
        {
          "data": {
            "application/vnd.jupyter.widget-view+json": {
              "model_id": "73c439c7b3b84500bf1aefe71c144687",
              "version_major": 2,
              "version_minor": 0
            },
            "text/plain": [
              "  0%|          | 0/1000 [00:00<?, ?it/s]"
            ]
          },
          "metadata": {},
          "output_type": "display_data"
        },
        {
          "data": {
            "application/vnd.jupyter.widget-view+json": {
              "model_id": "5f04484ccd90464b808dce03588d8b6a",
              "version_major": 2,
              "version_minor": 0
            },
            "text/plain": [
              "  0%|          | 0/19 [00:00<?, ?it/s]"
            ]
          },
          "metadata": {},
          "output_type": "display_data"
        },
        {
          "name": "stdout",
          "output_type": "stream",
          "text": [
            "23993642\n"
          ]
        },
        {
          "data": {
            "application/vnd.jupyter.widget-view+json": {
              "model_id": "6a8a1d722160407f873698f748a87f10",
              "version_major": 2,
              "version_minor": 0
            },
            "text/plain": [
              "  0%|          | 0/1000 [00:00<?, ?it/s]"
            ]
          },
          "metadata": {},
          "output_type": "display_data"
        },
        {
          "data": {
            "application/vnd.jupyter.widget-view+json": {
              "model_id": "e42c9a2e8311450ea5136dcf5be348e1",
              "version_major": 2,
              "version_minor": 0
            },
            "text/plain": [
              "  0%|          | 0/4 [00:00<?, ?it/s]"
            ]
          },
          "metadata": {},
          "output_type": "display_data"
        },
        {
          "name": "stdout",
          "output_type": "stream",
          "text": [
            "15359476\n"
          ]
        },
        {
          "data": {
            "application/vnd.jupyter.widget-view+json": {
              "model_id": "5e35a44caac24143b05d3c75981f2579",
              "version_major": 2,
              "version_minor": 0
            },
            "text/plain": [
              "  0%|          | 0/1000 [00:00<?, ?it/s]"
            ]
          },
          "metadata": {},
          "output_type": "display_data"
        },
        {
          "data": {
            "application/vnd.jupyter.widget-view+json": {
              "model_id": "8e734de72c7b4f5d864867e0de451326",
              "version_major": 2,
              "version_minor": 0
            },
            "text/plain": [
              "  0%|          | 0/4 [00:00<?, ?it/s]"
            ]
          },
          "metadata": {},
          "output_type": "display_data"
        },
        {
          "name": "stdout",
          "output_type": "stream",
          "text": [
            "09628436\n"
          ]
        },
        {
          "data": {
            "application/vnd.jupyter.widget-view+json": {
              "model_id": "7c0b2cd43b9f4778b27e6699093a663b",
              "version_major": 2,
              "version_minor": 0
            },
            "text/plain": [
              "  0%|          | 0/1000 [00:00<?, ?it/s]"
            ]
          },
          "metadata": {},
          "output_type": "display_data"
        },
        {
          "data": {
            "application/vnd.jupyter.widget-view+json": {
              "model_id": "399dd7d20b6d443190c3ff8441cc6710",
              "version_major": 2,
              "version_minor": 0
            },
            "text/plain": [
              "  0%|          | 0/8 [00:00<?, ?it/s]"
            ]
          },
          "metadata": {},
          "output_type": "display_data"
        },
        {
          "name": "stdout",
          "output_type": "stream",
          "text": [
            "16729072\n"
          ]
        },
        {
          "data": {
            "application/vnd.jupyter.widget-view+json": {
              "model_id": "d196368904314f23b5dabb902c5f2719",
              "version_major": 2,
              "version_minor": 0
            },
            "text/plain": [
              "  0%|          | 0/1000 [00:00<?, ?it/s]"
            ]
          },
          "metadata": {},
          "output_type": "display_data"
        },
        {
          "data": {
            "application/vnd.jupyter.widget-view+json": {
              "model_id": "f35ad29d1f644f7fa3fe5dc1657ec527",
              "version_major": 2,
              "version_minor": 0
            },
            "text/plain": [
              "  0%|          | 0/2 [00:00<?, ?it/s]"
            ]
          },
          "metadata": {},
          "output_type": "display_data"
        },
        {
          "name": "stdout",
          "output_type": "stream",
          "text": [
            "12263613\n"
          ]
        },
        {
          "data": {
            "application/vnd.jupyter.widget-view+json": {
              "model_id": "ccc6ee66bf88460882259a5bebd8b9e2",
              "version_major": 2,
              "version_minor": 0
            },
            "text/plain": [
              "  0%|          | 0/1000 [00:00<?, ?it/s]"
            ]
          },
          "metadata": {},
          "output_type": "display_data"
        },
        {
          "data": {
            "application/vnd.jupyter.widget-view+json": {
              "model_id": "c63e48d4bbce44a582ef8a323a037384",
              "version_major": 2,
              "version_minor": 0
            },
            "text/plain": [
              "  0%|          | 0/1 [00:00<?, ?it/s]"
            ]
          },
          "metadata": {},
          "output_type": "display_data"
        },
        {
          "name": "stdout",
          "output_type": "stream",
          "text": [
            "16000854\n"
          ]
        },
        {
          "data": {
            "application/vnd.jupyter.widget-view+json": {
              "model_id": "4211618c05bb443290908570ca5a72fa",
              "version_major": 2,
              "version_minor": 0
            },
            "text/plain": [
              "  0%|          | 0/948 [00:00<?, ?it/s]"
            ]
          },
          "metadata": {},
          "output_type": "display_data"
        },
        {
          "data": {
            "application/vnd.jupyter.widget-view+json": {
              "model_id": "1705add44de0481ca1063f7fb7311599",
              "version_major": 2,
              "version_minor": 0
            },
            "text/plain": [
              "0it [00:00, ?it/s]"
            ]
          },
          "metadata": {},
          "output_type": "display_data"
        },
        {
          "name": "stdout",
          "output_type": "stream",
          "text": [
            "2410339X\n"
          ]
        },
        {
          "data": {
            "application/vnd.jupyter.widget-view+json": {
              "model_id": "d3e56a717ed14cbcafd6398fd623015c",
              "version_major": 2,
              "version_minor": 0
            },
            "text/plain": [
              "  0%|          | 0/146 [00:00<?, ?it/s]"
            ]
          },
          "metadata": {},
          "output_type": "display_data"
        },
        {
          "data": {
            "application/vnd.jupyter.widget-view+json": {
              "model_id": "ee562f6026bb47bbb7f4e54ea02b00fd",
              "version_major": 2,
              "version_minor": 0
            },
            "text/plain": [
              "0it [00:00, ?it/s]"
            ]
          },
          "metadata": {},
          "output_type": "display_data"
        },
        {
          "name": "stdout",
          "output_type": "stream",
          "text": [
            "14602415\n"
          ]
        },
        {
          "data": {
            "application/vnd.jupyter.widget-view+json": {
              "model_id": "47d5e1c309d14dadaca85ff3d198c69b",
              "version_major": 2,
              "version_minor": 0
            },
            "text/plain": [
              "  0%|          | 0/1000 [00:00<?, ?it/s]"
            ]
          },
          "metadata": {},
          "output_type": "display_data"
        },
        {
          "data": {
            "application/vnd.jupyter.widget-view+json": {
              "model_id": "4644a6fb18344dc9bc972865b88536d1",
              "version_major": 2,
              "version_minor": 0
            },
            "text/plain": [
              "  0%|          | 0/3 [00:00<?, ?it/s]"
            ]
          },
          "metadata": {},
          "output_type": "display_data"
        },
        {
          "name": "stdout",
          "output_type": "stream",
          "text": [
            "15251314\n"
          ]
        },
        {
          "data": {
            "application/vnd.jupyter.widget-view+json": {
              "model_id": "debcdb76096a46d0bf2270d7cc23252c",
              "version_major": 2,
              "version_minor": 0
            },
            "text/plain": [
              "  0%|          | 0/1000 [00:00<?, ?it/s]"
            ]
          },
          "metadata": {},
          "output_type": "display_data"
        },
        {
          "data": {
            "application/vnd.jupyter.widget-view+json": {
              "model_id": "f69590d95622423889e953fb4c522cd2",
              "version_major": 2,
              "version_minor": 0
            },
            "text/plain": [
              "  0%|          | 0/1 [00:00<?, ?it/s]"
            ]
          },
          "metadata": {},
          "output_type": "display_data"
        },
        {
          "name": "stdout",
          "output_type": "stream",
          "text": [
            "23523964\n"
          ]
        },
        {
          "data": {
            "application/vnd.jupyter.widget-view+json": {
              "model_id": "23c9fe03b65540f8b82cd6f3160bcb58",
              "version_major": 2,
              "version_minor": 0
            },
            "text/plain": [
              "  0%|          | 0/1000 [00:00<?, ?it/s]"
            ]
          },
          "metadata": {},
          "output_type": "display_data"
        },
        {
          "data": {
            "application/vnd.jupyter.widget-view+json": {
              "model_id": "fce157e82fb749898732e74c8cfa26c5",
              "version_major": 2,
              "version_minor": 0
            },
            "text/plain": [
              "  0%|          | 0/4 [00:00<?, ?it/s]"
            ]
          },
          "metadata": {},
          "output_type": "display_data"
        },
        {
          "name": "stdout",
          "output_type": "stream",
          "text": [
            "25751077\n"
          ]
        },
        {
          "data": {
            "application/vnd.jupyter.widget-view+json": {
              "model_id": "d213f22c370a476fa46b8b2371d0ed5c",
              "version_major": 2,
              "version_minor": 0
            },
            "text/plain": [
              "  0%|          | 0/813 [00:00<?, ?it/s]"
            ]
          },
          "metadata": {},
          "output_type": "display_data"
        },
        {
          "data": {
            "application/vnd.jupyter.widget-view+json": {
              "model_id": "e8bbf5668e63445ea34875d2839932b0",
              "version_major": 2,
              "version_minor": 0
            },
            "text/plain": [
              "0it [00:00, ?it/s]"
            ]
          },
          "metadata": {},
          "output_type": "display_data"
        },
        {
          "name": "stdout",
          "output_type": "stream",
          "text": [
            "14708752\n"
          ]
        },
        {
          "data": {
            "application/vnd.jupyter.widget-view+json": {
              "model_id": "8206a8d602cc4e1393d64c8407bccf01",
              "version_major": 2,
              "version_minor": 0
            },
            "text/plain": [
              "  0%|          | 0/1000 [00:00<?, ?it/s]"
            ]
          },
          "metadata": {},
          "output_type": "display_data"
        },
        {
          "data": {
            "application/vnd.jupyter.widget-view+json": {
              "model_id": "13852f209bb64f98928d53673e73f675",
              "version_major": 2,
              "version_minor": 0
            },
            "text/plain": [
              "  0%|          | 0/30 [00:00<?, ?it/s]"
            ]
          },
          "metadata": {},
          "output_type": "display_data"
        },
        {
          "name": "stderr",
          "output_type": "stream",
          "text": [
            "IOPub data rate exceeded.\n",
            "The notebook server will temporarily stop sending output\n",
            "to the client in order to avoid crashing it.\n",
            "To change this limit, set the config variable\n",
            "`--NotebookApp.iopub_data_rate_limit`.\n",
            "\n",
            "Current values:\n",
            "NotebookApp.iopub_data_rate_limit=1000000.0 (bytes/sec)\n",
            "NotebookApp.rate_limit_window=3.0 (secs)\n",
            "\n"
          ]
        },
        {
          "name": "stdout",
          "output_type": "stream",
          "text": [
            "                               DOI  \\\n",
            "0       10.1016/j.cell.2022.09.018   \n",
            "1       10.1016/j.cell.2022.09.003   \n",
            "2       10.1016/j.cell.2022.08.022   \n",
            "3       10.1016/j.cell.2022.08.023   \n",
            "4       10.1016/j.cell.2022.09.020   \n",
            "...                            ...   \n",
            "693556          10.1042/bst0010138   \n",
            "693557          10.1042/bst0010310   \n",
            "693558          10.1042/bst0010120   \n",
            "693559          10.1042/bst0010294   \n",
            "693560          10.1042/bst0010129   \n",
            "\n",
            "                                                    Title  Year  \\\n",
            "0       Virological characteristics of the SARS-CoV-2 ...  2022   \n",
            "1       Quorum-sensing- and type VI secretion-mediated...  2022   \n",
            "2       Innate frequency-discrimination hyperacuity in...  2022   \n",
            "3       Expansion of the global RNA virome reveals div...  2022   \n",
            "4       The primordial differentiation of tumor-specif...  2022   \n",
            "...                                                   ...   ...   \n",
            "693556  Purine Uptake from Erythrocytes by Rabbit Tiss...  1973   \n",
            "693557  Biological Oxidation of Nitrogen in Organic Mo...  1973   \n",
            "693558  Brain Electrolytes and Lysosomal Enzymes in th...  1973   \n",
            "693559  Subfractionation of Rabbit Skeletal-Muscle Mic...  1973   \n",
            "693560  Mechanism of the Inhibition by Ascorbate of th...  1973   \n",
            "\n",
            "        num_citiations      ISSN Abstract  \n",
            "0                    1  00928674           \n",
            "1                    0  00928674           \n",
            "2                    1  00928674           \n",
            "3                    1  00928674           \n",
            "4                    0  00928674           \n",
            "...                ...       ...      ...  \n",
            "693556               7  14708752           \n",
            "693557               0  14708752           \n",
            "693558               2  14708752           \n",
            "693559               3  14708752           \n",
            "693560               9  14708752           \n",
            "\n",
            "[693561 rows x 6 columns]\n"
          ]
        }
      ],
      "source": [
        "dois_table = pd.DataFrame()\n",
        "dois = {}\n",
        "for issn_num in (issnlistoflists):\n",
        "       print(issn_num)\n",
        "       issn = issn_num\n",
        "       dois1 = get_doi_from_issn_2(issn)\n",
        "       dois.update(dois1)\n",
        "print(dois)\n",
        "dois_df2 = pd.DataFrame({'DOI': list(dois.keys()), \n",
        "                        'Title': [item['title'] for item in list(dois.values())], \n",
        "                        'Year': [item['year'] for item in list(dois.values())],\n",
        "                        'num_citiations': [item['num_citiations'] for item in list(dois.values())],\n",
        "                        'ISSN': [item['ISSN'] for item in list(dois.values())],\n",
        "                        'Abstract': [item['abstract'] for item in list(dois.values())]})\n",
        "\n",
        "dois_table.append(dois_df2)\n",
        "print(dois_df2)"
      ]
    },
    {
      "cell_type": "markdown",
      "metadata": {
        "id": "Jbyhrg--yDkk"
      },
      "source": [
        "00928674', '15487091', '15454509',\n",
        "'17444292', '02614189', '17542189', '15205126', '24519294', '00034967', '22111247', '1616301X', '1545326X', '19430264', '2050084X', '15296466', '20411723', '15280020', '15345807', '17577012', '1469185X', '15491277', '10409238', '14693178', '15449173', '17417007', '21571422', '19450877',\n",
        "'13674811', '15681637', '00982997','1469896X', '00711365', '22136711', '16720229', '20462441', '13675931', '00796565', '16748018', '23795077', '0012821X', '23993642', '15359476', '09628436', '16729072', '12263613', '16000854', '2410339X', '14602415', '15251314', '23523964', '25751077', '14708752',"
      ]
    },
    {
      "cell_type": "code",
      "execution_count": null,
      "metadata": {
        "id": "mLShp95EyEpc"
      },
      "outputs": [],
      "source": [
        "issnlistoflists =['00928674', '15487091', '15454509',\n",
        "'17444292', '02614189', '17542189', '15205126', '24519294', '00034967', '22111247', '1616301X', '1545326X', '19430264', '2050084X', '15296466', '20411723', '15280020', '15345807', '17577012', '1469185X', '15491277', '10409238', '14693178', '15449173', '17417007', '21571422', '19450877',\n",
        "'13674811', '15681637', '00982997','1469896X', '00711365', '22136711', '16720229', '20462441', '13675931', '00796565', '16748018', '23795077', '0012821X', '23993642', '15359476', '09628436', '16729072', '12263613', '16000854', '2410339X', '14602415', '15251314', '23523964', '25751077', '14708752']"
      ]
    },
    {
      "cell_type": "code",
      "execution_count": null,
      "metadata": {
        "id": "v5vKN4vQxmQl"
      },
      "outputs": [],
      "source": [
        "dois_without_abstract = dois_df2.loc[(dois_df2['Abstract'] == '')]\n",
        "from google.colab import files\n",
        "dois_without_abstract.to_csv('dois_without_abstract.csv', encoding = 'utf-8-sig') \n",
        "files.download('dois_without_abstract.csv')"
      ]
    },
    {
      "cell_type": "markdown",
      "metadata": {
        "id": "YHQBrlIzx8KT"
      },
      "source": [
        "Put this downloaded dataset on Google drive"
      ]
    },
    {
      "cell_type": "markdown",
      "metadata": {
        "id": "u589eAVFxrXY"
      },
      "source": [
        "#Now we need to preprocess dataset and then download all the missing abstracts by doi from Semantic Scholar"
      ]
    },
    {
      "cell_type": "code",
      "execution_count": null,
      "metadata": {
        "colab": {
          "base_uri": "https://localhost:8080/"
        },
        "id": "zcC6iBJExp3u",
        "outputId": "d1435e50-71e5-4f57-c573-8e123dbe63bc"
      },
      "outputs": [
        {
          "name": "stdout",
          "output_type": "stream",
          "text": [
            "Drive already mounted at /content/drive; to attempt to forcibly remount, call drive.mount(\"/content/drive\", force_remount=True).\n"
          ]
        }
      ],
      "source": [
        "from google.colab import drive\n",
        "drive.mount('/content/drive')"
      ]
    },
    {
      "cell_type": "code",
      "execution_count": null,
      "metadata": {
        "colab": {
          "base_uri": "https://localhost:8080/"
        },
        "id": "2I9lumx6ybzI",
        "outputId": "d14aa6d2-724c-400a-f84e-67d902345832"
      },
      "outputs": [
        {
          "name": "stdout",
          "output_type": "stream",
          "text": [
            "/content/drive/My Drive\n"
          ]
        }
      ],
      "source": [
        "%cd /content/drive/My Drive"
      ]
    },
    {
      "cell_type": "code",
      "execution_count": null,
      "metadata": {
        "colab": {
          "base_uri": "https://localhost:8080/"
        },
        "id": "iVSrBcEayeDz",
        "outputId": "19b62488-016b-4095-95a8-e1251ce00516"
      },
      "outputs": [
        {
          "name": "stderr",
          "output_type": "stream",
          "text": [
            "/usr/local/lib/python3.7/dist-packages/IPython/core/interactiveshell.py:3326: DtypeWarning: Columns (5) have mixed types.Specify dtype option on import or set low_memory=False.\n",
            "  exec(code_obj, self.user_global_ns, self.user_ns)\n"
          ]
        }
      ],
      "source": [
        "df = pd.read_csv('dois_without_abstract_2.csv')#choose the name of file you uploaded"
      ]
    },
    {
      "cell_type": "code",
      "execution_count": null,
      "metadata": {
        "colab": {
          "base_uri": "https://localhost:8080/",
          "height": 419
        },
        "id": "lfxh8QvZykpt",
        "outputId": "ff960572-d73c-436b-e5b6-2e4fddef1dde"
      },
      "outputs": [
        {
          "data": {
            "text/html": [
              "\n",
              "  <div id=\"df-dc549b15-6737-486c-8c6c-d2aadf99322d\">\n",
              "    <div class=\"colab-df-container\">\n",
              "      <div>\n",
              "<style scoped>\n",
              "    .dataframe tbody tr th:only-of-type {\n",
              "        vertical-align: middle;\n",
              "    }\n",
              "\n",
              "    .dataframe tbody tr th {\n",
              "        vertical-align: top;\n",
              "    }\n",
              "\n",
              "    .dataframe thead th {\n",
              "        text-align: right;\n",
              "    }\n",
              "</style>\n",
              "<table border=\"1\" class=\"dataframe\">\n",
              "  <thead>\n",
              "    <tr style=\"text-align: right;\">\n",
              "      <th></th>\n",
              "      <th>Unnamed: 0</th>\n",
              "      <th>DOI</th>\n",
              "      <th>Title</th>\n",
              "      <th>Year</th>\n",
              "      <th>num_citiations</th>\n",
              "      <th>ISSN</th>\n",
              "      <th>Abstract</th>\n",
              "    </tr>\n",
              "  </thead>\n",
              "  <tbody>\n",
              "    <tr>\n",
              "      <th>0</th>\n",
              "      <td>0</td>\n",
              "      <td>10.1016/j.cell.2022.09.018</td>\n",
              "      <td>Virological characteristics of the SARS-CoV-2 ...</td>\n",
              "      <td>2022</td>\n",
              "      <td>1</td>\n",
              "      <td>928674</td>\n",
              "      <td>NaN</td>\n",
              "    </tr>\n",
              "    <tr>\n",
              "      <th>1</th>\n",
              "      <td>1</td>\n",
              "      <td>10.1016/j.cell.2022.09.003</td>\n",
              "      <td>Quorum-sensing- and type VI secretion-mediated...</td>\n",
              "      <td>2022</td>\n",
              "      <td>0</td>\n",
              "      <td>928674</td>\n",
              "      <td>NaN</td>\n",
              "    </tr>\n",
              "    <tr>\n",
              "      <th>2</th>\n",
              "      <td>2</td>\n",
              "      <td>10.1016/j.cell.2022.08.022</td>\n",
              "      <td>Innate frequency-discrimination hyperacuity in...</td>\n",
              "      <td>2022</td>\n",
              "      <td>1</td>\n",
              "      <td>928674</td>\n",
              "      <td>NaN</td>\n",
              "    </tr>\n",
              "    <tr>\n",
              "      <th>3</th>\n",
              "      <td>3</td>\n",
              "      <td>10.1016/j.cell.2022.08.023</td>\n",
              "      <td>Expansion of the global RNA virome reveals div...</td>\n",
              "      <td>2022</td>\n",
              "      <td>1</td>\n",
              "      <td>928674</td>\n",
              "      <td>NaN</td>\n",
              "    </tr>\n",
              "    <tr>\n",
              "      <th>4</th>\n",
              "      <td>4</td>\n",
              "      <td>10.1016/j.cell.2022.09.027</td>\n",
              "      <td>SnapShot: Cancer immunoediting</td>\n",
              "      <td>2022</td>\n",
              "      <td>0</td>\n",
              "      <td>928674</td>\n",
              "      <td>NaN</td>\n",
              "    </tr>\n",
              "    <tr>\n",
              "      <th>...</th>\n",
              "      <td>...</td>\n",
              "      <td>...</td>\n",
              "      <td>...</td>\n",
              "      <td>...</td>\n",
              "      <td>...</td>\n",
              "      <td>...</td>\n",
              "      <td>...</td>\n",
              "    </tr>\n",
              "    <tr>\n",
              "      <th>469318</th>\n",
              "      <td>693572</td>\n",
              "      <td>10.1042/bst0010138</td>\n",
              "      <td>Purine Uptake from Erythrocytes by Rabbit Tiss...</td>\n",
              "      <td>1973</td>\n",
              "      <td>7</td>\n",
              "      <td>14708752</td>\n",
              "      <td>NaN</td>\n",
              "    </tr>\n",
              "    <tr>\n",
              "      <th>469319</th>\n",
              "      <td>693573</td>\n",
              "      <td>10.1042/bst0010310</td>\n",
              "      <td>Biological Oxidation of Nitrogen in Organic Mo...</td>\n",
              "      <td>1973</td>\n",
              "      <td>0</td>\n",
              "      <td>14708752</td>\n",
              "      <td>NaN</td>\n",
              "    </tr>\n",
              "    <tr>\n",
              "      <th>469320</th>\n",
              "      <td>693574</td>\n",
              "      <td>10.1042/bst0010120</td>\n",
              "      <td>Brain Electrolytes and Lysosomal Enzymes in th...</td>\n",
              "      <td>1973</td>\n",
              "      <td>2</td>\n",
              "      <td>14708752</td>\n",
              "      <td>NaN</td>\n",
              "    </tr>\n",
              "    <tr>\n",
              "      <th>469321</th>\n",
              "      <td>693575</td>\n",
              "      <td>10.1042/bst0010294</td>\n",
              "      <td>Subfractionation of Rabbit Skeletal-Muscle Mic...</td>\n",
              "      <td>1973</td>\n",
              "      <td>3</td>\n",
              "      <td>14708752</td>\n",
              "      <td>NaN</td>\n",
              "    </tr>\n",
              "    <tr>\n",
              "      <th>469322</th>\n",
              "      <td>693576</td>\n",
              "      <td>10.1042/bst0010129</td>\n",
              "      <td>Mechanism of the Inhibition by Ascorbate of th...</td>\n",
              "      <td>1973</td>\n",
              "      <td>9</td>\n",
              "      <td>14708752</td>\n",
              "      <td>NaN</td>\n",
              "    </tr>\n",
              "  </tbody>\n",
              "</table>\n",
              "<p>469323 rows × 7 columns</p>\n",
              "</div>\n",
              "      <button class=\"colab-df-convert\" onclick=\"convertToInteractive('df-dc549b15-6737-486c-8c6c-d2aadf99322d')\"\n",
              "              title=\"Convert this dataframe to an interactive table.\"\n",
              "              style=\"display:none;\">\n",
              "        \n",
              "  <svg xmlns=\"http://www.w3.org/2000/svg\" height=\"24px\"viewBox=\"0 0 24 24\"\n",
              "       width=\"24px\">\n",
              "    <path d=\"M0 0h24v24H0V0z\" fill=\"none\"/>\n",
              "    <path d=\"M18.56 5.44l.94 2.06.94-2.06 2.06-.94-2.06-.94-.94-2.06-.94 2.06-2.06.94zm-11 1L8.5 8.5l.94-2.06 2.06-.94-2.06-.94L8.5 2.5l-.94 2.06-2.06.94zm10 10l.94 2.06.94-2.06 2.06-.94-2.06-.94-.94-2.06-.94 2.06-2.06.94z\"/><path d=\"M17.41 7.96l-1.37-1.37c-.4-.4-.92-.59-1.43-.59-.52 0-1.04.2-1.43.59L10.3 9.45l-7.72 7.72c-.78.78-.78 2.05 0 2.83L4 21.41c.39.39.9.59 1.41.59.51 0 1.02-.2 1.41-.59l7.78-7.78 2.81-2.81c.8-.78.8-2.07 0-2.86zM5.41 20L4 18.59l7.72-7.72 1.47 1.35L5.41 20z\"/>\n",
              "  </svg>\n",
              "      </button>\n",
              "      \n",
              "  <style>\n",
              "    .colab-df-container {\n",
              "      display:flex;\n",
              "      flex-wrap:wrap;\n",
              "      gap: 12px;\n",
              "    }\n",
              "\n",
              "    .colab-df-convert {\n",
              "      background-color: #E8F0FE;\n",
              "      border: none;\n",
              "      border-radius: 50%;\n",
              "      cursor: pointer;\n",
              "      display: none;\n",
              "      fill: #1967D2;\n",
              "      height: 32px;\n",
              "      padding: 0 0 0 0;\n",
              "      width: 32px;\n",
              "    }\n",
              "\n",
              "    .colab-df-convert:hover {\n",
              "      background-color: #E2EBFA;\n",
              "      box-shadow: 0px 1px 2px rgba(60, 64, 67, 0.3), 0px 1px 3px 1px rgba(60, 64, 67, 0.15);\n",
              "      fill: #174EA6;\n",
              "    }\n",
              "\n",
              "    [theme=dark] .colab-df-convert {\n",
              "      background-color: #3B4455;\n",
              "      fill: #D2E3FC;\n",
              "    }\n",
              "\n",
              "    [theme=dark] .colab-df-convert:hover {\n",
              "      background-color: #434B5C;\n",
              "      box-shadow: 0px 1px 3px 1px rgba(0, 0, 0, 0.15);\n",
              "      filter: drop-shadow(0px 1px 2px rgba(0, 0, 0, 0.3));\n",
              "      fill: #FFFFFF;\n",
              "    }\n",
              "  </style>\n",
              "\n",
              "      <script>\n",
              "        const buttonEl =\n",
              "          document.querySelector('#df-dc549b15-6737-486c-8c6c-d2aadf99322d button.colab-df-convert');\n",
              "        buttonEl.style.display =\n",
              "          google.colab.kernel.accessAllowed ? 'block' : 'none';\n",
              "\n",
              "        async function convertToInteractive(key) {\n",
              "          const element = document.querySelector('#df-dc549b15-6737-486c-8c6c-d2aadf99322d');\n",
              "          const dataTable =\n",
              "            await google.colab.kernel.invokeFunction('convertToInteractive',\n",
              "                                                     [key], {});\n",
              "          if (!dataTable) return;\n",
              "\n",
              "          const docLinkHtml = 'Like what you see? Visit the ' +\n",
              "            '<a target=\"_blank\" href=https://colab.research.google.com/notebooks/data_table.ipynb>data table notebook</a>'\n",
              "            + ' to learn more about interactive tables.';\n",
              "          element.innerHTML = '';\n",
              "          dataTable['output_type'] = 'display_data';\n",
              "          await google.colab.output.renderOutput(dataTable, element);\n",
              "          const docLink = document.createElement('div');\n",
              "          docLink.innerHTML = docLinkHtml;\n",
              "          element.appendChild(docLink);\n",
              "        }\n",
              "      </script>\n",
              "    </div>\n",
              "  </div>\n",
              "  "
            ],
            "text/plain": [
              "        Unnamed: 0                         DOI  \\\n",
              "0                0  10.1016/j.cell.2022.09.018   \n",
              "1                1  10.1016/j.cell.2022.09.003   \n",
              "2                2  10.1016/j.cell.2022.08.022   \n",
              "3                3  10.1016/j.cell.2022.08.023   \n",
              "4                4  10.1016/j.cell.2022.09.027   \n",
              "...            ...                         ...   \n",
              "469318      693572          10.1042/bst0010138   \n",
              "469319      693573          10.1042/bst0010310   \n",
              "469320      693574          10.1042/bst0010120   \n",
              "469321      693575          10.1042/bst0010294   \n",
              "469322      693576          10.1042/bst0010129   \n",
              "\n",
              "                                                    Title  Year  \\\n",
              "0       Virological characteristics of the SARS-CoV-2 ...  2022   \n",
              "1       Quorum-sensing- and type VI secretion-mediated...  2022   \n",
              "2       Innate frequency-discrimination hyperacuity in...  2022   \n",
              "3       Expansion of the global RNA virome reveals div...  2022   \n",
              "4                          SnapShot: Cancer immunoediting  2022   \n",
              "...                                                   ...   ...   \n",
              "469318  Purine Uptake from Erythrocytes by Rabbit Tiss...  1973   \n",
              "469319  Biological Oxidation of Nitrogen in Organic Mo...  1973   \n",
              "469320  Brain Electrolytes and Lysosomal Enzymes in th...  1973   \n",
              "469321  Subfractionation of Rabbit Skeletal-Muscle Mic...  1973   \n",
              "469322  Mechanism of the Inhibition by Ascorbate of th...  1973   \n",
              "\n",
              "        num_citiations      ISSN  Abstract  \n",
              "0                    1    928674       NaN  \n",
              "1                    0    928674       NaN  \n",
              "2                    1    928674       NaN  \n",
              "3                    1    928674       NaN  \n",
              "4                    0    928674       NaN  \n",
              "...                ...       ...       ...  \n",
              "469318               7  14708752       NaN  \n",
              "469319               0  14708752       NaN  \n",
              "469320               2  14708752       NaN  \n",
              "469321               3  14708752       NaN  \n",
              "469322               9  14708752       NaN  \n",
              "\n",
              "[469323 rows x 7 columns]"
            ]
          },
          "execution_count": 6,
          "metadata": {},
          "output_type": "execute_result"
        }
      ],
      "source": [
        "df"
      ]
    },
    {
      "cell_type": "code",
      "execution_count": null,
      "metadata": {
        "colab": {
          "base_uri": "https://localhost:8080/"
        },
        "id": "_FUsYV5mP_2o",
        "outputId": "2f779f3e-5854-4791-aefd-a94362cd01af"
      },
      "outputs": [
        {
          "name": "stderr",
          "output_type": "stream",
          "text": [
            "/usr/local/lib/python3.7/dist-packages/IPython/core/interactiveshell.py:3326: DtypeWarning: Columns (5,6) have mixed types.Specify dtype option on import or set low_memory=False.\n",
            "  exec(code_obj, self.user_global_ns, self.user_ns)\n"
          ]
        }
      ],
      "source": [
        "df2 = pd.read_csv('dois_parsed_super.csv')#choose the name of file you uploaded"
      ]
    },
    {
      "cell_type": "code",
      "execution_count": null,
      "metadata": {
        "colab": {
          "base_uri": "https://localhost:8080/",
          "height": 419
        },
        "id": "4D56Ofp0QESj",
        "outputId": "b3027d0c-4ed3-4ee3-9ef2-79ee24ca0fec"
      },
      "outputs": [
        {
          "data": {
            "text/html": [
              "\n",
              "  <div id=\"df-4db1d396-6b0c-4818-a550-7089828381f3\">\n",
              "    <div class=\"colab-df-container\">\n",
              "      <div>\n",
              "<style scoped>\n",
              "    .dataframe tbody tr th:only-of-type {\n",
              "        vertical-align: middle;\n",
              "    }\n",
              "\n",
              "    .dataframe tbody tr th {\n",
              "        vertical-align: top;\n",
              "    }\n",
              "\n",
              "    .dataframe thead th {\n",
              "        text-align: right;\n",
              "    }\n",
              "</style>\n",
              "<table border=\"1\" class=\"dataframe\">\n",
              "  <thead>\n",
              "    <tr style=\"text-align: right;\">\n",
              "      <th></th>\n",
              "      <th>Unnamed: 0</th>\n",
              "      <th>DOI</th>\n",
              "      <th>Title</th>\n",
              "      <th>Year</th>\n",
              "      <th>num_citiations</th>\n",
              "      <th>ISSN</th>\n",
              "      <th>Abstract</th>\n",
              "    </tr>\n",
              "  </thead>\n",
              "  <tbody>\n",
              "    <tr>\n",
              "      <th>0</th>\n",
              "      <td>0</td>\n",
              "      <td>10.1016/j.jphotochemrev.2022.100534</td>\n",
              "      <td>Controlled optical manipulation and sorting of...</td>\n",
              "      <td>2022</td>\n",
              "      <td>0</td>\n",
              "      <td>13895567</td>\n",
              "      <td>NaN</td>\n",
              "    </tr>\n",
              "    <tr>\n",
              "      <th>1</th>\n",
              "      <td>1</td>\n",
              "      <td>10.1016/j.jphotochemrev.2022.100535</td>\n",
              "      <td>Laser-induced forward-transfer with light poss...</td>\n",
              "      <td>2022</td>\n",
              "      <td>0</td>\n",
              "      <td>13895567</td>\n",
              "      <td>NaN</td>\n",
              "    </tr>\n",
              "    <tr>\n",
              "      <th>2</th>\n",
              "      <td>2</td>\n",
              "      <td>10.1016/j.jphotochemrev.2022.100531</td>\n",
              "      <td>Optical manipulation with nanoscale chiral fie...</td>\n",
              "      <td>2022</td>\n",
              "      <td>0</td>\n",
              "      <td>13895567</td>\n",
              "      <td>NaN</td>\n",
              "    </tr>\n",
              "    <tr>\n",
              "      <th>3</th>\n",
              "      <td>3</td>\n",
              "      <td>10.1016/j.jphotochemrev.2022.100530</td>\n",
              "      <td>Manipulation of nucleation and polymorphism by...</td>\n",
              "      <td>2022</td>\n",
              "      <td>0</td>\n",
              "      <td>13895567</td>\n",
              "      <td>NaN</td>\n",
              "    </tr>\n",
              "    <tr>\n",
              "      <th>4</th>\n",
              "      <td>4</td>\n",
              "      <td>10.1016/j.jphotochemrev.2022.100532</td>\n",
              "      <td>Nanoscale optical imaging with photoinduced fo...</td>\n",
              "      <td>2022</td>\n",
              "      <td>0</td>\n",
              "      <td>13895567</td>\n",
              "      <td>NaN</td>\n",
              "    </tr>\n",
              "    <tr>\n",
              "      <th>...</th>\n",
              "      <td>...</td>\n",
              "      <td>...</td>\n",
              "      <td>...</td>\n",
              "      <td>...</td>\n",
              "      <td>...</td>\n",
              "      <td>...</td>\n",
              "      <td>...</td>\n",
              "    </tr>\n",
              "    <tr>\n",
              "      <th>1318847</th>\n",
              "      <td>1318847</td>\n",
              "      <td>10.3390/m278</td>\n",
              "      <td>2-(1,3-Benzodioxol-5-yl)ethylene-1,1,2-tricarb...</td>\n",
              "      <td>2003</td>\n",
              "      <td>0</td>\n",
              "      <td>14228599</td>\n",
              "      <td>NaN</td>\n",
              "    </tr>\n",
              "    <tr>\n",
              "      <th>1318848</th>\n",
              "      <td>1318848</td>\n",
              "      <td>10.3390/m277</td>\n",
              "      <td>Chiral Methyl 7,8,9-Trichloro-6,7,8,9-tetrahyd...</td>\n",
              "      <td>2003</td>\n",
              "      <td>0</td>\n",
              "      <td>14228599</td>\n",
              "      <td>NaN</td>\n",
              "    </tr>\n",
              "    <tr>\n",
              "      <th>1318849</th>\n",
              "      <td>1318849</td>\n",
              "      <td>10.3390/m280</td>\n",
              "      <td>5-[(2-Isopropyl-5-methylphenoxy)methyl]-4-phen...</td>\n",
              "      <td>2003</td>\n",
              "      <td>1</td>\n",
              "      <td>14228599</td>\n",
              "      <td>NaN</td>\n",
              "    </tr>\n",
              "    <tr>\n",
              "      <th>1318850</th>\n",
              "      <td>1318850</td>\n",
              "      <td>10.3390/m281</td>\n",
              "      <td>(2Z)-3-(3,4-Dimethoxyphenyl)-2-(4-methylphenyl...</td>\n",
              "      <td>2003</td>\n",
              "      <td>0</td>\n",
              "      <td>14228599</td>\n",
              "      <td>NaN</td>\n",
              "    </tr>\n",
              "    <tr>\n",
              "      <th>1318851</th>\n",
              "      <td>1318851</td>\n",
              "      <td>10.3390/m293</td>\n",
              "      <td>4-Bromo-5-(chloromethyl)-2-methoxyphenol</td>\n",
              "      <td>2002</td>\n",
              "      <td>0</td>\n",
              "      <td>14228599</td>\n",
              "      <td>NaN</td>\n",
              "    </tr>\n",
              "  </tbody>\n",
              "</table>\n",
              "<p>1318852 rows × 7 columns</p>\n",
              "</div>\n",
              "      <button class=\"colab-df-convert\" onclick=\"convertToInteractive('df-4db1d396-6b0c-4818-a550-7089828381f3')\"\n",
              "              title=\"Convert this dataframe to an interactive table.\"\n",
              "              style=\"display:none;\">\n",
              "        \n",
              "  <svg xmlns=\"http://www.w3.org/2000/svg\" height=\"24px\"viewBox=\"0 0 24 24\"\n",
              "       width=\"24px\">\n",
              "    <path d=\"M0 0h24v24H0V0z\" fill=\"none\"/>\n",
              "    <path d=\"M18.56 5.44l.94 2.06.94-2.06 2.06-.94-2.06-.94-.94-2.06-.94 2.06-2.06.94zm-11 1L8.5 8.5l.94-2.06 2.06-.94-2.06-.94L8.5 2.5l-.94 2.06-2.06.94zm10 10l.94 2.06.94-2.06 2.06-.94-2.06-.94-.94-2.06-.94 2.06-2.06.94z\"/><path d=\"M17.41 7.96l-1.37-1.37c-.4-.4-.92-.59-1.43-.59-.52 0-1.04.2-1.43.59L10.3 9.45l-7.72 7.72c-.78.78-.78 2.05 0 2.83L4 21.41c.39.39.9.59 1.41.59.51 0 1.02-.2 1.41-.59l7.78-7.78 2.81-2.81c.8-.78.8-2.07 0-2.86zM5.41 20L4 18.59l7.72-7.72 1.47 1.35L5.41 20z\"/>\n",
              "  </svg>\n",
              "      </button>\n",
              "      \n",
              "  <style>\n",
              "    .colab-df-container {\n",
              "      display:flex;\n",
              "      flex-wrap:wrap;\n",
              "      gap: 12px;\n",
              "    }\n",
              "\n",
              "    .colab-df-convert {\n",
              "      background-color: #E8F0FE;\n",
              "      border: none;\n",
              "      border-radius: 50%;\n",
              "      cursor: pointer;\n",
              "      display: none;\n",
              "      fill: #1967D2;\n",
              "      height: 32px;\n",
              "      padding: 0 0 0 0;\n",
              "      width: 32px;\n",
              "    }\n",
              "\n",
              "    .colab-df-convert:hover {\n",
              "      background-color: #E2EBFA;\n",
              "      box-shadow: 0px 1px 2px rgba(60, 64, 67, 0.3), 0px 1px 3px 1px rgba(60, 64, 67, 0.15);\n",
              "      fill: #174EA6;\n",
              "    }\n",
              "\n",
              "    [theme=dark] .colab-df-convert {\n",
              "      background-color: #3B4455;\n",
              "      fill: #D2E3FC;\n",
              "    }\n",
              "\n",
              "    [theme=dark] .colab-df-convert:hover {\n",
              "      background-color: #434B5C;\n",
              "      box-shadow: 0px 1px 3px 1px rgba(0, 0, 0, 0.15);\n",
              "      filter: drop-shadow(0px 1px 2px rgba(0, 0, 0, 0.3));\n",
              "      fill: #FFFFFF;\n",
              "    }\n",
              "  </style>\n",
              "\n",
              "      <script>\n",
              "        const buttonEl =\n",
              "          document.querySelector('#df-4db1d396-6b0c-4818-a550-7089828381f3 button.colab-df-convert');\n",
              "        buttonEl.style.display =\n",
              "          google.colab.kernel.accessAllowed ? 'block' : 'none';\n",
              "\n",
              "        async function convertToInteractive(key) {\n",
              "          const element = document.querySelector('#df-4db1d396-6b0c-4818-a550-7089828381f3');\n",
              "          const dataTable =\n",
              "            await google.colab.kernel.invokeFunction('convertToInteractive',\n",
              "                                                     [key], {});\n",
              "          if (!dataTable) return;\n",
              "\n",
              "          const docLinkHtml = 'Like what you see? Visit the ' +\n",
              "            '<a target=\"_blank\" href=https://colab.research.google.com/notebooks/data_table.ipynb>data table notebook</a>'\n",
              "            + ' to learn more about interactive tables.';\n",
              "          element.innerHTML = '';\n",
              "          dataTable['output_type'] = 'display_data';\n",
              "          await google.colab.output.renderOutput(dataTable, element);\n",
              "          const docLink = document.createElement('div');\n",
              "          docLink.innerHTML = docLinkHtml;\n",
              "          element.appendChild(docLink);\n",
              "        }\n",
              "      </script>\n",
              "    </div>\n",
              "  </div>\n",
              "  "
            ],
            "text/plain": [
              "         Unnamed: 0                                  DOI  \\\n",
              "0                 0  10.1016/j.jphotochemrev.2022.100534   \n",
              "1                 1  10.1016/j.jphotochemrev.2022.100535   \n",
              "2                 2  10.1016/j.jphotochemrev.2022.100531   \n",
              "3                 3  10.1016/j.jphotochemrev.2022.100530   \n",
              "4                 4  10.1016/j.jphotochemrev.2022.100532   \n",
              "...             ...                                  ...   \n",
              "1318847     1318847                         10.3390/m278   \n",
              "1318848     1318848                         10.3390/m277   \n",
              "1318849     1318849                         10.3390/m280   \n",
              "1318850     1318850                         10.3390/m281   \n",
              "1318851     1318851                         10.3390/m293   \n",
              "\n",
              "                                                     Title  Year  \\\n",
              "0        Controlled optical manipulation and sorting of...  2022   \n",
              "1        Laser-induced forward-transfer with light poss...  2022   \n",
              "2        Optical manipulation with nanoscale chiral fie...  2022   \n",
              "3        Manipulation of nucleation and polymorphism by...  2022   \n",
              "4        Nanoscale optical imaging with photoinduced fo...  2022   \n",
              "...                                                    ...   ...   \n",
              "1318847  2-(1,3-Benzodioxol-5-yl)ethylene-1,1,2-tricarb...  2003   \n",
              "1318848  Chiral Methyl 7,8,9-Trichloro-6,7,8,9-tetrahyd...  2003   \n",
              "1318849  5-[(2-Isopropyl-5-methylphenoxy)methyl]-4-phen...  2003   \n",
              "1318850  (2Z)-3-(3,4-Dimethoxyphenyl)-2-(4-methylphenyl...  2003   \n",
              "1318851           4-Bromo-5-(chloromethyl)-2-methoxyphenol  2002   \n",
              "\n",
              "         num_citiations      ISSN Abstract  \n",
              "0                     0  13895567      NaN  \n",
              "1                     0  13895567      NaN  \n",
              "2                     0  13895567      NaN  \n",
              "3                     0  13895567      NaN  \n",
              "4                     0  13895567      NaN  \n",
              "...                 ...       ...      ...  \n",
              "1318847               0  14228599      NaN  \n",
              "1318848               0  14228599      NaN  \n",
              "1318849               1  14228599      NaN  \n",
              "1318850               0  14228599      NaN  \n",
              "1318851               0  14228599      NaN  \n",
              "\n",
              "[1318852 rows x 7 columns]"
            ]
          },
          "execution_count": 9,
          "metadata": {},
          "output_type": "execute_result"
        }
      ],
      "source": [
        "df2"
      ]
    },
    {
      "cell_type": "code",
      "execution_count": null,
      "metadata": {
        "colab": {
          "base_uri": "https://localhost:8080/"
        },
        "id": "X7QKzga5ym0P",
        "outputId": "f7849d90-11f8-4b67-9562-59e63bbf08bd"
      },
      "outputs": [
        {
          "data": {
            "text/plain": [
              "2013    18005\n",
              "2016    17712\n",
              "2018    17553\n",
              "2015    17120\n",
              "2019    16573\n",
              "        ...  \n",
              "1887       33\n",
              "1886       33\n",
              "1883       32\n",
              "1888       25\n",
              "1889       23\n",
              "Name: Year, Length: 144, dtype: int64"
            ]
          },
          "execution_count": 10,
          "metadata": {},
          "output_type": "execute_result"
        }
      ],
      "source": [
        "df['Year'].value_counts()"
      ]
    },
    {
      "cell_type": "code",
      "execution_count": null,
      "metadata": {
        "colab": {
          "base_uri": "https://localhost:8080/",
          "height": 419
        },
        "id": "W-JXjaEcyotn",
        "outputId": "ebf186d5-abca-4707-92a8-f4339220891b"
      },
      "outputs": [
        {
          "data": {
            "text/html": [
              "\n",
              "  <div id=\"df-504b13d8-1ee3-44e2-be2c-93adb83132e2\">\n",
              "    <div class=\"colab-df-container\">\n",
              "      <div>\n",
              "<style scoped>\n",
              "    .dataframe tbody tr th:only-of-type {\n",
              "        vertical-align: middle;\n",
              "    }\n",
              "\n",
              "    .dataframe tbody tr th {\n",
              "        vertical-align: top;\n",
              "    }\n",
              "\n",
              "    .dataframe thead th {\n",
              "        text-align: right;\n",
              "    }\n",
              "</style>\n",
              "<table border=\"1\" class=\"dataframe\">\n",
              "  <thead>\n",
              "    <tr style=\"text-align: right;\">\n",
              "      <th></th>\n",
              "      <th>Unnamed: 0</th>\n",
              "      <th>DOI</th>\n",
              "      <th>Title</th>\n",
              "      <th>Year</th>\n",
              "      <th>num_citiations</th>\n",
              "      <th>ISSN</th>\n",
              "      <th>Abstract</th>\n",
              "    </tr>\n",
              "  </thead>\n",
              "  <tbody>\n",
              "    <tr>\n",
              "      <th>0</th>\n",
              "      <td>0</td>\n",
              "      <td>10.1016/j.cell.2022.09.018</td>\n",
              "      <td>Virological characteristics of the SARS-CoV-2 ...</td>\n",
              "      <td>2022</td>\n",
              "      <td>1</td>\n",
              "      <td>928674</td>\n",
              "      <td>NaN</td>\n",
              "    </tr>\n",
              "    <tr>\n",
              "      <th>1</th>\n",
              "      <td>1</td>\n",
              "      <td>10.1016/j.cell.2022.09.003</td>\n",
              "      <td>Quorum-sensing- and type VI secretion-mediated...</td>\n",
              "      <td>2022</td>\n",
              "      <td>0</td>\n",
              "      <td>928674</td>\n",
              "      <td>NaN</td>\n",
              "    </tr>\n",
              "    <tr>\n",
              "      <th>2</th>\n",
              "      <td>2</td>\n",
              "      <td>10.1016/j.cell.2022.08.022</td>\n",
              "      <td>Innate frequency-discrimination hyperacuity in...</td>\n",
              "      <td>2022</td>\n",
              "      <td>1</td>\n",
              "      <td>928674</td>\n",
              "      <td>NaN</td>\n",
              "    </tr>\n",
              "    <tr>\n",
              "      <th>3</th>\n",
              "      <td>3</td>\n",
              "      <td>10.1016/j.cell.2022.08.023</td>\n",
              "      <td>Expansion of the global RNA virome reveals div...</td>\n",
              "      <td>2022</td>\n",
              "      <td>1</td>\n",
              "      <td>928674</td>\n",
              "      <td>NaN</td>\n",
              "    </tr>\n",
              "    <tr>\n",
              "      <th>4</th>\n",
              "      <td>4</td>\n",
              "      <td>10.1016/j.cell.2022.09.027</td>\n",
              "      <td>SnapShot: Cancer immunoediting</td>\n",
              "      <td>2022</td>\n",
              "      <td>0</td>\n",
              "      <td>928674</td>\n",
              "      <td>NaN</td>\n",
              "    </tr>\n",
              "    <tr>\n",
              "      <th>...</th>\n",
              "      <td>...</td>\n",
              "      <td>...</td>\n",
              "      <td>...</td>\n",
              "      <td>...</td>\n",
              "      <td>...</td>\n",
              "      <td>...</td>\n",
              "      <td>...</td>\n",
              "    </tr>\n",
              "    <tr>\n",
              "      <th>445161</th>\n",
              "      <td>665976</td>\n",
              "      <td>10.1042/bst0391113v</td>\n",
              "      <td>Understanding the yeast host cell response to ...</td>\n",
              "      <td>2011</td>\n",
              "      <td>0</td>\n",
              "      <td>14708752</td>\n",
              "      <td>NaN</td>\n",
              "    </tr>\n",
              "    <tr>\n",
              "      <th>445162</th>\n",
              "      <td>666006</td>\n",
              "      <td>10.1042/bst0391113u</td>\n",
              "      <td>Endogenous ion channel complexes: the NMDA rec...</td>\n",
              "      <td>2011</td>\n",
              "      <td>0</td>\n",
              "      <td>14708752</td>\n",
              "      <td>NaN</td>\n",
              "    </tr>\n",
              "    <tr>\n",
              "      <th>445163</th>\n",
              "      <td>666070</td>\n",
              "      <td>10.1042/bst0390701</td>\n",
              "      <td>Ca2+-dependent modulation of GABAA and NMDA re...</td>\n",
              "      <td>2011</td>\n",
              "      <td>0</td>\n",
              "      <td>14708752</td>\n",
              "      <td>NaN</td>\n",
              "    </tr>\n",
              "    <tr>\n",
              "      <th>445164</th>\n",
              "      <td>666089</td>\n",
              "      <td>10.1042/bst0390411u</td>\n",
              "      <td>Structural insights into chondroitin sulfate b...</td>\n",
              "      <td>2011</td>\n",
              "      <td>0</td>\n",
              "      <td>14708752</td>\n",
              "      <td>NaN</td>\n",
              "    </tr>\n",
              "    <tr>\n",
              "      <th>445165</th>\n",
              "      <td>666100</td>\n",
              "      <td>10.1042/bst0390411v</td>\n",
              "      <td>Nonsense-mediated mRNA decay and development: ...</td>\n",
              "      <td>2011</td>\n",
              "      <td>0</td>\n",
              "      <td>14708752</td>\n",
              "      <td>NaN</td>\n",
              "    </tr>\n",
              "  </tbody>\n",
              "</table>\n",
              "<p>174873 rows × 7 columns</p>\n",
              "</div>\n",
              "      <button class=\"colab-df-convert\" onclick=\"convertToInteractive('df-504b13d8-1ee3-44e2-be2c-93adb83132e2')\"\n",
              "              title=\"Convert this dataframe to an interactive table.\"\n",
              "              style=\"display:none;\">\n",
              "        \n",
              "  <svg xmlns=\"http://www.w3.org/2000/svg\" height=\"24px\"viewBox=\"0 0 24 24\"\n",
              "       width=\"24px\">\n",
              "    <path d=\"M0 0h24v24H0V0z\" fill=\"none\"/>\n",
              "    <path d=\"M18.56 5.44l.94 2.06.94-2.06 2.06-.94-2.06-.94-.94-2.06-.94 2.06-2.06.94zm-11 1L8.5 8.5l.94-2.06 2.06-.94-2.06-.94L8.5 2.5l-.94 2.06-2.06.94zm10 10l.94 2.06.94-2.06 2.06-.94-2.06-.94-.94-2.06-.94 2.06-2.06.94z\"/><path d=\"M17.41 7.96l-1.37-1.37c-.4-.4-.92-.59-1.43-.59-.52 0-1.04.2-1.43.59L10.3 9.45l-7.72 7.72c-.78.78-.78 2.05 0 2.83L4 21.41c.39.39.9.59 1.41.59.51 0 1.02-.2 1.41-.59l7.78-7.78 2.81-2.81c.8-.78.8-2.07 0-2.86zM5.41 20L4 18.59l7.72-7.72 1.47 1.35L5.41 20z\"/>\n",
              "  </svg>\n",
              "      </button>\n",
              "      \n",
              "  <style>\n",
              "    .colab-df-container {\n",
              "      display:flex;\n",
              "      flex-wrap:wrap;\n",
              "      gap: 12px;\n",
              "    }\n",
              "\n",
              "    .colab-df-convert {\n",
              "      background-color: #E8F0FE;\n",
              "      border: none;\n",
              "      border-radius: 50%;\n",
              "      cursor: pointer;\n",
              "      display: none;\n",
              "      fill: #1967D2;\n",
              "      height: 32px;\n",
              "      padding: 0 0 0 0;\n",
              "      width: 32px;\n",
              "    }\n",
              "\n",
              "    .colab-df-convert:hover {\n",
              "      background-color: #E2EBFA;\n",
              "      box-shadow: 0px 1px 2px rgba(60, 64, 67, 0.3), 0px 1px 3px 1px rgba(60, 64, 67, 0.15);\n",
              "      fill: #174EA6;\n",
              "    }\n",
              "\n",
              "    [theme=dark] .colab-df-convert {\n",
              "      background-color: #3B4455;\n",
              "      fill: #D2E3FC;\n",
              "    }\n",
              "\n",
              "    [theme=dark] .colab-df-convert:hover {\n",
              "      background-color: #434B5C;\n",
              "      box-shadow: 0px 1px 3px 1px rgba(0, 0, 0, 0.15);\n",
              "      filter: drop-shadow(0px 1px 2px rgba(0, 0, 0, 0.3));\n",
              "      fill: #FFFFFF;\n",
              "    }\n",
              "  </style>\n",
              "\n",
              "      <script>\n",
              "        const buttonEl =\n",
              "          document.querySelector('#df-504b13d8-1ee3-44e2-be2c-93adb83132e2 button.colab-df-convert');\n",
              "        buttonEl.style.display =\n",
              "          google.colab.kernel.accessAllowed ? 'block' : 'none';\n",
              "\n",
              "        async function convertToInteractive(key) {\n",
              "          const element = document.querySelector('#df-504b13d8-1ee3-44e2-be2c-93adb83132e2');\n",
              "          const dataTable =\n",
              "            await google.colab.kernel.invokeFunction('convertToInteractive',\n",
              "                                                     [key], {});\n",
              "          if (!dataTable) return;\n",
              "\n",
              "          const docLinkHtml = 'Like what you see? Visit the ' +\n",
              "            '<a target=\"_blank\" href=https://colab.research.google.com/notebooks/data_table.ipynb>data table notebook</a>'\n",
              "            + ' to learn more about interactive tables.';\n",
              "          element.innerHTML = '';\n",
              "          dataTable['output_type'] = 'display_data';\n",
              "          await google.colab.output.renderOutput(dataTable, element);\n",
              "          const docLink = document.createElement('div');\n",
              "          docLink.innerHTML = docLinkHtml;\n",
              "          element.appendChild(docLink);\n",
              "        }\n",
              "      </script>\n",
              "    </div>\n",
              "  </div>\n",
              "  "
            ],
            "text/plain": [
              "        Unnamed: 0                         DOI  \\\n",
              "0                0  10.1016/j.cell.2022.09.018   \n",
              "1                1  10.1016/j.cell.2022.09.003   \n",
              "2                2  10.1016/j.cell.2022.08.022   \n",
              "3                3  10.1016/j.cell.2022.08.023   \n",
              "4                4  10.1016/j.cell.2022.09.027   \n",
              "...            ...                         ...   \n",
              "445161      665976         10.1042/bst0391113v   \n",
              "445162      666006         10.1042/bst0391113u   \n",
              "445163      666070          10.1042/bst0390701   \n",
              "445164      666089         10.1042/bst0390411u   \n",
              "445165      666100         10.1042/bst0390411v   \n",
              "\n",
              "                                                    Title  Year  \\\n",
              "0       Virological characteristics of the SARS-CoV-2 ...  2022   \n",
              "1       Quorum-sensing- and type VI secretion-mediated...  2022   \n",
              "2       Innate frequency-discrimination hyperacuity in...  2022   \n",
              "3       Expansion of the global RNA virome reveals div...  2022   \n",
              "4                          SnapShot: Cancer immunoediting  2022   \n",
              "...                                                   ...   ...   \n",
              "445161  Understanding the yeast host cell response to ...  2011   \n",
              "445162  Endogenous ion channel complexes: the NMDA rec...  2011   \n",
              "445163  Ca2+-dependent modulation of GABAA and NMDA re...  2011   \n",
              "445164  Structural insights into chondroitin sulfate b...  2011   \n",
              "445165  Nonsense-mediated mRNA decay and development: ...  2011   \n",
              "\n",
              "        num_citiations      ISSN  Abstract  \n",
              "0                    1    928674       NaN  \n",
              "1                    0    928674       NaN  \n",
              "2                    1    928674       NaN  \n",
              "3                    1    928674       NaN  \n",
              "4                    0    928674       NaN  \n",
              "...                ...       ...       ...  \n",
              "445161               0  14708752       NaN  \n",
              "445162               0  14708752       NaN  \n",
              "445163               0  14708752       NaN  \n",
              "445164               0  14708752       NaN  \n",
              "445165               0  14708752       NaN  \n",
              "\n",
              "[174873 rows x 7 columns]"
            ]
          },
          "execution_count": 11,
          "metadata": {},
          "output_type": "execute_result"
        }
      ],
      "source": [
        "df2 = df.loc[(df['Year'] > 2010)] \n",
        "df2"
      ]
    },
    {
      "cell_type": "code",
      "execution_count": null,
      "metadata": {
        "colab": {
          "base_uri": "https://localhost:8080/",
          "height": 419
        },
        "id": "KtFmBqr9yrSU",
        "outputId": "614779a1-8aa8-4845-9d42-7a61843ae112"
      },
      "outputs": [
        {
          "data": {
            "text/html": [
              "\n",
              "  <div id=\"df-a3f4e363-84f0-45d8-8edb-10f3c4d801f7\">\n",
              "    <div class=\"colab-df-container\">\n",
              "      <div>\n",
              "<style scoped>\n",
              "    .dataframe tbody tr th:only-of-type {\n",
              "        vertical-align: middle;\n",
              "    }\n",
              "\n",
              "    .dataframe tbody tr th {\n",
              "        vertical-align: top;\n",
              "    }\n",
              "\n",
              "    .dataframe thead th {\n",
              "        text-align: right;\n",
              "    }\n",
              "</style>\n",
              "<table border=\"1\" class=\"dataframe\">\n",
              "  <thead>\n",
              "    <tr style=\"text-align: right;\">\n",
              "      <th></th>\n",
              "      <th>Unnamed: 0</th>\n",
              "      <th>DOI</th>\n",
              "      <th>Title</th>\n",
              "      <th>Year</th>\n",
              "      <th>num_citiations</th>\n",
              "      <th>ISSN</th>\n",
              "      <th>Abstract</th>\n",
              "    </tr>\n",
              "  </thead>\n",
              "  <tbody>\n",
              "    <tr>\n",
              "      <th>895</th>\n",
              "      <td>895</td>\n",
              "      <td>10.1016/j.cell.2020.11.026</td>\n",
              "      <td>An Extraordinary Astronaut</td>\n",
              "      <td>2020</td>\n",
              "      <td>0</td>\n",
              "      <td>928674</td>\n",
              "      <td>NaN</td>\n",
              "    </tr>\n",
              "    <tr>\n",
              "      <th>896</th>\n",
              "      <td>896</td>\n",
              "      <td>10.1016/j.cell.2020.11.023</td>\n",
              "      <td>Potent Henipavirus Neutralization by Antibodie...</td>\n",
              "      <td>2020</td>\n",
              "      <td>14</td>\n",
              "      <td>928674</td>\n",
              "      <td>NaN</td>\n",
              "    </tr>\n",
              "    <tr>\n",
              "      <th>897</th>\n",
              "      <td>897</td>\n",
              "      <td>10.1016/j.cell.2020.11.005</td>\n",
              "      <td>Guide RNA Categorization Enables Target Site C...</td>\n",
              "      <td>2020</td>\n",
              "      <td>41</td>\n",
              "      <td>928674</td>\n",
              "      <td>NaN</td>\n",
              "    </tr>\n",
              "    <tr>\n",
              "      <th>898</th>\n",
              "      <td>898</td>\n",
              "      <td>10.1016/j.cell.2020.11.013</td>\n",
              "      <td>A Unified Framework for Dopamine Signals acros...</td>\n",
              "      <td>2020</td>\n",
              "      <td>66</td>\n",
              "      <td>928674</td>\n",
              "      <td>NaN</td>\n",
              "    </tr>\n",
              "    <tr>\n",
              "      <th>899</th>\n",
              "      <td>899</td>\n",
              "      <td>10.1016/j.cell.2020.12.010</td>\n",
              "      <td>Targeted Activation of Hippocampal Place Cells...</td>\n",
              "      <td>2020</td>\n",
              "      <td>21</td>\n",
              "      <td>928674</td>\n",
              "      <td>NaN</td>\n",
              "    </tr>\n",
              "    <tr>\n",
              "      <th>...</th>\n",
              "      <td>...</td>\n",
              "      <td>...</td>\n",
              "      <td>...</td>\n",
              "      <td>...</td>\n",
              "      <td>...</td>\n",
              "      <td>...</td>\n",
              "      <td>...</td>\n",
              "    </tr>\n",
              "    <tr>\n",
              "      <th>445161</th>\n",
              "      <td>665976</td>\n",
              "      <td>10.1042/bst0391113v</td>\n",
              "      <td>Understanding the yeast host cell response to ...</td>\n",
              "      <td>2011</td>\n",
              "      <td>0</td>\n",
              "      <td>14708752</td>\n",
              "      <td>NaN</td>\n",
              "    </tr>\n",
              "    <tr>\n",
              "      <th>445162</th>\n",
              "      <td>666006</td>\n",
              "      <td>10.1042/bst0391113u</td>\n",
              "      <td>Endogenous ion channel complexes: the NMDA rec...</td>\n",
              "      <td>2011</td>\n",
              "      <td>0</td>\n",
              "      <td>14708752</td>\n",
              "      <td>NaN</td>\n",
              "    </tr>\n",
              "    <tr>\n",
              "      <th>445163</th>\n",
              "      <td>666070</td>\n",
              "      <td>10.1042/bst0390701</td>\n",
              "      <td>Ca2+-dependent modulation of GABAA and NMDA re...</td>\n",
              "      <td>2011</td>\n",
              "      <td>0</td>\n",
              "      <td>14708752</td>\n",
              "      <td>NaN</td>\n",
              "    </tr>\n",
              "    <tr>\n",
              "      <th>445164</th>\n",
              "      <td>666089</td>\n",
              "      <td>10.1042/bst0390411u</td>\n",
              "      <td>Structural insights into chondroitin sulfate b...</td>\n",
              "      <td>2011</td>\n",
              "      <td>0</td>\n",
              "      <td>14708752</td>\n",
              "      <td>NaN</td>\n",
              "    </tr>\n",
              "    <tr>\n",
              "      <th>445165</th>\n",
              "      <td>666100</td>\n",
              "      <td>10.1042/bst0390411v</td>\n",
              "      <td>Nonsense-mediated mRNA decay and development: ...</td>\n",
              "      <td>2011</td>\n",
              "      <td>0</td>\n",
              "      <td>14708752</td>\n",
              "      <td>NaN</td>\n",
              "    </tr>\n",
              "  </tbody>\n",
              "</table>\n",
              "<p>151025 rows × 7 columns</p>\n",
              "</div>\n",
              "      <button class=\"colab-df-convert\" onclick=\"convertToInteractive('df-a3f4e363-84f0-45d8-8edb-10f3c4d801f7')\"\n",
              "              title=\"Convert this dataframe to an interactive table.\"\n",
              "              style=\"display:none;\">\n",
              "        \n",
              "  <svg xmlns=\"http://www.w3.org/2000/svg\" height=\"24px\"viewBox=\"0 0 24 24\"\n",
              "       width=\"24px\">\n",
              "    <path d=\"M0 0h24v24H0V0z\" fill=\"none\"/>\n",
              "    <path d=\"M18.56 5.44l.94 2.06.94-2.06 2.06-.94-2.06-.94-.94-2.06-.94 2.06-2.06.94zm-11 1L8.5 8.5l.94-2.06 2.06-.94-2.06-.94L8.5 2.5l-.94 2.06-2.06.94zm10 10l.94 2.06.94-2.06 2.06-.94-2.06-.94-.94-2.06-.94 2.06-2.06.94z\"/><path d=\"M17.41 7.96l-1.37-1.37c-.4-.4-.92-.59-1.43-.59-.52 0-1.04.2-1.43.59L10.3 9.45l-7.72 7.72c-.78.78-.78 2.05 0 2.83L4 21.41c.39.39.9.59 1.41.59.51 0 1.02-.2 1.41-.59l7.78-7.78 2.81-2.81c.8-.78.8-2.07 0-2.86zM5.41 20L4 18.59l7.72-7.72 1.47 1.35L5.41 20z\"/>\n",
              "  </svg>\n",
              "      </button>\n",
              "      \n",
              "  <style>\n",
              "    .colab-df-container {\n",
              "      display:flex;\n",
              "      flex-wrap:wrap;\n",
              "      gap: 12px;\n",
              "    }\n",
              "\n",
              "    .colab-df-convert {\n",
              "      background-color: #E8F0FE;\n",
              "      border: none;\n",
              "      border-radius: 50%;\n",
              "      cursor: pointer;\n",
              "      display: none;\n",
              "      fill: #1967D2;\n",
              "      height: 32px;\n",
              "      padding: 0 0 0 0;\n",
              "      width: 32px;\n",
              "    }\n",
              "\n",
              "    .colab-df-convert:hover {\n",
              "      background-color: #E2EBFA;\n",
              "      box-shadow: 0px 1px 2px rgba(60, 64, 67, 0.3), 0px 1px 3px 1px rgba(60, 64, 67, 0.15);\n",
              "      fill: #174EA6;\n",
              "    }\n",
              "\n",
              "    [theme=dark] .colab-df-convert {\n",
              "      background-color: #3B4455;\n",
              "      fill: #D2E3FC;\n",
              "    }\n",
              "\n",
              "    [theme=dark] .colab-df-convert:hover {\n",
              "      background-color: #434B5C;\n",
              "      box-shadow: 0px 1px 3px 1px rgba(0, 0, 0, 0.15);\n",
              "      filter: drop-shadow(0px 1px 2px rgba(0, 0, 0, 0.3));\n",
              "      fill: #FFFFFF;\n",
              "    }\n",
              "  </style>\n",
              "\n",
              "      <script>\n",
              "        const buttonEl =\n",
              "          document.querySelector('#df-a3f4e363-84f0-45d8-8edb-10f3c4d801f7 button.colab-df-convert');\n",
              "        buttonEl.style.display =\n",
              "          google.colab.kernel.accessAllowed ? 'block' : 'none';\n",
              "\n",
              "        async function convertToInteractive(key) {\n",
              "          const element = document.querySelector('#df-a3f4e363-84f0-45d8-8edb-10f3c4d801f7');\n",
              "          const dataTable =\n",
              "            await google.colab.kernel.invokeFunction('convertToInteractive',\n",
              "                                                     [key], {});\n",
              "          if (!dataTable) return;\n",
              "\n",
              "          const docLinkHtml = 'Like what you see? Visit the ' +\n",
              "            '<a target=\"_blank\" href=https://colab.research.google.com/notebooks/data_table.ipynb>data table notebook</a>'\n",
              "            + ' to learn more about interactive tables.';\n",
              "          element.innerHTML = '';\n",
              "          dataTable['output_type'] = 'display_data';\n",
              "          await google.colab.output.renderOutput(dataTable, element);\n",
              "          const docLink = document.createElement('div');\n",
              "          docLink.innerHTML = docLinkHtml;\n",
              "          element.appendChild(docLink);\n",
              "        }\n",
              "      </script>\n",
              "    </div>\n",
              "  </div>\n",
              "  "
            ],
            "text/plain": [
              "        Unnamed: 0                         DOI  \\\n",
              "895            895  10.1016/j.cell.2020.11.026   \n",
              "896            896  10.1016/j.cell.2020.11.023   \n",
              "897            897  10.1016/j.cell.2020.11.005   \n",
              "898            898  10.1016/j.cell.2020.11.013   \n",
              "899            899  10.1016/j.cell.2020.12.010   \n",
              "...            ...                         ...   \n",
              "445161      665976         10.1042/bst0391113v   \n",
              "445162      666006         10.1042/bst0391113u   \n",
              "445163      666070          10.1042/bst0390701   \n",
              "445164      666089         10.1042/bst0390411u   \n",
              "445165      666100         10.1042/bst0390411v   \n",
              "\n",
              "                                                    Title  Year  \\\n",
              "895                            An Extraordinary Astronaut  2020   \n",
              "896     Potent Henipavirus Neutralization by Antibodie...  2020   \n",
              "897     Guide RNA Categorization Enables Target Site C...  2020   \n",
              "898     A Unified Framework for Dopamine Signals acros...  2020   \n",
              "899     Targeted Activation of Hippocampal Place Cells...  2020   \n",
              "...                                                   ...   ...   \n",
              "445161  Understanding the yeast host cell response to ...  2011   \n",
              "445162  Endogenous ion channel complexes: the NMDA rec...  2011   \n",
              "445163  Ca2+-dependent modulation of GABAA and NMDA re...  2011   \n",
              "445164  Structural insights into chondroitin sulfate b...  2011   \n",
              "445165  Nonsense-mediated mRNA decay and development: ...  2011   \n",
              "\n",
              "        num_citiations      ISSN  Abstract  \n",
              "895                  0    928674       NaN  \n",
              "896                 14    928674       NaN  \n",
              "897                 41    928674       NaN  \n",
              "898                 66    928674       NaN  \n",
              "899                 21    928674       NaN  \n",
              "...                ...       ...       ...  \n",
              "445161               0  14708752       NaN  \n",
              "445162               0  14708752       NaN  \n",
              "445163               0  14708752       NaN  \n",
              "445164               0  14708752       NaN  \n",
              "445165               0  14708752       NaN  \n",
              "\n",
              "[151025 rows x 7 columns]"
            ]
          },
          "execution_count": 12,
          "metadata": {},
          "output_type": "execute_result"
        }
      ],
      "source": [
        "df3 = df2.loc[(df2['Year'] < 2021)] \n",
        "df3"
      ]
    },
    {
      "cell_type": "code",
      "execution_count": null,
      "metadata": {
        "colab": {
          "base_uri": "https://localhost:8080/",
          "height": 419
        },
        "id": "jgcuMUgtyvYb",
        "outputId": "9d536963-848f-4e8b-e562-99038d21ec34"
      },
      "outputs": [
        {
          "data": {
            "text/html": [
              "\n",
              "  <div id=\"df-da52411e-8df4-42cd-95c5-24e3a83e0ab4\">\n",
              "    <div class=\"colab-df-container\">\n",
              "      <div>\n",
              "<style scoped>\n",
              "    .dataframe tbody tr th:only-of-type {\n",
              "        vertical-align: middle;\n",
              "    }\n",
              "\n",
              "    .dataframe tbody tr th {\n",
              "        vertical-align: top;\n",
              "    }\n",
              "\n",
              "    .dataframe thead th {\n",
              "        text-align: right;\n",
              "    }\n",
              "</style>\n",
              "<table border=\"1\" class=\"dataframe\">\n",
              "  <thead>\n",
              "    <tr style=\"text-align: right;\">\n",
              "      <th></th>\n",
              "      <th>Unnamed: 0</th>\n",
              "      <th>DOI</th>\n",
              "      <th>Title</th>\n",
              "      <th>Year</th>\n",
              "      <th>num_citiations</th>\n",
              "      <th>ISSN</th>\n",
              "      <th>Abstract</th>\n",
              "    </tr>\n",
              "  </thead>\n",
              "  <tbody>\n",
              "    <tr>\n",
              "      <th>445165</th>\n",
              "      <td>666100</td>\n",
              "      <td>10.1042/bst0390411v</td>\n",
              "      <td>Nonsense-mediated mRNA decay and development: ...</td>\n",
              "      <td>2011</td>\n",
              "      <td>0</td>\n",
              "      <td>14708752</td>\n",
              "      <td>NaN</td>\n",
              "    </tr>\n",
              "    <tr>\n",
              "      <th>37781</th>\n",
              "      <td>38688</td>\n",
              "      <td>10.1038/emboj.2011.336</td>\n",
              "      <td>Lateral assembly of the immunoglobulin protein...</td>\n",
              "      <td>2011</td>\n",
              "      <td>54</td>\n",
              "      <td>2614189</td>\n",
              "      <td>NaN</td>\n",
              "    </tr>\n",
              "    <tr>\n",
              "      <th>37780</th>\n",
              "      <td>38687</td>\n",
              "      <td>10.1038/emboj.2011.339</td>\n",
              "      <td>Proper synaptic vesicle formation and neuronal...</td>\n",
              "      <td>2011</td>\n",
              "      <td>63</td>\n",
              "      <td>2614189</td>\n",
              "      <td>NaN</td>\n",
              "    </tr>\n",
              "    <tr>\n",
              "      <th>37779</th>\n",
              "      <td>38686</td>\n",
              "      <td>10.1038/emboj.2011.318</td>\n",
              "      <td>BAX inhibitor-1 regulates autophagy by control...</td>\n",
              "      <td>2011</td>\n",
              "      <td>94</td>\n",
              "      <td>2614189</td>\n",
              "      <td>NaN</td>\n",
              "    </tr>\n",
              "    <tr>\n",
              "      <th>37778</th>\n",
              "      <td>38685</td>\n",
              "      <td>10.1038/emboj.2011.332</td>\n",
              "      <td>Integrin adhesion and force coupling are indep...</td>\n",
              "      <td>2011</td>\n",
              "      <td>70</td>\n",
              "      <td>2614189</td>\n",
              "      <td>NaN</td>\n",
              "    </tr>\n",
              "    <tr>\n",
              "      <th>...</th>\n",
              "      <td>...</td>\n",
              "      <td>...</td>\n",
              "      <td>...</td>\n",
              "      <td>...</td>\n",
              "      <td>...</td>\n",
              "      <td>...</td>\n",
              "      <td>...</td>\n",
              "    </tr>\n",
              "    <tr>\n",
              "      <th>312399</th>\n",
              "      <td>325171</td>\n",
              "      <td>10.1002/adfm.201909910</td>\n",
              "      <td>The Devices, Experimental Scaffolds, and Bioma...</td>\n",
              "      <td>2020</td>\n",
              "      <td>5</td>\n",
              "      <td>1616301X</td>\n",
              "      <td>NaN</td>\n",
              "    </tr>\n",
              "    <tr>\n",
              "      <th>312398</th>\n",
              "      <td>325170</td>\n",
              "      <td>10.1002/adfm.201909391</td>\n",
              "      <td>Enzyme‐Mediated Tumor Starvation and Photother...</td>\n",
              "      <td>2020</td>\n",
              "      <td>119</td>\n",
              "      <td>1616301X</td>\n",
              "      <td>NaN</td>\n",
              "    </tr>\n",
              "    <tr>\n",
              "      <th>312397</th>\n",
              "      <td>325169</td>\n",
              "      <td>10.1002/adfm.202000458</td>\n",
              "      <td>Low‐Resistant Electrical and Robust Mechanical...</td>\n",
              "      <td>2020</td>\n",
              "      <td>19</td>\n",
              "      <td>1616301X</td>\n",
              "      <td>NaN</td>\n",
              "    </tr>\n",
              "    <tr>\n",
              "      <th>312405</th>\n",
              "      <td>325177</td>\n",
              "      <td>10.1002/adfm.201910309</td>\n",
              "      <td>Gold‐Supported Gadolinium Doped CoB Amorphous ...</td>\n",
              "      <td>2020</td>\n",
              "      <td>33</td>\n",
              "      <td>1616301X</td>\n",
              "      <td>NaN</td>\n",
              "    </tr>\n",
              "    <tr>\n",
              "      <th>895</th>\n",
              "      <td>895</td>\n",
              "      <td>10.1016/j.cell.2020.11.026</td>\n",
              "      <td>An Extraordinary Astronaut</td>\n",
              "      <td>2020</td>\n",
              "      <td>0</td>\n",
              "      <td>928674</td>\n",
              "      <td>NaN</td>\n",
              "    </tr>\n",
              "  </tbody>\n",
              "</table>\n",
              "<p>151025 rows × 7 columns</p>\n",
              "</div>\n",
              "      <button class=\"colab-df-convert\" onclick=\"convertToInteractive('df-da52411e-8df4-42cd-95c5-24e3a83e0ab4')\"\n",
              "              title=\"Convert this dataframe to an interactive table.\"\n",
              "              style=\"display:none;\">\n",
              "        \n",
              "  <svg xmlns=\"http://www.w3.org/2000/svg\" height=\"24px\"viewBox=\"0 0 24 24\"\n",
              "       width=\"24px\">\n",
              "    <path d=\"M0 0h24v24H0V0z\" fill=\"none\"/>\n",
              "    <path d=\"M18.56 5.44l.94 2.06.94-2.06 2.06-.94-2.06-.94-.94-2.06-.94 2.06-2.06.94zm-11 1L8.5 8.5l.94-2.06 2.06-.94-2.06-.94L8.5 2.5l-.94 2.06-2.06.94zm10 10l.94 2.06.94-2.06 2.06-.94-2.06-.94-.94-2.06-.94 2.06-2.06.94z\"/><path d=\"M17.41 7.96l-1.37-1.37c-.4-.4-.92-.59-1.43-.59-.52 0-1.04.2-1.43.59L10.3 9.45l-7.72 7.72c-.78.78-.78 2.05 0 2.83L4 21.41c.39.39.9.59 1.41.59.51 0 1.02-.2 1.41-.59l7.78-7.78 2.81-2.81c.8-.78.8-2.07 0-2.86zM5.41 20L4 18.59l7.72-7.72 1.47 1.35L5.41 20z\"/>\n",
              "  </svg>\n",
              "      </button>\n",
              "      \n",
              "  <style>\n",
              "    .colab-df-container {\n",
              "      display:flex;\n",
              "      flex-wrap:wrap;\n",
              "      gap: 12px;\n",
              "    }\n",
              "\n",
              "    .colab-df-convert {\n",
              "      background-color: #E8F0FE;\n",
              "      border: none;\n",
              "      border-radius: 50%;\n",
              "      cursor: pointer;\n",
              "      display: none;\n",
              "      fill: #1967D2;\n",
              "      height: 32px;\n",
              "      padding: 0 0 0 0;\n",
              "      width: 32px;\n",
              "    }\n",
              "\n",
              "    .colab-df-convert:hover {\n",
              "      background-color: #E2EBFA;\n",
              "      box-shadow: 0px 1px 2px rgba(60, 64, 67, 0.3), 0px 1px 3px 1px rgba(60, 64, 67, 0.15);\n",
              "      fill: #174EA6;\n",
              "    }\n",
              "\n",
              "    [theme=dark] .colab-df-convert {\n",
              "      background-color: #3B4455;\n",
              "      fill: #D2E3FC;\n",
              "    }\n",
              "\n",
              "    [theme=dark] .colab-df-convert:hover {\n",
              "      background-color: #434B5C;\n",
              "      box-shadow: 0px 1px 3px 1px rgba(0, 0, 0, 0.15);\n",
              "      filter: drop-shadow(0px 1px 2px rgba(0, 0, 0, 0.3));\n",
              "      fill: #FFFFFF;\n",
              "    }\n",
              "  </style>\n",
              "\n",
              "      <script>\n",
              "        const buttonEl =\n",
              "          document.querySelector('#df-da52411e-8df4-42cd-95c5-24e3a83e0ab4 button.colab-df-convert');\n",
              "        buttonEl.style.display =\n",
              "          google.colab.kernel.accessAllowed ? 'block' : 'none';\n",
              "\n",
              "        async function convertToInteractive(key) {\n",
              "          const element = document.querySelector('#df-da52411e-8df4-42cd-95c5-24e3a83e0ab4');\n",
              "          const dataTable =\n",
              "            await google.colab.kernel.invokeFunction('convertToInteractive',\n",
              "                                                     [key], {});\n",
              "          if (!dataTable) return;\n",
              "\n",
              "          const docLinkHtml = 'Like what you see? Visit the ' +\n",
              "            '<a target=\"_blank\" href=https://colab.research.google.com/notebooks/data_table.ipynb>data table notebook</a>'\n",
              "            + ' to learn more about interactive tables.';\n",
              "          element.innerHTML = '';\n",
              "          dataTable['output_type'] = 'display_data';\n",
              "          await google.colab.output.renderOutput(dataTable, element);\n",
              "          const docLink = document.createElement('div');\n",
              "          docLink.innerHTML = docLinkHtml;\n",
              "          element.appendChild(docLink);\n",
              "        }\n",
              "      </script>\n",
              "    </div>\n",
              "  </div>\n",
              "  "
            ],
            "text/plain": [
              "        Unnamed: 0                         DOI  \\\n",
              "445165      666100         10.1042/bst0390411v   \n",
              "37781        38688      10.1038/emboj.2011.336   \n",
              "37780        38687      10.1038/emboj.2011.339   \n",
              "37779        38686      10.1038/emboj.2011.318   \n",
              "37778        38685      10.1038/emboj.2011.332   \n",
              "...            ...                         ...   \n",
              "312399      325171      10.1002/adfm.201909910   \n",
              "312398      325170      10.1002/adfm.201909391   \n",
              "312397      325169      10.1002/adfm.202000458   \n",
              "312405      325177      10.1002/adfm.201910309   \n",
              "895            895  10.1016/j.cell.2020.11.026   \n",
              "\n",
              "                                                    Title  Year  \\\n",
              "445165  Nonsense-mediated mRNA decay and development: ...  2011   \n",
              "37781   Lateral assembly of the immunoglobulin protein...  2011   \n",
              "37780   Proper synaptic vesicle formation and neuronal...  2011   \n",
              "37779   BAX inhibitor-1 regulates autophagy by control...  2011   \n",
              "37778   Integrin adhesion and force coupling are indep...  2011   \n",
              "...                                                   ...   ...   \n",
              "312399  The Devices, Experimental Scaffolds, and Bioma...  2020   \n",
              "312398  Enzyme‐Mediated Tumor Starvation and Photother...  2020   \n",
              "312397  Low‐Resistant Electrical and Robust Mechanical...  2020   \n",
              "312405  Gold‐Supported Gadolinium Doped CoB Amorphous ...  2020   \n",
              "895                            An Extraordinary Astronaut  2020   \n",
              "\n",
              "        num_citiations      ISSN  Abstract  \n",
              "445165               0  14708752       NaN  \n",
              "37781               54   2614189       NaN  \n",
              "37780               63   2614189       NaN  \n",
              "37779               94   2614189       NaN  \n",
              "37778               70   2614189       NaN  \n",
              "...                ...       ...       ...  \n",
              "312399               5  1616301X       NaN  \n",
              "312398             119  1616301X       NaN  \n",
              "312397              19  1616301X       NaN  \n",
              "312405              33  1616301X       NaN  \n",
              "895                  0    928674       NaN  \n",
              "\n",
              "[151025 rows x 7 columns]"
            ]
          },
          "execution_count": 13,
          "metadata": {},
          "output_type": "execute_result"
        }
      ],
      "source": [
        "df3.sort_values(by=['Year'])"
      ]
    },
    {
      "cell_type": "markdown",
      "metadata": {
        "id": "Pi09L8ESyzSn"
      },
      "source": [
        "#Now we need to download abstracts"
      ]
    },
    {
      "cell_type": "code",
      "execution_count": null,
      "metadata": {
        "colab": {
          "base_uri": "https://localhost:8080/"
        },
        "id": "G2G7z42Syv-j",
        "outputId": "4e075ad4-bad7-444b-cf43-1899144b2b15"
      },
      "outputs": [
        {
          "name": "stdout",
          "output_type": "stream",
          "text": [
            "Looking in indexes: https://pypi.org/simple, https://us-python.pkg.dev/colab-wheels/public/simple/\n",
            "Collecting semanticscholar\n",
            "  Downloading semanticscholar-0.3.0-py3-none-any.whl (12 kB)\n",
            "Requirement already satisfied: requests in /usr/local/lib/python3.7/dist-packages (from semanticscholar) (2.23.0)\n",
            "Requirement already satisfied: tenacity in /usr/local/lib/python3.7/dist-packages (from semanticscholar) (8.1.0)\n",
            "Requirement already satisfied: certifi>=2017.4.17 in /usr/local/lib/python3.7/dist-packages (from requests->semanticscholar) (2022.9.24)\n",
            "Requirement already satisfied: chardet<4,>=3.0.2 in /usr/local/lib/python3.7/dist-packages (from requests->semanticscholar) (3.0.4)\n",
            "Requirement already satisfied: urllib3!=1.25.0,!=1.25.1,<1.26,>=1.21.1 in /usr/local/lib/python3.7/dist-packages (from requests->semanticscholar) (1.24.3)\n",
            "Requirement already satisfied: idna<3,>=2.5 in /usr/local/lib/python3.7/dist-packages (from requests->semanticscholar) (2.10)\n",
            "Installing collected packages: semanticscholar\n",
            "Successfully installed semanticscholar-0.3.0\n"
          ]
        }
      ],
      "source": [
        "!pip install semanticscholar"
      ]
    },
    {
      "cell_type": "code",
      "execution_count": null,
      "metadata": {
        "id": "6O33hCgEy3JR"
      },
      "outputs": [],
      "source": [
        "import requests\n",
        "import bs4\n",
        "import pandas as pd\n",
        "from tqdm import tqdm_notebook\n",
        "\n",
        "#The magical key to all abstracs\n",
        "SEMANTIC_SCHOLAR_KEY = 'JsHIhD9SLl2mY9wiZ2qey5hQqFhUzm4Ua4S7cxk5'\n",
        "\n",
        "from semanticscholar import SemanticScholar\n",
        "sch = SemanticScholar(api_key=SEMANTIC_SCHOLAR_KEY, timeout=10)"
      ]
    },
    {
      "cell_type": "code",
      "execution_count": null,
      "metadata": {
        "colab": {
          "background_save": true,
          "base_uri": "https://localhost:8080/",
          "height": 1000,
          "referenced_widgets": [
            "4f6ed9e0ab1345e893adc2dccac9f8e9",
            "42fde7998d18481fa32039792cb38eab",
            "7e2df6c702fe4d8489e86228c03b2dcc",
            "2d5dab9a74404f958b12baa9dd32a956",
            "efd26c118c0644f59cdfb0c596b73633",
            "60d8aecb13fd4904a107ab2181e05e81",
            "7d76fb52e0914785b33f23ca64bf9110",
            "5b025f966c1d4ee5b6d9b7aa3f446b3b",
            "75b9a7f334664f49968de419d2a5181e",
            "ccc784b2199a453f998c87a25086c771",
            "bffe8e2311484d268bc11d39ef525f13"
          ]
        },
        "id": "FaePbM0oy50Z",
        "outputId": "70a5360d-9cb0-42ee-ae9f-8ba3a52ac487"
      },
      "outputs": [
        {
          "name": "stderr",
          "output_type": "stream",
          "text": [
            "/usr/local/lib/python3.7/dist-packages/ipykernel_launcher.py:3: TqdmDeprecationWarning: This function will be removed in tqdm==5.0.0\n",
            "Please use `tqdm.notebook.tqdm` instead of `tqdm.tqdm_notebook`\n",
            "  This is separate from the ipykernel package so we can avoid doing imports until\n"
          ]
        },
        {
          "data": {
            "application/vnd.jupyter.widget-view+json": {
              "model_id": "4f6ed9e0ab1345e893adc2dccac9f8e9",
              "version_major": 2,
              "version_minor": 0
            },
            "text/plain": [
              "  0%|          | 0/3000 [00:00<?, ?it/s]"
            ]
          },
          "metadata": {},
          "output_type": "display_data"
        },
        {
          "name": "stdout",
          "output_type": "stream",
          "text": [
            "10.1021/jacs.7b03306\n",
            "10.1021/jav139i014_934127\n",
            "10.1021/jav139i014_934130\n",
            "10.1021/jav139i013_932397\n",
            "10.1021/jav139i013_932331\n",
            "10.1021/jacs.7b02760\n",
            "10.1021/jav139i012_931191\n",
            "10.1021/jav139i012_931118\n",
            "10.1021/jav139i011_929920\n",
            "10.1021/jav139i011_929977\n",
            "10.1021/jacs.7b02376\n",
            "10.1021/jav139i010_928239\n",
            "10.1021/jav139i010_928236\n",
            "10.1021/jav139i009_926744\n",
            "10.1021/jav139i009_926747\n",
            "10.1021/jacs.7b01697\n",
            "10.1021/jav139i008_925000\n",
            "10.1021/jav139i008_924997\n",
            "10.1021/jacs.7b01636\n",
            "10.1021/jav139i007_923446\n",
            "10.1021/jav139i007_923443\n",
            "10.1021/jacs.7b01463\n",
            "10.1021/jav139i006_921775\n",
            "10.1021/jav139i006_921778\n",
            "10.1021/jav139i005_920256\n",
            "10.1021/jav139i005_920360\n",
            "10.1021/jacs.6b11935\n",
            "10.1021/jav139i004_918449\n",
            "10.1021/jacs.7b00661\n",
            "10.1021/jacs.7b00784\n",
            "10.1021/jav139i004_918446\n",
            "10.1021/jacs.7b00389\n",
            "10.1021/jacs.7b00683\n",
            "10.1021/jav139i003_917596\n",
            "10.1021/jav139i003_917593\n",
            "10.1021/jav139i002_916142\n",
            "10.1021/jav139i002_916139\n",
            "10.1021/jacs.7b00069\n",
            "10.1021/jav139i001_914515\n",
            "10.1021/jav139i001_914411\n",
            "10.1021/jav138i051_911660\n",
            "10.1021/jacs.6b12913\n",
            "10.1021/jav138i051_911657\n",
            "10.1021/jacs.6b12818\n",
            "10.1021/jacs.6b12572\n",
            "10.1021/jav138i050_910522\n",
            "10.1021/jav138i050_910519\n",
            "10.1021/jav138i049_908569\n",
            "10.1021/jav138i049_908637\n",
            "10.1021/jacs.6b12458\n",
            "10.1021/jacs.6b12096\n",
            "10.1021/jav138i048_907121\n",
            "10.1021/jav138i048_907124\n",
            "10.1021/jacs.6b11821\n",
            "10.1021/jav138i047_905472\n",
            "10.1021/jav138i047_905475\n",
            "10.1021/jacs.6b11903\n",
            "10.1021/jacs.6b11135\n",
            "10.1021/jav138i046_904768\n",
            "10.1021/jav138i046_904765\n",
            "10.1021/jav138i045_902915\n",
            "10.1021/jacs.6b11713\n",
            "10.1021/jav138i045_902918\n",
            "10.1021/jacs.6b11180\n",
            "10.1021/jav138i044_901525\n",
            "10.1021/jav138i044_901522\n",
            "10.1021/jacs.6b11489\n",
            "10.1021/jav138i043_899761\n",
            "10.1021/jav138i043_899758\n",
            "10.1021/jacs.6b11123\n",
            "10.1021/jav138i042_898601\n",
            "10.1021/jav138i042_898598\n",
            "10.1021/jav138i041_897002\n",
            "10.1021/jav138i041_896999\n",
            "10.1021/jacs.6b10459\n",
            "10.1021/jacs.6b09696\n",
            "10.1021/jacs.6b08103\n",
            "10.1021/jacs.6b09697\n",
            "10.1021/jacs.6b10784\n",
            "10.1021/jacs.6b10284\n",
            "10.1021/jav138i040_895522\n",
            "10.1021/jav138i040_895519\n",
            "10.1021/jacs.6b08468\n",
            "10.1021/jacs.6b09932\n",
            "10.1021/jav138i039_893676\n",
            "10.1021/jav138i039_893743\n",
            "10.1021/jav138i038_892358\n",
            "10.1021/jav138i038_892361\n",
            "10.1021/jacs.6b09354\n",
            "10.1021/jav138i037_891163\n",
            "10.1021/jav138i037_891221\n",
            "10.1021/jacs.6b09689\n",
            "10.1021/jacs.6b09106\n",
            "10.1021/jav138i036_889529\n",
            "10.1021/jav138i036_889526\n",
            "10.1021/jav138i035_887852\n",
            "10.1021/jav138i035_887855\n",
            "10.1021/jav138i034_886054\n",
            "10.1021/jav138i034_886051\n",
            "10.1021/jacs.6b07292\n",
            "10.1021/jav138i033_885258\n",
            "10.1021/jav138i033_885322\n",
            "10.1021/jav138i032_883867\n",
            "10.1021/jav138i032_883805\n",
            "10.1021/jacs.6b08265\n",
            "10.1021/jacs.6b05355\n",
            "10.1021/jav138i031_882404\n",
            "10.1021/jav138i031_882401\n",
            "10.1021/jav138i030_880694\n",
            "10.1021/jav138i030_880697\n",
            "10.1021/jacs.6b07707\n",
            "10.1021/jacs.6b07343\n",
            "10.1021/jav138i029_879529\n",
            "10.1021/jav138i029_879526\n",
            "10.1021/jacs.6b07111\n",
            "10.1021/jav138i028_878296\n",
            "10.1021/jav138i028_878293\n",
            "10.1021/jav138i027_876626\n",
            "10.1021/jav138i027_876629\n",
            "10.1021/jacs.6b06826\n",
            "10.1021/jav138i026_875240\n",
            "10.1021/jav138i026_875237\n",
            "10.1021/jav138i025_873824\n",
            "10.1021/jav138i025_873821\n",
            "10.1021/jacs.6b06395\n",
            "10.1021/jav138i024_872690\n",
            "10.1021/jav138i024_872693\n",
            "10.1021/jacs.6b05393\n",
            "10.1021/jacs.6b05836\n",
            "10.1021/jav138i023_870780\n",
            "10.1021/jav138i023_870783\n",
            "10.1021/jav138i022_869392\n",
            "10.1021/jav138i022_869395\n",
            "10.1021/jav138i021_867732\n",
            "10.1021/jav138i021_867735\n",
            "10.1021/jav138i020_866867\n",
            "10.1021/jav138i020_866870\n",
            "10.1021/jav138i019_865428\n",
            "10.1021/jav138i019_865431\n",
            "10.1021/jav138i018_864142\n",
            "10.1021/jav138i018_864201\n",
            "10.1021/jacs.6b04682\n",
            "10.1021/jav138i017_862501\n",
            "10.1021/jacs.6b03556\n",
            "10.1021/jav138i017_862498\n",
            "10.1021/jacs.6b03576\n",
            "10.1021/jav138i016_815744\n",
            "10.1021/jav138i016_815741\n",
            "10.1021/jav138i015_814484\n",
            "10.1021/jav138i015_814487\n",
            "10.1021/jav138i014_812784\n",
            "10.1021/jav138i014_812787\n",
            "10.1021/jacs.6b03587\n",
            "10.1021/jav138i013_811357\n",
            "10.1021/jav138i013_811354\n",
            "10.1021/jacs.6b03327\n",
            "10.1021/jav138i012_809873\n",
            "10.1021/jav138i012_809870\n",
            "10.1021/jacs.6b02761\n",
            "10.1021/jacs.6b02793\n",
            "10.1021/jav138i011_808753\n",
            "10.1021/jav138i011_808750\n",
            "10.1021/jacs.6b02685\n",
            "10.1021/jav138i010_807402\n",
            "10.1021/jav138i010_807399\n",
            "10.1021/jav138i009_805796\n",
            "10.1021/jav138i009_805799\n",
            "10.1021/jacs.6b02431\n",
            "10.1021/jav138i008_803841\n",
            "10.1021/jav138i008_803844\n",
            "10.1021/jacs.6b01316\n",
            "10.1021/jacs.6b02059\n",
            "10.1021/jav138i007_802800\n"
          ]
        }
      ],
      "source": [
        "import time\n",
        "doi_dict = {} # abstracts dict\n",
        "for doi in tqdm_notebook(df3['DOI'].tolist()[29000:32000]): #choose the numbers of data to parse\n",
        "    time.sleep(1)\n",
        "    try:\n",
        "        d = sch.paper(doi)\n",
        "    except Exception as e:\n",
        "        print(e)\n",
        "    if ('abstract' not in d):\n",
        "        print(doi)\n",
        "    elif (d['abstract'] is None):\n",
        "        print(doi)\n",
        "    else:\n",
        "        doi_dict[doi] = d['abstract']"
      ]
    },
    {
      "cell_type": "code",
      "execution_count": null,
      "metadata": {
        "id": "buTf7vF4y_j7"
      },
      "outputs": [],
      "source": [
        "df_abs = pd.DataFrame({'DOI': list(doi_dict.keys()), 'Abstract': list(doi_dict.values())})"
      ]
    },
    {
      "cell_type": "code",
      "execution_count": null,
      "metadata": {
        "colab": {
          "base_uri": "https://localhost:8080/",
          "height": 419
        },
        "id": "0e3T10h6zCfh",
        "outputId": "00ea1891-0da2-4d11-e56d-949aec8cefb1"
      },
      "outputs": [
        {
          "output_type": "execute_result",
          "data": {
            "text/plain": [
              "                       DOI                                           Abstract\n",
              "0     10.1021/jacs.7b02742  Nickel-catalyzed addition of arylboron reagent...\n",
              "1     10.1021/jacs.6b12887  Mechanistic insight into how polycations disru...\n",
              "2     10.1021/jacs.7b02561  Asymmetric total synthesis of structurally int...\n",
              "3     10.1021/jacs.7b01763  Lithium metal is a promising battery anode. Ho...\n",
              "4     10.1021/jacs.7b00474  The potential of rising two-dimensional materi...\n",
              "...                    ...                                                ...\n",
              "2822  10.1021/jacs.5b11990  The aryl to vinyl palladium 1,4-migration was ...\n",
              "2823  10.1021/jacs.5b11012  Protein structures which form fibrils have rec...\n",
              "2824  10.1021/jacs.6b00436  A beryllium-free deep-ultraviolet (deep-UV) no...\n",
              "2825  10.1021/jacs.6b00538  A series of p-terphenyl-based macrocycles, con...\n",
              "2826  10.1021/jacs.5b12687  Trioxacarcins DC-45-A2, DC-45-A1, A, D, C7″-ep...\n",
              "\n",
              "[2827 rows x 2 columns]"
            ],
            "text/html": [
              "\n",
              "  <div id=\"df-25e37483-e6b5-4890-b575-dabe8c7186ae\">\n",
              "    <div class=\"colab-df-container\">\n",
              "      <div>\n",
              "<style scoped>\n",
              "    .dataframe tbody tr th:only-of-type {\n",
              "        vertical-align: middle;\n",
              "    }\n",
              "\n",
              "    .dataframe tbody tr th {\n",
              "        vertical-align: top;\n",
              "    }\n",
              "\n",
              "    .dataframe thead th {\n",
              "        text-align: right;\n",
              "    }\n",
              "</style>\n",
              "<table border=\"1\" class=\"dataframe\">\n",
              "  <thead>\n",
              "    <tr style=\"text-align: right;\">\n",
              "      <th></th>\n",
              "      <th>DOI</th>\n",
              "      <th>Abstract</th>\n",
              "    </tr>\n",
              "  </thead>\n",
              "  <tbody>\n",
              "    <tr>\n",
              "      <th>0</th>\n",
              "      <td>10.1021/jacs.7b02742</td>\n",
              "      <td>Nickel-catalyzed addition of arylboron reagent...</td>\n",
              "    </tr>\n",
              "    <tr>\n",
              "      <th>1</th>\n",
              "      <td>10.1021/jacs.6b12887</td>\n",
              "      <td>Mechanistic insight into how polycations disru...</td>\n",
              "    </tr>\n",
              "    <tr>\n",
              "      <th>2</th>\n",
              "      <td>10.1021/jacs.7b02561</td>\n",
              "      <td>Asymmetric total synthesis of structurally int...</td>\n",
              "    </tr>\n",
              "    <tr>\n",
              "      <th>3</th>\n",
              "      <td>10.1021/jacs.7b01763</td>\n",
              "      <td>Lithium metal is a promising battery anode. Ho...</td>\n",
              "    </tr>\n",
              "    <tr>\n",
              "      <th>4</th>\n",
              "      <td>10.1021/jacs.7b00474</td>\n",
              "      <td>The potential of rising two-dimensional materi...</td>\n",
              "    </tr>\n",
              "    <tr>\n",
              "      <th>...</th>\n",
              "      <td>...</td>\n",
              "      <td>...</td>\n",
              "    </tr>\n",
              "    <tr>\n",
              "      <th>2822</th>\n",
              "      <td>10.1021/jacs.5b11990</td>\n",
              "      <td>The aryl to vinyl palladium 1,4-migration was ...</td>\n",
              "    </tr>\n",
              "    <tr>\n",
              "      <th>2823</th>\n",
              "      <td>10.1021/jacs.5b11012</td>\n",
              "      <td>Protein structures which form fibrils have rec...</td>\n",
              "    </tr>\n",
              "    <tr>\n",
              "      <th>2824</th>\n",
              "      <td>10.1021/jacs.6b00436</td>\n",
              "      <td>A beryllium-free deep-ultraviolet (deep-UV) no...</td>\n",
              "    </tr>\n",
              "    <tr>\n",
              "      <th>2825</th>\n",
              "      <td>10.1021/jacs.6b00538</td>\n",
              "      <td>A series of p-terphenyl-based macrocycles, con...</td>\n",
              "    </tr>\n",
              "    <tr>\n",
              "      <th>2826</th>\n",
              "      <td>10.1021/jacs.5b12687</td>\n",
              "      <td>Trioxacarcins DC-45-A2, DC-45-A1, A, D, C7″-ep...</td>\n",
              "    </tr>\n",
              "  </tbody>\n",
              "</table>\n",
              "<p>2827 rows × 2 columns</p>\n",
              "</div>\n",
              "      <button class=\"colab-df-convert\" onclick=\"convertToInteractive('df-25e37483-e6b5-4890-b575-dabe8c7186ae')\"\n",
              "              title=\"Convert this dataframe to an interactive table.\"\n",
              "              style=\"display:none;\">\n",
              "        \n",
              "  <svg xmlns=\"http://www.w3.org/2000/svg\" height=\"24px\"viewBox=\"0 0 24 24\"\n",
              "       width=\"24px\">\n",
              "    <path d=\"M0 0h24v24H0V0z\" fill=\"none\"/>\n",
              "    <path d=\"M18.56 5.44l.94 2.06.94-2.06 2.06-.94-2.06-.94-.94-2.06-.94 2.06-2.06.94zm-11 1L8.5 8.5l.94-2.06 2.06-.94-2.06-.94L8.5 2.5l-.94 2.06-2.06.94zm10 10l.94 2.06.94-2.06 2.06-.94-2.06-.94-.94-2.06-.94 2.06-2.06.94z\"/><path d=\"M17.41 7.96l-1.37-1.37c-.4-.4-.92-.59-1.43-.59-.52 0-1.04.2-1.43.59L10.3 9.45l-7.72 7.72c-.78.78-.78 2.05 0 2.83L4 21.41c.39.39.9.59 1.41.59.51 0 1.02-.2 1.41-.59l7.78-7.78 2.81-2.81c.8-.78.8-2.07 0-2.86zM5.41 20L4 18.59l7.72-7.72 1.47 1.35L5.41 20z\"/>\n",
              "  </svg>\n",
              "      </button>\n",
              "      \n",
              "  <style>\n",
              "    .colab-df-container {\n",
              "      display:flex;\n",
              "      flex-wrap:wrap;\n",
              "      gap: 12px;\n",
              "    }\n",
              "\n",
              "    .colab-df-convert {\n",
              "      background-color: #E8F0FE;\n",
              "      border: none;\n",
              "      border-radius: 50%;\n",
              "      cursor: pointer;\n",
              "      display: none;\n",
              "      fill: #1967D2;\n",
              "      height: 32px;\n",
              "      padding: 0 0 0 0;\n",
              "      width: 32px;\n",
              "    }\n",
              "\n",
              "    .colab-df-convert:hover {\n",
              "      background-color: #E2EBFA;\n",
              "      box-shadow: 0px 1px 2px rgba(60, 64, 67, 0.3), 0px 1px 3px 1px rgba(60, 64, 67, 0.15);\n",
              "      fill: #174EA6;\n",
              "    }\n",
              "\n",
              "    [theme=dark] .colab-df-convert {\n",
              "      background-color: #3B4455;\n",
              "      fill: #D2E3FC;\n",
              "    }\n",
              "\n",
              "    [theme=dark] .colab-df-convert:hover {\n",
              "      background-color: #434B5C;\n",
              "      box-shadow: 0px 1px 3px 1px rgba(0, 0, 0, 0.15);\n",
              "      filter: drop-shadow(0px 1px 2px rgba(0, 0, 0, 0.3));\n",
              "      fill: #FFFFFF;\n",
              "    }\n",
              "  </style>\n",
              "\n",
              "      <script>\n",
              "        const buttonEl =\n",
              "          document.querySelector('#df-25e37483-e6b5-4890-b575-dabe8c7186ae button.colab-df-convert');\n",
              "        buttonEl.style.display =\n",
              "          google.colab.kernel.accessAllowed ? 'block' : 'none';\n",
              "\n",
              "        async function convertToInteractive(key) {\n",
              "          const element = document.querySelector('#df-25e37483-e6b5-4890-b575-dabe8c7186ae');\n",
              "          const dataTable =\n",
              "            await google.colab.kernel.invokeFunction('convertToInteractive',\n",
              "                                                     [key], {});\n",
              "          if (!dataTable) return;\n",
              "\n",
              "          const docLinkHtml = 'Like what you see? Visit the ' +\n",
              "            '<a target=\"_blank\" href=https://colab.research.google.com/notebooks/data_table.ipynb>data table notebook</a>'\n",
              "            + ' to learn more about interactive tables.';\n",
              "          element.innerHTML = '';\n",
              "          dataTable['output_type'] = 'display_data';\n",
              "          await google.colab.output.renderOutput(dataTable, element);\n",
              "          const docLink = document.createElement('div');\n",
              "          docLink.innerHTML = docLinkHtml;\n",
              "          element.appendChild(docLink);\n",
              "        }\n",
              "      </script>\n",
              "    </div>\n",
              "  </div>\n",
              "  "
            ]
          },
          "metadata": {},
          "execution_count": 18
        }
      ],
      "source": [
        "df_abs"
      ]
    },
    {
      "cell_type": "code",
      "execution_count": null,
      "metadata": {
        "id": "GAta9RA3zEn9"
      },
      "outputs": [],
      "source": [
        "from google.colab import files"
      ]
    },
    {
      "cell_type": "markdown",
      "metadata": {
        "id": "g-eDlluiziTV"
      },
      "source": [
        "And now we need to save downloaded data "
      ]
    },
    {
      "cell_type": "code",
      "execution_count": null,
      "metadata": {
        "colab": {
          "base_uri": "https://localhost:8080/",
          "height": 17
        },
        "id": "1oXVyURazGh7",
        "outputId": "e5909848-171f-4389-84c7-2349292a03fa"
      },
      "outputs": [
        {
          "output_type": "display_data",
          "data": {
            "text/plain": [
              "<IPython.core.display.Javascript object>"
            ],
            "application/javascript": [
              "\n",
              "    async function download(id, filename, size) {\n",
              "      if (!google.colab.kernel.accessAllowed) {\n",
              "        return;\n",
              "      }\n",
              "      const div = document.createElement('div');\n",
              "      const label = document.createElement('label');\n",
              "      label.textContent = `Downloading \"${filename}\": `;\n",
              "      div.appendChild(label);\n",
              "      const progress = document.createElement('progress');\n",
              "      progress.max = size;\n",
              "      div.appendChild(progress);\n",
              "      document.body.appendChild(div);\n",
              "\n",
              "      const buffers = [];\n",
              "      let downloaded = 0;\n",
              "\n",
              "      const channel = await google.colab.kernel.comms.open(id);\n",
              "      // Send a message to notify the kernel that we're ready.\n",
              "      channel.send({})\n",
              "\n",
              "      for await (const message of channel.messages) {\n",
              "        // Send a message to notify the kernel that we're ready.\n",
              "        channel.send({})\n",
              "        if (message.buffers) {\n",
              "          for (const buffer of message.buffers) {\n",
              "            buffers.push(buffer);\n",
              "            downloaded += buffer.byteLength;\n",
              "            progress.value = downloaded;\n",
              "          }\n",
              "        }\n",
              "      }\n",
              "      const blob = new Blob(buffers, {type: 'application/binary'});\n",
              "      const a = document.createElement('a');\n",
              "      a.href = window.URL.createObjectURL(blob);\n",
              "      a.download = filename;\n",
              "      div.appendChild(a);\n",
              "      a.click();\n",
              "      div.remove();\n",
              "    }\n",
              "  "
            ]
          },
          "metadata": {}
        },
        {
          "output_type": "display_data",
          "data": {
            "text/plain": [
              "<IPython.core.display.Javascript object>"
            ],
            "application/javascript": [
              "download(\"download_d49cd4f5-3523-4a0a-a9a5-e5b9db2cb473\", \"abstracts_53.csv\", 3268532)"
            ]
          },
          "metadata": {}
        }
      ],
      "source": [
        "df_abs.to_csv('abstracts_53.csv', encoding = 'utf-8-sig') \n",
        "files.download('abstracts_53.csv')"
      ]
    }
  ],
  "metadata": {
    "accelerator": "GPU",
    "colab": {
      "collapsed_sections": [],
      "machine_shape": "hm",
      "provenance": []
    },
    "kernelspec": {
      "display_name": "Python 3",
      "name": "python3"
    },
    "language_info": {
      "name": "python"
    },
    "widgets": {
      "application/vnd.jupyter.widget-state+json": {
        "2d5dab9a74404f958b12baa9dd32a956": {
          "model_module": "@jupyter-widgets/controls",
          "model_module_version": "1.5.0",
          "model_name": "HTMLModel",
          "state": {
            "_dom_classes": [],
            "_model_module": "@jupyter-widgets/controls",
            "_model_module_version": "1.5.0",
            "_model_name": "HTMLModel",
            "_view_count": null,
            "_view_module": "@jupyter-widgets/controls",
            "_view_module_version": "1.5.0",
            "_view_name": "HTMLView",
            "description": "",
            "description_tooltip": null,
            "layout": "IPY_MODEL_ccc784b2199a453f998c87a25086c771",
            "placeholder": "​",
            "style": "IPY_MODEL_bffe8e2311484d268bc11d39ef525f13",
            "value": " 2947/3000 [1:31:42&lt;01:42,  1.94s/it]"
          }
        },
        "42fde7998d18481fa32039792cb38eab": {
          "model_module": "@jupyter-widgets/controls",
          "model_module_version": "1.5.0",
          "model_name": "HTMLModel",
          "state": {
            "_dom_classes": [],
            "_model_module": "@jupyter-widgets/controls",
            "_model_module_version": "1.5.0",
            "_model_name": "HTMLModel",
            "_view_count": null,
            "_view_module": "@jupyter-widgets/controls",
            "_view_module_version": "1.5.0",
            "_view_name": "HTMLView",
            "description": "",
            "description_tooltip": null,
            "layout": "IPY_MODEL_60d8aecb13fd4904a107ab2181e05e81",
            "placeholder": "​",
            "style": "IPY_MODEL_7d76fb52e0914785b33f23ca64bf9110",
            "value": " 98%"
          }
        },
        "4f6ed9e0ab1345e893adc2dccac9f8e9": {
          "model_module": "@jupyter-widgets/controls",
          "model_module_version": "1.5.0",
          "model_name": "HBoxModel",
          "state": {
            "_dom_classes": [],
            "_model_module": "@jupyter-widgets/controls",
            "_model_module_version": "1.5.0",
            "_model_name": "HBoxModel",
            "_view_count": null,
            "_view_module": "@jupyter-widgets/controls",
            "_view_module_version": "1.5.0",
            "_view_name": "HBoxView",
            "box_style": "",
            "children": [
              "IPY_MODEL_42fde7998d18481fa32039792cb38eab",
              "IPY_MODEL_7e2df6c702fe4d8489e86228c03b2dcc",
              "IPY_MODEL_2d5dab9a74404f958b12baa9dd32a956"
            ],
            "layout": "IPY_MODEL_efd26c118c0644f59cdfb0c596b73633"
          }
        },
        "5b025f966c1d4ee5b6d9b7aa3f446b3b": {
          "model_module": "@jupyter-widgets/base",
          "model_module_version": "1.2.0",
          "model_name": "LayoutModel",
          "state": {
            "_model_module": "@jupyter-widgets/base",
            "_model_module_version": "1.2.0",
            "_model_name": "LayoutModel",
            "_view_count": null,
            "_view_module": "@jupyter-widgets/base",
            "_view_module_version": "1.2.0",
            "_view_name": "LayoutView",
            "align_content": null,
            "align_items": null,
            "align_self": null,
            "border": null,
            "bottom": null,
            "display": null,
            "flex": null,
            "flex_flow": null,
            "grid_area": null,
            "grid_auto_columns": null,
            "grid_auto_flow": null,
            "grid_auto_rows": null,
            "grid_column": null,
            "grid_gap": null,
            "grid_row": null,
            "grid_template_areas": null,
            "grid_template_columns": null,
            "grid_template_rows": null,
            "height": null,
            "justify_content": null,
            "justify_items": null,
            "left": null,
            "margin": null,
            "max_height": null,
            "max_width": null,
            "min_height": null,
            "min_width": null,
            "object_fit": null,
            "object_position": null,
            "order": null,
            "overflow": null,
            "overflow_x": null,
            "overflow_y": null,
            "padding": null,
            "right": null,
            "top": null,
            "visibility": null,
            "width": null
          }
        },
        "60d8aecb13fd4904a107ab2181e05e81": {
          "model_module": "@jupyter-widgets/base",
          "model_module_version": "1.2.0",
          "model_name": "LayoutModel",
          "state": {
            "_model_module": "@jupyter-widgets/base",
            "_model_module_version": "1.2.0",
            "_model_name": "LayoutModel",
            "_view_count": null,
            "_view_module": "@jupyter-widgets/base",
            "_view_module_version": "1.2.0",
            "_view_name": "LayoutView",
            "align_content": null,
            "align_items": null,
            "align_self": null,
            "border": null,
            "bottom": null,
            "display": null,
            "flex": null,
            "flex_flow": null,
            "grid_area": null,
            "grid_auto_columns": null,
            "grid_auto_flow": null,
            "grid_auto_rows": null,
            "grid_column": null,
            "grid_gap": null,
            "grid_row": null,
            "grid_template_areas": null,
            "grid_template_columns": null,
            "grid_template_rows": null,
            "height": null,
            "justify_content": null,
            "justify_items": null,
            "left": null,
            "margin": null,
            "max_height": null,
            "max_width": null,
            "min_height": null,
            "min_width": null,
            "object_fit": null,
            "object_position": null,
            "order": null,
            "overflow": null,
            "overflow_x": null,
            "overflow_y": null,
            "padding": null,
            "right": null,
            "top": null,
            "visibility": null,
            "width": null
          }
        },
        "75b9a7f334664f49968de419d2a5181e": {
          "model_module": "@jupyter-widgets/controls",
          "model_module_version": "1.5.0",
          "model_name": "ProgressStyleModel",
          "state": {
            "_model_module": "@jupyter-widgets/controls",
            "_model_module_version": "1.5.0",
            "_model_name": "ProgressStyleModel",
            "_view_count": null,
            "_view_module": "@jupyter-widgets/base",
            "_view_module_version": "1.2.0",
            "_view_name": "StyleView",
            "bar_color": null,
            "description_width": ""
          }
        },
        "7d76fb52e0914785b33f23ca64bf9110": {
          "model_module": "@jupyter-widgets/controls",
          "model_module_version": "1.5.0",
          "model_name": "DescriptionStyleModel",
          "state": {
            "_model_module": "@jupyter-widgets/controls",
            "_model_module_version": "1.5.0",
            "_model_name": "DescriptionStyleModel",
            "_view_count": null,
            "_view_module": "@jupyter-widgets/base",
            "_view_module_version": "1.2.0",
            "_view_name": "StyleView",
            "description_width": ""
          }
        },
        "7e2df6c702fe4d8489e86228c03b2dcc": {
          "model_module": "@jupyter-widgets/controls",
          "model_module_version": "1.5.0",
          "model_name": "FloatProgressModel",
          "state": {
            "_dom_classes": [],
            "_model_module": "@jupyter-widgets/controls",
            "_model_module_version": "1.5.0",
            "_model_name": "FloatProgressModel",
            "_view_count": null,
            "_view_module": "@jupyter-widgets/controls",
            "_view_module_version": "1.5.0",
            "_view_name": "ProgressView",
            "bar_style": "",
            "description": "",
            "description_tooltip": null,
            "layout": "IPY_MODEL_5b025f966c1d4ee5b6d9b7aa3f446b3b",
            "max": 3000,
            "min": 0,
            "orientation": "horizontal",
            "style": "IPY_MODEL_75b9a7f334664f49968de419d2a5181e",
            "value": 2948
          }
        },
        "bffe8e2311484d268bc11d39ef525f13": {
          "model_module": "@jupyter-widgets/controls",
          "model_module_version": "1.5.0",
          "model_name": "DescriptionStyleModel",
          "state": {
            "_model_module": "@jupyter-widgets/controls",
            "_model_module_version": "1.5.0",
            "_model_name": "DescriptionStyleModel",
            "_view_count": null,
            "_view_module": "@jupyter-widgets/base",
            "_view_module_version": "1.2.0",
            "_view_name": "StyleView",
            "description_width": ""
          }
        },
        "ccc784b2199a453f998c87a25086c771": {
          "model_module": "@jupyter-widgets/base",
          "model_module_version": "1.2.0",
          "model_name": "LayoutModel",
          "state": {
            "_model_module": "@jupyter-widgets/base",
            "_model_module_version": "1.2.0",
            "_model_name": "LayoutModel",
            "_view_count": null,
            "_view_module": "@jupyter-widgets/base",
            "_view_module_version": "1.2.0",
            "_view_name": "LayoutView",
            "align_content": null,
            "align_items": null,
            "align_self": null,
            "border": null,
            "bottom": null,
            "display": null,
            "flex": null,
            "flex_flow": null,
            "grid_area": null,
            "grid_auto_columns": null,
            "grid_auto_flow": null,
            "grid_auto_rows": null,
            "grid_column": null,
            "grid_gap": null,
            "grid_row": null,
            "grid_template_areas": null,
            "grid_template_columns": null,
            "grid_template_rows": null,
            "height": null,
            "justify_content": null,
            "justify_items": null,
            "left": null,
            "margin": null,
            "max_height": null,
            "max_width": null,
            "min_height": null,
            "min_width": null,
            "object_fit": null,
            "object_position": null,
            "order": null,
            "overflow": null,
            "overflow_x": null,
            "overflow_y": null,
            "padding": null,
            "right": null,
            "top": null,
            "visibility": null,
            "width": null
          }
        },
        "efd26c118c0644f59cdfb0c596b73633": {
          "model_module": "@jupyter-widgets/base",
          "model_module_version": "1.2.0",
          "model_name": "LayoutModel",
          "state": {
            "_model_module": "@jupyter-widgets/base",
            "_model_module_version": "1.2.0",
            "_model_name": "LayoutModel",
            "_view_count": null,
            "_view_module": "@jupyter-widgets/base",
            "_view_module_version": "1.2.0",
            "_view_name": "LayoutView",
            "align_content": null,
            "align_items": null,
            "align_self": null,
            "border": null,
            "bottom": null,
            "display": null,
            "flex": null,
            "flex_flow": null,
            "grid_area": null,
            "grid_auto_columns": null,
            "grid_auto_flow": null,
            "grid_auto_rows": null,
            "grid_column": null,
            "grid_gap": null,
            "grid_row": null,
            "grid_template_areas": null,
            "grid_template_columns": null,
            "grid_template_rows": null,
            "height": null,
            "justify_content": null,
            "justify_items": null,
            "left": null,
            "margin": null,
            "max_height": null,
            "max_width": null,
            "min_height": null,
            "min_width": null,
            "object_fit": null,
            "object_position": null,
            "order": null,
            "overflow": null,
            "overflow_x": null,
            "overflow_y": null,
            "padding": null,
            "right": null,
            "top": null,
            "visibility": null,
            "width": null
          }
        }
      }
    }
  },
  "nbformat": 4,
  "nbformat_minor": 0
}